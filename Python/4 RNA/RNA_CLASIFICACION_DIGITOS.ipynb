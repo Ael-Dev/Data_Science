{
  "nbformat": 4,
  "nbformat_minor": 0,
  "metadata": {
    "colab": {
      "provenance": [],
      "toc_visible": true
    },
    "kernelspec": {
      "name": "python3",
      "display_name": "Python 3"
    },
    "language_info": {
      "name": "python"
    }
  },
  "cells": [
    {
      "cell_type": "markdown",
      "source": [
        "# RNA MULTICAPA DE 3 CAPAS\n",
        " - capa de entrada\n",
        " - 1 capa oculta\n",
        " - capa de salida)"
      ],
      "metadata": {
        "id": "EHSfLFNsXq3N"
      }
    },
    {
      "cell_type": "markdown",
      "source": [
        "## importar librerias"
      ],
      "metadata": {
        "id": "E_oRcvq9Wpg9"
      }
    },
    {
      "cell_type": "code",
      "execution_count": null,
      "metadata": {
        "id": "MrT-hb74iZ70"
      },
      "outputs": [],
      "source": [
        "import numpy as np\n",
        "import matplotlib.pyplot as plt\n",
        "import math"
      ]
    },
    {
      "cell_type": "markdown",
      "source": [
        "## funcion de activacion"
      ],
      "metadata": {
        "id": "O3DT-CilAd6D"
      }
    },
    {
      "cell_type": "code",
      "source": [
        "def func_activacion(n):\n",
        "  return 1/(1+math.exp(-n))   "
      ],
      "metadata": {
        "id": "11dojOuDinVy"
      },
      "execution_count": null,
      "outputs": []
    },
    {
      "cell_type": "code",
      "source": [
        "func_activacion_vect = np.vectorize(func_activacion)"
      ],
      "metadata": {
        "id": "ET28xx8EkwFN"
      },
      "execution_count": null,
      "outputs": []
    },
    {
      "cell_type": "markdown",
      "source": [
        "## RNA"
      ],
      "metadata": {
        "id": "qe8TsxnGkjk3"
      }
    },
    {
      "cell_type": "code",
      "source": [
        "def neurona(pesos,entrada, bias):\n",
        "  prod_punto = np.dot(pesos,entrada)+bias # z = W.X + b\n",
        "  return func_activacion_vect(prod_punto) # f(z)"
      ],
      "metadata": {
        "id": "wiIEOE02lpk9"
      },
      "execution_count": null,
      "outputs": []
    },
    {
      "cell_type": "markdown",
      "source": [
        "## RNA Multicapa"
      ],
      "metadata": {
        "id": "IUHZSWzlWwOS"
      }
    },
    {
      "cell_type": "code",
      "source": [
        "def red_neuronal_multicapa(input, pesosc1, biasc1, pesoscs, biascs):\n",
        "  # Capa entrada \n",
        "  entrada_x = input\n",
        "  # Capa oculta 1\n",
        "  salida_c1 = neurona(pesosc1, entrada_x, biasc1)\n",
        "  # Capa de SALIDA\n",
        "  output_cs = neurona(pesoscs, salida_c1, biascs)\n",
        "  # Retornar resultados  \n",
        "  return salida_c1, output_cs"
      ],
      "metadata": {
        "id": "v3YfgYq2eR35"
      },
      "execution_count": null,
      "outputs": []
    },
    {
      "cell_type": "markdown",
      "source": [
        "## derivada de la funcion"
      ],
      "metadata": {
        "id": "Wxvrmpa6Azyn"
      }
    },
    {
      "cell_type": "code",
      "source": [
        "def derivada_f(salida_y): # derivada de la funcion sigmoide\n",
        "  return salida_y*(1-salida_y)"
      ],
      "metadata": {
        "id": "t7SPscfAoKBs"
      },
      "execution_count": null,
      "outputs": []
    },
    {
      "cell_type": "code",
      "source": [
        "def adjust_output(output_wish,size,ExistZero):\n",
        "  SD = np.zeros(size) # vector con el nro de neuronas \n",
        "  if ExistZero == True:\n",
        "    SD[output_wish] = 1\n",
        "  else:\n",
        "    SD[output_wish - 1] = 1\n",
        "  return SD"
      ],
      "metadata": {
        "id": "mhfnzKGRWYDC"
      },
      "execution_count": null,
      "outputs": []
    },
    {
      "cell_type": "markdown",
      "source": [
        "## backpropagation"
      ],
      "metadata": {
        "id": "thKsG3LQA7X_"
      }
    },
    {
      "cell_type": "code",
      "source": [
        "def propagacion_hacia_atras(entradas,salidas_deseadas,alfa,neuronas_c1,neuronas_cs,error=0.005,epochs=1000):\n",
        "  flag = True if 0 in salidas_deseadas.unique() else False\n",
        "  # longitud de la entrada(caracteristicas)\n",
        "  n_entradas = entradas.shape[1]\n",
        "\n",
        "  # Capa oculta 1\n",
        "  pesosc1 = 2*np.random.rand(neuronas_c1,n_entradas) -1   # filas: nro neuronas x capa, col = nro inputs que recibe la neurona\n",
        "  biasc1 = 2*np.random.rand(neuronas_c1)-1\n",
        "  # Capa de salida\n",
        "  pesoscs = 2*np.random.rand(neuronas_cs,neuronas_c1) - 1 # filas: nro neuronas x capa, col = nro inputs que recibe la neurona\n",
        "  biascs = 2*np.random.rand(neuronas_cs) - 1\n",
        "\n",
        "  # Iterar el algoritmo(nro de epocas)\n",
        "  for epoch in range(0,epochs):\n",
        "    # Evaluar los patrones(para c/entrada y salida) respectivamente\n",
        "    for entrada_i,salida_deseada_i in zip(entradas,salidas_deseadas):\n",
        "      # Predecir usando la red neuronal\n",
        "      salida_c1, output_cs = red_neuronal_multicapa(entrada_i, pesosc1, biasc1, pesoscs, biascs)\n",
        "\n",
        "      # Calcular los errores producidos en cada capa de forma invertida(retropropagacion) y actualizar pesos\n",
        "      # ----------------------------------------------------------------------------------------------------\n",
        "      salida_deseada = adjust_output(salida_deseada_i,neuronas_cs,flag)\n",
        "      # Calcular Δ para la CAPA de SALIDA(cs): \n",
        "      # Δ Salida_Y = f'(Salida_Y) * (salidaY_Deseada - Salida_Y) \n",
        "      # F' de la func sigmoide: f'(Salida_Y) = Salida_Y * (1 - Salida_Y)\n",
        "      delta_cs = derivada_f(output_cs)*(salida_deseada - output_cs)\n",
        "      peso_anterior_cs = pesoscs\n",
        "      \n",
        "      # Actualizar pesos que llegan a la capa de SALIDA\n",
        "      # W = W_ingresan_a_las_ncs + alfa*Salida_y(capa anterior)*Δ_cs\n",
        "      pesoscs = pesoscs + alfa * delta_cs.reshape(1,-1).T * salida_c1.reshape(1,-1) \n",
        "      biascs = biascs + alfa * delta_cs*1   # b = b + alfa*Δ\n",
        "\n",
        "      # Calcular Δ para la CAPA OCULTA 1 (pesosc1):      \n",
        "      # Δ Salida_Y = f'(Salida_Y) * (W_entran_c1 * ΔSalida_CS)\n",
        "      delta_c1 = derivada_f(salida_c1) * np.dot(peso_anterior_cs.T, delta_cs) \n",
        "      \n",
        "      # Actualizar pesos  que entran a las neuronas de la capa oculta 1\n",
        "      # W = W_ingresan_a_las_ncs + alfa*Salida_y(capa anterior)*Δ_c1\n",
        "      pesosc1 = pesosc1 + alfa * (delta_c1.reshape(1,-1)*entrada_i.reshape(1,-1).T).T \n",
        "      biasc1 = biasc1 + alfa * delta_c1 * 1  # b = b + alfa*Δ_c1\n",
        "      \n",
        "  return pesosc1,biasc1,pesoscs,biascs "
      ],
      "metadata": {
        "id": "q55noOk9CYu_"
      },
      "execution_count": null,
      "outputs": []
    },
    {
      "cell_type": "markdown",
      "source": [
        "## fit RNA"
      ],
      "metadata": {
        "id": "xWSdAo08BBOg"
      }
    },
    {
      "cell_type": "code",
      "source": [
        "def fit_rna(entradas,salidas_deseadas,alfa,neuronas_c1,neuronas_cs,error,epochs):\n",
        "  pesosc1,biasc1,pesoscs,biascs = propagacion_hacia_atras(entradas,salidas_deseadas,alfa,neuronas_c1,neuronas_cs,error,epochs)\n",
        "  return pesosc1,biasc1,pesoscs,biascs\n"
      ],
      "metadata": {
        "id": "PlZySFOzIrbR"
      },
      "execution_count": null,
      "outputs": []
    },
    {
      "cell_type": "markdown",
      "source": [
        "## predict RNA"
      ],
      "metadata": {
        "id": "11vLq6PEOsq8"
      }
    },
    {
      "cell_type": "code",
      "source": [
        "def predict_rna(x_test, valores_obtenidos):\n",
        "  pesosc1,biasc1,pesoscs,biascs = valores_obtenidos[0],valores_obtenidos[1],valores_obtenidos[2],valores_obtenidos[3]\n",
        "  y_predict_list = []\n",
        "  for entrada in x_test:\n",
        "    salida_c1, output_cs = red_neuronal_multicapa(entrada, pesosc1,biasc1,pesoscs,biascs)\n",
        "    y_predict_list.append(output_cs)\n",
        "  return y_predict_list"
      ],
      "metadata": {
        "id": "6gzjRA-YJr8v"
      },
      "execution_count": null,
      "outputs": []
    },
    {
      "cell_type": "markdown",
      "source": [
        "# DETECCION DE DIGITOS"
      ],
      "metadata": {
        "id": "A48XG37eYbU_"
      }
    },
    {
      "cell_type": "code",
      "source": [
        "import pandas as pd\n",
        "import seaborn as sns\n",
        "from sklearn.model_selection import train_test_split\n",
        "from sklearn import preprocessing\n",
        "from sklearn.metrics import classification_report, confusion_matrix"
      ],
      "metadata": {
        "id": "oQHnCCTPZaiK"
      },
      "execution_count": null,
      "outputs": []
    },
    {
      "cell_type": "markdown",
      "source": [
        "# digitos"
      ],
      "metadata": {
        "id": "Nn3V6kxMtINn"
      }
    },
    {
      "cell_type": "code",
      "source": [
        "df = pd.read_csv(\"digito8x8.csv\")\n",
        "df.head()"
      ],
      "metadata": {
        "colab": {
          "base_uri": "https://localhost:8080/",
          "height": 236
        },
        "id": "kdGaJWPksVtE",
        "outputId": "0707bf60-05f9-4d45-9988-c2378426c73f"
      },
      "execution_count": null,
      "outputs": [
        {
          "output_type": "execute_result",
          "data": {
            "text/plain": [
              "   P1  P2  P3  P4  P5  P6  P7  P8  P9  P10  ...  P56  P57  P58  P59  P60  P61  \\\n",
              "0   0   1   6  15  12   1   0   0   0    7  ...    0    0    0    6   14    7   \n",
              "1   0   0  10  16   6   0   0   0   0    7  ...    0    0    0   10   16   15   \n",
              "2   0   0   8  15  16  13   0   0   0    1  ...    0    0    0    9   14    0   \n",
              "3   0   0   0   3  11  16   0   0   0    0  ...    0    0    0    0    1   15   \n",
              "4   0   0   5  14   4   0   0   0   0    0  ...    0    0    0    4   12   14   \n",
              "\n",
              "   P62  P63  P64  digito  \n",
              "0    1    0    0       0  \n",
              "1    3    0    0       0  \n",
              "2    0    0    0       7  \n",
              "3    2    0    0       4  \n",
              "4    7    0    0       6  \n",
              "\n",
              "[5 rows x 65 columns]"
            ],
            "text/html": [
              "\n",
              "  <div id=\"df-03e573e0-d07d-42cd-a93a-64591b6bd2f2\">\n",
              "    <div class=\"colab-df-container\">\n",
              "      <div>\n",
              "<style scoped>\n",
              "    .dataframe tbody tr th:only-of-type {\n",
              "        vertical-align: middle;\n",
              "    }\n",
              "\n",
              "    .dataframe tbody tr th {\n",
              "        vertical-align: top;\n",
              "    }\n",
              "\n",
              "    .dataframe thead th {\n",
              "        text-align: right;\n",
              "    }\n",
              "</style>\n",
              "<table border=\"1\" class=\"dataframe\">\n",
              "  <thead>\n",
              "    <tr style=\"text-align: right;\">\n",
              "      <th></th>\n",
              "      <th>P1</th>\n",
              "      <th>P2</th>\n",
              "      <th>P3</th>\n",
              "      <th>P4</th>\n",
              "      <th>P5</th>\n",
              "      <th>P6</th>\n",
              "      <th>P7</th>\n",
              "      <th>P8</th>\n",
              "      <th>P9</th>\n",
              "      <th>P10</th>\n",
              "      <th>...</th>\n",
              "      <th>P56</th>\n",
              "      <th>P57</th>\n",
              "      <th>P58</th>\n",
              "      <th>P59</th>\n",
              "      <th>P60</th>\n",
              "      <th>P61</th>\n",
              "      <th>P62</th>\n",
              "      <th>P63</th>\n",
              "      <th>P64</th>\n",
              "      <th>digito</th>\n",
              "    </tr>\n",
              "  </thead>\n",
              "  <tbody>\n",
              "    <tr>\n",
              "      <th>0</th>\n",
              "      <td>0</td>\n",
              "      <td>1</td>\n",
              "      <td>6</td>\n",
              "      <td>15</td>\n",
              "      <td>12</td>\n",
              "      <td>1</td>\n",
              "      <td>0</td>\n",
              "      <td>0</td>\n",
              "      <td>0</td>\n",
              "      <td>7</td>\n",
              "      <td>...</td>\n",
              "      <td>0</td>\n",
              "      <td>0</td>\n",
              "      <td>0</td>\n",
              "      <td>6</td>\n",
              "      <td>14</td>\n",
              "      <td>7</td>\n",
              "      <td>1</td>\n",
              "      <td>0</td>\n",
              "      <td>0</td>\n",
              "      <td>0</td>\n",
              "    </tr>\n",
              "    <tr>\n",
              "      <th>1</th>\n",
              "      <td>0</td>\n",
              "      <td>0</td>\n",
              "      <td>10</td>\n",
              "      <td>16</td>\n",
              "      <td>6</td>\n",
              "      <td>0</td>\n",
              "      <td>0</td>\n",
              "      <td>0</td>\n",
              "      <td>0</td>\n",
              "      <td>7</td>\n",
              "      <td>...</td>\n",
              "      <td>0</td>\n",
              "      <td>0</td>\n",
              "      <td>0</td>\n",
              "      <td>10</td>\n",
              "      <td>16</td>\n",
              "      <td>15</td>\n",
              "      <td>3</td>\n",
              "      <td>0</td>\n",
              "      <td>0</td>\n",
              "      <td>0</td>\n",
              "    </tr>\n",
              "    <tr>\n",
              "      <th>2</th>\n",
              "      <td>0</td>\n",
              "      <td>0</td>\n",
              "      <td>8</td>\n",
              "      <td>15</td>\n",
              "      <td>16</td>\n",
              "      <td>13</td>\n",
              "      <td>0</td>\n",
              "      <td>0</td>\n",
              "      <td>0</td>\n",
              "      <td>1</td>\n",
              "      <td>...</td>\n",
              "      <td>0</td>\n",
              "      <td>0</td>\n",
              "      <td>0</td>\n",
              "      <td>9</td>\n",
              "      <td>14</td>\n",
              "      <td>0</td>\n",
              "      <td>0</td>\n",
              "      <td>0</td>\n",
              "      <td>0</td>\n",
              "      <td>7</td>\n",
              "    </tr>\n",
              "    <tr>\n",
              "      <th>3</th>\n",
              "      <td>0</td>\n",
              "      <td>0</td>\n",
              "      <td>0</td>\n",
              "      <td>3</td>\n",
              "      <td>11</td>\n",
              "      <td>16</td>\n",
              "      <td>0</td>\n",
              "      <td>0</td>\n",
              "      <td>0</td>\n",
              "      <td>0</td>\n",
              "      <td>...</td>\n",
              "      <td>0</td>\n",
              "      <td>0</td>\n",
              "      <td>0</td>\n",
              "      <td>0</td>\n",
              "      <td>1</td>\n",
              "      <td>15</td>\n",
              "      <td>2</td>\n",
              "      <td>0</td>\n",
              "      <td>0</td>\n",
              "      <td>4</td>\n",
              "    </tr>\n",
              "    <tr>\n",
              "      <th>4</th>\n",
              "      <td>0</td>\n",
              "      <td>0</td>\n",
              "      <td>5</td>\n",
              "      <td>14</td>\n",
              "      <td>4</td>\n",
              "      <td>0</td>\n",
              "      <td>0</td>\n",
              "      <td>0</td>\n",
              "      <td>0</td>\n",
              "      <td>0</td>\n",
              "      <td>...</td>\n",
              "      <td>0</td>\n",
              "      <td>0</td>\n",
              "      <td>0</td>\n",
              "      <td>4</td>\n",
              "      <td>12</td>\n",
              "      <td>14</td>\n",
              "      <td>7</td>\n",
              "      <td>0</td>\n",
              "      <td>0</td>\n",
              "      <td>6</td>\n",
              "    </tr>\n",
              "  </tbody>\n",
              "</table>\n",
              "<p>5 rows × 65 columns</p>\n",
              "</div>\n",
              "      <button class=\"colab-df-convert\" onclick=\"convertToInteractive('df-03e573e0-d07d-42cd-a93a-64591b6bd2f2')\"\n",
              "              title=\"Convert this dataframe to an interactive table.\"\n",
              "              style=\"display:none;\">\n",
              "        \n",
              "  <svg xmlns=\"http://www.w3.org/2000/svg\" height=\"24px\"viewBox=\"0 0 24 24\"\n",
              "       width=\"24px\">\n",
              "    <path d=\"M0 0h24v24H0V0z\" fill=\"none\"/>\n",
              "    <path d=\"M18.56 5.44l.94 2.06.94-2.06 2.06-.94-2.06-.94-.94-2.06-.94 2.06-2.06.94zm-11 1L8.5 8.5l.94-2.06 2.06-.94-2.06-.94L8.5 2.5l-.94 2.06-2.06.94zm10 10l.94 2.06.94-2.06 2.06-.94-2.06-.94-.94-2.06-.94 2.06-2.06.94z\"/><path d=\"M17.41 7.96l-1.37-1.37c-.4-.4-.92-.59-1.43-.59-.52 0-1.04.2-1.43.59L10.3 9.45l-7.72 7.72c-.78.78-.78 2.05 0 2.83L4 21.41c.39.39.9.59 1.41.59.51 0 1.02-.2 1.41-.59l7.78-7.78 2.81-2.81c.8-.78.8-2.07 0-2.86zM5.41 20L4 18.59l7.72-7.72 1.47 1.35L5.41 20z\"/>\n",
              "  </svg>\n",
              "      </button>\n",
              "      \n",
              "  <style>\n",
              "    .colab-df-container {\n",
              "      display:flex;\n",
              "      flex-wrap:wrap;\n",
              "      gap: 12px;\n",
              "    }\n",
              "\n",
              "    .colab-df-convert {\n",
              "      background-color: #E8F0FE;\n",
              "      border: none;\n",
              "      border-radius: 50%;\n",
              "      cursor: pointer;\n",
              "      display: none;\n",
              "      fill: #1967D2;\n",
              "      height: 32px;\n",
              "      padding: 0 0 0 0;\n",
              "      width: 32px;\n",
              "    }\n",
              "\n",
              "    .colab-df-convert:hover {\n",
              "      background-color: #E2EBFA;\n",
              "      box-shadow: 0px 1px 2px rgba(60, 64, 67, 0.3), 0px 1px 3px 1px rgba(60, 64, 67, 0.15);\n",
              "      fill: #174EA6;\n",
              "    }\n",
              "\n",
              "    [theme=dark] .colab-df-convert {\n",
              "      background-color: #3B4455;\n",
              "      fill: #D2E3FC;\n",
              "    }\n",
              "\n",
              "    [theme=dark] .colab-df-convert:hover {\n",
              "      background-color: #434B5C;\n",
              "      box-shadow: 0px 1px 3px 1px rgba(0, 0, 0, 0.15);\n",
              "      filter: drop-shadow(0px 1px 2px rgba(0, 0, 0, 0.3));\n",
              "      fill: #FFFFFF;\n",
              "    }\n",
              "  </style>\n",
              "\n",
              "      <script>\n",
              "        const buttonEl =\n",
              "          document.querySelector('#df-03e573e0-d07d-42cd-a93a-64591b6bd2f2 button.colab-df-convert');\n",
              "        buttonEl.style.display =\n",
              "          google.colab.kernel.accessAllowed ? 'block' : 'none';\n",
              "\n",
              "        async function convertToInteractive(key) {\n",
              "          const element = document.querySelector('#df-03e573e0-d07d-42cd-a93a-64591b6bd2f2');\n",
              "          const dataTable =\n",
              "            await google.colab.kernel.invokeFunction('convertToInteractive',\n",
              "                                                     [key], {});\n",
              "          if (!dataTable) return;\n",
              "\n",
              "          const docLinkHtml = 'Like what you see? Visit the ' +\n",
              "            '<a target=\"_blank\" href=https://colab.research.google.com/notebooks/data_table.ipynb>data table notebook</a>'\n",
              "            + ' to learn more about interactive tables.';\n",
              "          element.innerHTML = '';\n",
              "          dataTable['output_type'] = 'display_data';\n",
              "          await google.colab.output.renderOutput(dataTable, element);\n",
              "          const docLink = document.createElement('div');\n",
              "          docLink.innerHTML = docLinkHtml;\n",
              "          element.appendChild(docLink);\n",
              "        }\n",
              "      </script>\n",
              "    </div>\n",
              "  </div>\n",
              "  "
            ]
          },
          "metadata": {},
          "execution_count": 17
        }
      ]
    },
    {
      "cell_type": "code",
      "source": [
        "df['digito'].unique()"
      ],
      "metadata": {
        "colab": {
          "base_uri": "https://localhost:8080/"
        },
        "id": "MocjTTYCZbAa",
        "outputId": "bc6a2372-85e2-40cd-cb67-91bc9da3a651"
      },
      "execution_count": null,
      "outputs": [
        {
          "output_type": "execute_result",
          "data": {
            "text/plain": [
              "array([0, 7, 4, 6, 2, 5, 8, 1, 9, 3])"
            ]
          },
          "metadata": {},
          "execution_count": 18
        }
      ]
    },
    {
      "cell_type": "code",
      "source": [
        "# =========== NORMALIZANDO ================== \n",
        "X = df.drop(\"digito\", axis=1)\n",
        "Y = df[\"digito\"]\n",
        "\n",
        "scaler = preprocessing.StandardScaler()\n",
        "scaler.fit(X)\n",
        "# =========== TRANSFORMANDO ================= \n",
        "X = scaler.transform(X)"
      ],
      "metadata": {
        "id": "zO1CJOQWtK0q"
      },
      "execution_count": null,
      "outputs": []
    },
    {
      "cell_type": "code",
      "source": [
        "# =========== SEPARACION DE DATOS =========== \n",
        "X_train, X_test, y_train, y_test = train_test_split(X,Y,test_size=0.2,random_state=42)"
      ],
      "metadata": {
        "id": "sK36l7ENsVq5"
      },
      "execution_count": null,
      "outputs": []
    },
    {
      "cell_type": "code",
      "source": [
        "# =========== FIT ===========================  \n",
        "pesosc1,biasc1,pesoscs,biascs = fit_rna(X_train,y_train,0.1,128,10,0.005,100)"
      ],
      "metadata": {
        "id": "qD3aERk7sVof"
      },
      "execution_count": null,
      "outputs": []
    },
    {
      "cell_type": "code",
      "source": [
        "# =========== PREDICT ======================= \n",
        "pesos_bias_optimos = [pesosc1,biasc1,pesoscs,biascs]   # recuperar los pesos y bias optimos\n",
        "y_pred_ = predict_rna(X_test, pesos_bias_optimos) # predecir"
      ],
      "metadata": {
        "id": "z4uR-eGGt0tf"
      },
      "execution_count": null,
      "outputs": []
    },
    {
      "cell_type": "code",
      "source": [
        "# =========== ajustar salida ================ \n",
        "def ajuste(valores_pred):\n",
        "  result_pred = []\n",
        "  for vector in valores_pred:\n",
        "    indice = np.argmax(vector)\n",
        "    result_pred.append(indice)\n",
        "  y_pred = pd.Series(result_pred)\n",
        "  return result_pred"
      ],
      "metadata": {
        "id": "W19HLXfmtivG"
      },
      "execution_count": null,
      "outputs": []
    },
    {
      "cell_type": "code",
      "source": [
        "y_pred = ajuste(y_pred_) # ajustar valores de salida"
      ],
      "metadata": {
        "id": "5-5CfTFJtisi"
      },
      "execution_count": null,
      "outputs": []
    },
    {
      "cell_type": "code",
      "source": [
        "# =========== METRICAS DE EVALUACION ========= \n",
        "print(classification_report(y_test,y_pred ))"
      ],
      "metadata": {
        "colab": {
          "base_uri": "https://localhost:8080/"
        },
        "id": "OeveCoonsVgS",
        "outputId": "035a080b-f34a-44bb-a7ec-a04444b517c2"
      },
      "execution_count": null,
      "outputs": [
        {
          "output_type": "stream",
          "name": "stdout",
          "text": [
            "              precision    recall  f1-score   support\n",
            "\n",
            "           0       1.00      1.00      1.00       108\n",
            "           1       0.96      0.97      0.97       102\n",
            "           2       0.99      0.98      0.99       107\n",
            "           3       0.97      0.97      0.97       118\n",
            "           4       0.97      0.99      0.98       117\n",
            "           5       0.96      0.98      0.97        97\n",
            "           6       0.97      0.98      0.97       123\n",
            "           7       1.00      1.00      1.00       124\n",
            "           8       0.97      0.96      0.97       105\n",
            "           9       0.97      0.93      0.95       123\n",
            "\n",
            "    accuracy                           0.98      1124\n",
            "   macro avg       0.98      0.98      0.98      1124\n",
            "weighted avg       0.98      0.98      0.98      1124\n",
            "\n"
          ]
        }
      ]
    },
    {
      "cell_type": "code",
      "source": [
        "from sklearn.metrics import accuracy_score\n",
        "from sklearn.metrics import balanced_accuracy_score, f1_score\n",
        "\n",
        "valores_pred = predict_rna(X_train, pesos_bias_optimos)\n",
        "y_train_pred = pd.Series(ajuste(valores_pred))\n",
        "\n",
        "\n",
        "# verificando aprendizaje\n",
        "print(\"Aprendizaje - Entrenamiento\")\n",
        "print(balanced_accuracy_score(y_train, y_train_pred))\n",
        "print(f1_score(y_train, y_train_pred, average=\"weighted\"))\n",
        "\n",
        "print('\\n')\n",
        "#verificando generalización\n",
        "print(\"Prueba - Generalización\")\n",
        "print(balanced_accuracy_score(y_test, y_pred))\n",
        "print(f1_score(y_test, y_pred, average=\"weighted\"))"
      ],
      "metadata": {
        "colab": {
          "base_uri": "https://localhost:8080/"
        },
        "id": "LSfl6-Fjqb9o",
        "outputId": "d2f16a75-57b4-42d8-e99d-62cc319d71a7"
      },
      "execution_count": null,
      "outputs": [
        {
          "output_type": "stream",
          "name": "stdout",
          "text": [
            "Aprendizaje - Entrenamiento\n",
            "0.9980004402012904\n",
            "0.9979987231825675\n",
            "\n",
            "\n",
            "Prueba - Generalización\n",
            "0.9761306643772105\n",
            "0.9759393615568811\n"
          ]
        }
      ]
    },
    {
      "cell_type": "markdown",
      "source": [
        "## prediccion"
      ],
      "metadata": {
        "id": "IyAVzkNRUbMH"
      }
    },
    {
      "cell_type": "code",
      "source": [
        "entrada = [0,  0,  6, 15, 11,  1,  0,  0,  0,  7, 15,  6,  6, 10,  0,  0,  0,\n",
        "            8, 16,  2,  0, 10,  2,  0,  0,  5, 16,  3,  0,  5,  7,  0,  0,  7,\n",
        "          13,  3,  0,  8,  7,  0,  0,  4, 12,  0,  1, 13,  5,  0,  0,  0, 14,\n",
        "            9, 15,  9,  0,  0,  0,  0,  6, 14,  7,  1,  0,  0]"
      ],
      "metadata": {
        "id": "UR5vwLq7Ulno"
      },
      "execution_count": null,
      "outputs": []
    },
    {
      "cell_type": "code",
      "source": [
        "entrada_df = np.array([entrada]) # convertir a array de numpy y lista de listas\n",
        "# NORMALIZANDO LOS DATOS DE ENTRADA\n",
        "entrada_df = scaler.transform(entrada_df)"
      ],
      "metadata": {
        "colab": {
          "base_uri": "https://localhost:8080/"
        },
        "id": "Z24PKQ3MUlkf",
        "outputId": "1db0b10e-90d7-4df9-d9b6-0eeefd9b5d6a"
      },
      "execution_count": null,
      "outputs": [
        {
          "output_type": "stream",
          "name": "stderr",
          "text": [
            "/usr/local/lib/python3.8/dist-packages/sklearn/base.py:450: UserWarning: X does not have valid feature names, but StandardScaler was fitted with feature names\n",
            "  warnings.warn(\n"
          ]
        }
      ]
    },
    {
      "cell_type": "code",
      "source": [
        "entrada_df "
      ],
      "metadata": {
        "colab": {
          "base_uri": "https://localhost:8080/"
        },
        "id": "LNE_IjUHUlHf",
        "outputId": "f2882bfa-cc2a-4cd4-e489-6f56652cfdaf"
      },
      "execution_count": null,
      "outputs": [
        {
          "output_type": "execute_result",
          "data": {
            "text/plain": [
              "array([[ 0.        , -0.343381  ,  0.12986348,  0.74831744, -0.12959939,\n",
              "        -0.81585144, -0.41097194, -0.13206188, -0.03542401,  1.62296632,\n",
              "         0.82585557, -1.44911936, -0.94280989,  0.29178646, -0.53252006,\n",
              "        -0.1466391 , -0.04069176,  1.5466172 ,  1.08427078, -0.8190465 ,\n",
              "        -1.16349493,  0.32404697,  0.01042016, -0.11335335, -0.03269184,\n",
              "         0.84415735,  1.10740032, -1.02318838, -1.56286359, -0.46403448,\n",
              "         1.2807267 , -0.04777844, -0.02984078,  1.47241212,  0.85010099,\n",
              "        -0.99520444, -1.74442775, -0.17931693,  1.16744553,  0.        ,\n",
              "        -0.07872062,  0.86007938,  0.82966502, -1.11476112, -1.08631271,\n",
              "         0.77341948,  0.34592509, -0.08987191, -0.0576035 , -0.40589805,\n",
              "         1.10346414, -0.1498682 ,  1.0064432 , -0.019331  , -0.76183046,\n",
              "        -0.19789895, -0.01886792, -0.30310217,  0.04770289,  0.46244502,\n",
              "        -0.9190364 , -0.98379588, -0.51724355, -0.1791362 ]])"
            ]
          },
          "metadata": {},
          "execution_count": 50
        }
      ]
    },
    {
      "cell_type": "code",
      "source": [
        "result = predict_rna(entrada_df, pesos_bias_optimos) "
      ],
      "metadata": {
        "id": "cmJlonnZWP0x"
      },
      "execution_count": null,
      "outputs": []
    },
    {
      "cell_type": "code",
      "source": [
        "result = predict_rna(entrada_df, pesos_bias_optimos) \n",
        "np.argmax(result)"
      ],
      "metadata": {
        "colab": {
          "base_uri": "https://localhost:8080/"
        },
        "id": "Rc-OftbvWPxn",
        "outputId": "3396f302-cd6d-4b75-ab79-1dc56bee661d"
      },
      "execution_count": null,
      "outputs": [
        {
          "output_type": "execute_result",
          "data": {
            "text/plain": [
              "0"
            ]
          },
          "metadata": {},
          "execution_count": 55
        }
      ]
    }
  ]
}