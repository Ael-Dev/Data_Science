{
  "nbformat": 4,
  "nbformat_minor": 0,
  "metadata": {
    "colab": {
      "provenance": [],
      "toc_visible": true
    },
    "kernelspec": {
      "name": "python3",
      "display_name": "Python 3"
    },
    "language_info": {
      "name": "python"
    }
  },
  "cells": [
    {
      "cell_type": "markdown",
      "source": [
        "# STREAMLIT"
      ],
      "metadata": {
        "id": "XgsJgAjmKoR4"
      }
    },
    {
      "cell_type": "code",
      "source": [
        "!pip install streamlit -q"
      ],
      "metadata": {
        "colab": {
          "base_uri": "https://localhost:8080/"
        },
        "id": "0BsgKgknKnqv",
        "outputId": "47dbcb3c-8231-4525-b2fe-f4bd3789a135"
      },
      "execution_count": null,
      "outputs": [
        {
          "output_type": "stream",
          "name": "stdout",
          "text": [
            "\u001b[K     |████████████████████████████████| 9.2 MB 6.8 MB/s \n",
            "\u001b[K     |████████████████████████████████| 4.7 MB 42.2 MB/s \n",
            "\u001b[K     |████████████████████████████████| 182 kB 58.7 MB/s \n",
            "\u001b[K     |████████████████████████████████| 237 kB 53.8 MB/s \n",
            "\u001b[K     |████████████████████████████████| 78 kB 6.4 MB/s \n",
            "\u001b[K     |████████████████████████████████| 164 kB 65.4 MB/s \n",
            "\u001b[K     |████████████████████████████████| 62 kB 1.2 MB/s \n",
            "\u001b[K     |████████████████████████████████| 51 kB 5.4 MB/s \n",
            "\u001b[?25h  Building wheel for validators (setup.py) ... \u001b[?25l\u001b[?25hdone\n"
          ]
        }
      ]
    },
    {
      "cell_type": "markdown",
      "source": [
        "DO THE APP"
      ],
      "metadata": {
        "id": "_PN8hkmuK_LB"
      }
    },
    {
      "cell_type": "code",
      "source": [
        "%%writefile app.py\n",
        "import streamlit as st\n",
        "st.write('# TESTING 🤍🤍🤍🤍🤍🤍')"
      ],
      "metadata": {
        "colab": {
          "base_uri": "https://localhost:8080/"
        },
        "id": "-kvdJ7jtK12U",
        "outputId": "53ade7ae-3a18-45c9-b7b8-5068e1ebe836"
      },
      "execution_count": null,
      "outputs": [
        {
          "output_type": "stream",
          "name": "stdout",
          "text": [
            "Writing app.py\n"
          ]
        }
      ]
    },
    {
      "cell_type": "code",
      "source": [
        "! pip install streamlit==1.13.0 -q"
      ],
      "metadata": {
        "colab": {
          "base_uri": "https://localhost:8080/"
        },
        "id": "czVjRBVJK2sg",
        "outputId": "6cbcc69e-1502-4efc-dfe2-852a908fe4ff"
      },
      "execution_count": null,
      "outputs": [
        {
          "output_type": "stream",
          "name": "stdout",
          "text": [
            "\u001b[K     |████████████████████████████████| 9.2 MB 7.1 MB/s \n",
            "\u001b[?25h"
          ]
        }
      ]
    },
    {
      "cell_type": "markdown",
      "source": [
        "RUN APP"
      ],
      "metadata": {
        "id": "VqM3vv1wK8e3"
      }
    },
    {
      "cell_type": "code",
      "source": [
        "!streamlit run app.py & npx localtunnel --port 8501"
      ],
      "metadata": {
        "id": "VE2yWzXJK7oe"
      },
      "execution_count": null,
      "outputs": []
    },
    {
      "cell_type": "markdown",
      "source": [
        "# RNA MULTICAPA DE 3 CAPAS\n",
        " - capa de entrada(N)\n",
        " - 1 capa oculta(M)\n",
        " - capa de salida(O)"
      ],
      "metadata": {
        "id": "EHSfLFNsXq3N"
      }
    },
    {
      "cell_type": "markdown",
      "source": [
        "## importar librerias"
      ],
      "metadata": {
        "id": "E_oRcvq9Wpg9"
      }
    },
    {
      "cell_type": "code",
      "execution_count": null,
      "metadata": {
        "id": "MrT-hb74iZ70"
      },
      "outputs": [],
      "source": [
        "import numpy as np\n",
        "import matplotlib.pyplot as plt\n",
        "import math"
      ]
    },
    {
      "cell_type": "markdown",
      "source": [
        "## funcion de activacion"
      ],
      "metadata": {
        "id": "O3DT-CilAd6D"
      }
    },
    {
      "cell_type": "code",
      "source": [
        "def func_activacion(n):\n",
        "  return 1/(1+math.exp(-n))   "
      ],
      "metadata": {
        "id": "11dojOuDinVy"
      },
      "execution_count": null,
      "outputs": []
    },
    {
      "cell_type": "code",
      "source": [
        "func_activacion_vect = np.vectorize(func_activacion)"
      ],
      "metadata": {
        "id": "ET28xx8EkwFN"
      },
      "execution_count": null,
      "outputs": []
    },
    {
      "cell_type": "markdown",
      "source": [
        "## RNA"
      ],
      "metadata": {
        "id": "qe8TsxnGkjk3"
      }
    },
    {
      "cell_type": "code",
      "source": [
        "def neurona(pesos,entrada, bias):\n",
        "  prod_punto = np.dot(pesos,entrada)+bias # z = W.X + b\n",
        "  return func_activacion_vect(prod_punto) # f(z)"
      ],
      "metadata": {
        "id": "wiIEOE02lpk9"
      },
      "execution_count": null,
      "outputs": []
    },
    {
      "cell_type": "markdown",
      "source": [
        "## RNA Multicapa"
      ],
      "metadata": {
        "id": "IUHZSWzlWwOS"
      }
    },
    {
      "cell_type": "code",
      "source": [
        "def red_neuronal_multicapa(input, pesosc1, biasc1, pesoscs, biascs):\n",
        "  # Capa entrada \n",
        "  entrada_x = input\n",
        "  # Capa oculta 1\n",
        "  salida_c1 = neurona(pesosc1, entrada_x, biasc1)\n",
        "  # Capa de SALIDA\n",
        "  output_cs = neurona(pesoscs, salida_c1, biascs)\n",
        "  # Retornar resultados  \n",
        "  return salida_c1, output_cs"
      ],
      "metadata": {
        "id": "v3YfgYq2eR35"
      },
      "execution_count": null,
      "outputs": []
    },
    {
      "cell_type": "markdown",
      "source": [
        "## derivada de la funcion"
      ],
      "metadata": {
        "id": "Wxvrmpa6Azyn"
      }
    },
    {
      "cell_type": "code",
      "source": [
        "def derivada_f(salida_y): # derivada de la funcion sigmoide\n",
        "  return salida_y*(1-salida_y)"
      ],
      "metadata": {
        "id": "t7SPscfAoKBs"
      },
      "execution_count": null,
      "outputs": []
    },
    {
      "cell_type": "code",
      "source": [
        "def adjust_output(output_wish,size,ExistZero=False):\n",
        "  SD = np.zeros(size) # vector con el nro de neuronas \n",
        "  if ExistZero == True:\n",
        "    SD[output_wish] = 1\n",
        "  else:\n",
        "    SD[output_wish - 1] = 1\n",
        "  return SD"
      ],
      "metadata": {
        "id": "dVDbuVOqN8Sh"
      },
      "execution_count": null,
      "outputs": []
    },
    {
      "cell_type": "markdown",
      "source": [
        "## backpropagation"
      ],
      "metadata": {
        "id": "thKsG3LQA7X_"
      }
    },
    {
      "cell_type": "code",
      "source": [
        "def propagacion_hacia_atras(entradas,salidas_deseadas,alfa,neuronas_c1,neuronas_cs,error=0.005,epochs=1000):\n",
        "  flag = True if 0 in salidas_deseadas.unique() else False\n",
        "  # longitud de la entrada(caracteristicas)\n",
        "  n_entradas = entradas.shape[1]\n",
        "  # Capa oculta 1\n",
        "  pesosc1 = 2*np.random.rand(neuronas_c1,n_entradas) -1   # filas: nro neuronas x capa, col = nro inputs que recibe la neurona\n",
        "  biasc1 = 2*np.random.rand(neuronas_c1)-1\n",
        "  # Capa de salida\n",
        "  pesoscs = 2*np.random.rand(neuronas_cs,neuronas_c1) - 1 \n",
        "  biascs = 2*np.random.rand(neuronas_cs) - 1\n",
        "  # Iterar el algoritmo(nro de epocas)\n",
        "  for epoch in range(0,epochs):\n",
        "    for entrada_i,salida_deseada_i in zip(entradas,salidas_deseadas):\n",
        "      salida_c1, output_cs = red_neuronal_multicapa(entrada_i, pesosc1, biasc1, pesoscs, biascs)\n",
        "      # ----------------------------------------------------------------------------------------------------\n",
        "      # Calcular los errores producidos en cada capa de forma invertida(retropropagacion) y actualizar pesos\n",
        "      # ----------------------------------------------------------------------------------------------------\n",
        "      salida_deseada = adjust_output(salida_deseada_i,neuronas_cs,flag)\n",
        "      # Calcular Δ para la CAPA de SALIDA(cs): \n",
        "      delta_cs = derivada_f(output_cs)*(salida_deseada - output_cs)\n",
        "      peso_anterior_cs = pesoscs\n",
        "      # Actualizar pesos que llegan a la capa de SALIDA\n",
        "      pesoscs = pesoscs + alfa * delta_cs.reshape(1,-1).T * salida_c1.reshape(1,-1) \n",
        "      biascs = biascs + alfa * delta_cs*1   \n",
        "      # Calcular Δ para la CAPA OCULTA 1 (pesosc1):      \n",
        "      delta_c1 = derivada_f(salida_c1) * np.dot(peso_anterior_cs.T, delta_cs) \n",
        "      # Actualizar pesos  que entran a las neuronas de la capa oculta 1\n",
        "      pesosc1 = pesosc1 + alfa * (delta_c1.reshape(1,-1)*entrada_i.reshape(1,-1).T).T \n",
        "      biasc1 = biasc1 + alfa * delta_c1 * 1  \n",
        "\n",
        "  return pesosc1,biasc1,pesoscs,biascs "
      ],
      "metadata": {
        "id": "q55noOk9CYu_"
      },
      "execution_count": null,
      "outputs": []
    },
    {
      "cell_type": "markdown",
      "source": [
        "## fit RNA"
      ],
      "metadata": {
        "id": "xWSdAo08BBOg"
      }
    },
    {
      "cell_type": "code",
      "source": [
        "def fit_rna(entradas,salidas_deseadas,alfa,neuronas_c1,neuronas_cs,error,epochs):\n",
        "  pesosc1,biasc1,pesoscs,biascs = propagacion_hacia_atras(entradas,salidas_deseadas,alfa,neuronas_c1,neuronas_cs,error,epochs)\n",
        "  return pesosc1,biasc1,pesoscs,biascs"
      ],
      "metadata": {
        "id": "PlZySFOzIrbR"
      },
      "execution_count": null,
      "outputs": []
    },
    {
      "cell_type": "markdown",
      "source": [
        "## predict RNA"
      ],
      "metadata": {
        "id": "11vLq6PEOsq8"
      }
    },
    {
      "cell_type": "code",
      "source": [
        "def predict_rna(x_test, valores_obtenidos):\n",
        "  pesosc1,biasc1,pesoscs,biascs = valores_obtenidos[0],valores_obtenidos[1],valores_obtenidos[2],valores_obtenidos[3]\n",
        "  y_predict_list = []\n",
        "  for entrada in x_test:\n",
        "    salida_c1, output_cs = red_neuronal_multicapa(entrada, pesosc1,biasc1,pesoscs,biascs)\n",
        "    y_predict_list.append(output_cs)\n",
        "  return y_predict_list"
      ],
      "metadata": {
        "id": "6gzjRA-YJr8v"
      },
      "execution_count": null,
      "outputs": []
    },
    {
      "cell_type": "markdown",
      "source": [
        "# NRA OOP"
      ],
      "metadata": {
        "id": "vk2y9danoyXc"
      }
    },
    {
      "cell_type": "code",
      "source": [
        "%%writefile MultilayerPerceptron.py\n",
        "\n",
        "import numpy as np\n",
        "import math\n",
        "from sklearn import preprocessing\n",
        "import pandas as pd\n",
        "\n",
        "class MultilayerPerceptron:\n",
        "    # ======================================================================================================================== \n",
        "    def __init__(self,nro_entradas_x,neuronas_c1,neuronas_cs):\n",
        "        #self.n_entradas = entradas.shape[1]\n",
        "        self.neuronas_c1 = neuronas_c1\n",
        "        self.neuronas_cs = neuronas_cs\n",
        "        # Capa oculta 1\n",
        "        self.pesosc1 = 2*np.random.rand(self.neuronas_c1,nro_entradas_x) -1   # filas: nro neuronas x capa, col = nro inputs que recibe la neurona\n",
        "        self.biasc1 = 2*np.random.rand(self.neuronas_c1) - 1\n",
        "        # Capa de salida\n",
        "        self.pesoscs = 2*np.random.rand(self.neuronas_cs,self.neuronas_c1) - 1 \n",
        "        self.biascs = 2*np.random.rand(self.neuronas_cs) - 1\n",
        "\n",
        "        self.pesos_bias_optimos = [self.pesosc1,self.biasc1,self.pesoscs,self.biascs]\n",
        "        \n",
        "        self.scaler = preprocessing.StandardScaler()\n",
        "\n",
        "    # ======================================================================================================================== \n",
        "    def func_activacion(self, n):\n",
        "        return 1/(1+math.exp(-n))\n",
        "    # ======================================================================================================================== \n",
        "    def neurona(self, pesos,entrada, bias):\n",
        "        self.func_activacion_vect = np.vectorize(self.func_activacion)\n",
        "        prod_punto = np.dot(pesos,entrada)+bias # z = W.X + b\n",
        "        return self.func_activacion_vect(prod_punto) # f(z)\n",
        "    # ======================================================================================================================== \n",
        "    def red_neuronal_multicapa(self, input, pesosc1, biasc1, pesoscs, biascs):\n",
        "        # Capa entrada \n",
        "        entrada_x = input\n",
        "        # Capa oculta 1\n",
        "        self.salida_c1 = self.neurona(pesosc1, entrada_x, biasc1)\n",
        "        # Capa de SALIDA\n",
        "        self.output_cs = self.neurona(pesoscs, self.salida_c1, biascs)\n",
        "        # Retornar resultados  \n",
        "        return self.salida_c1, self.output_cs\n",
        "    # ======================================================================================================================== \n",
        "    def derivada_f(self, salida_y): # derivada de la funcion sigmoide\n",
        "        return salida_y*(1-salida_y)\n",
        "    # ======================================================================================================================== \n",
        "    def adjust_output(self, output_wish,size,ExistZero=False):\n",
        "        self.SD = np.zeros(size) # vector con el nro de neuronas \n",
        "        if ExistZero == True:\n",
        "          self.SD[output_wish] = 1\n",
        "        else:\n",
        "          self.SD[output_wish - 1] = 1\n",
        "        return self.SD\n",
        "    # ======================================================================================================================== \n",
        "    def propagacion_hacia_atras(self, entradas,salidas_deseadas,alfa,epochs=1000):\n",
        "        flag = True if 0 in salidas_deseadas.unique() else False\n",
        "        #nro_neuronas_cs = len(salidas_deseadas.unique())\n",
        "        # longitud de la entrada(caracteristicas)\n",
        "        n_entradas = entradas.shape[1]\n",
        "        \"\"\"\n",
        "        # Capa oculta 1\n",
        "        pesosc1 = 2*np.random.rand(neuronas_c1,n_entradas) -1   # filas: nro neuronas x capa, col = nro inputs que recibe la neurona\n",
        "        biasc1 = 2*np.random.rand(neuronas_c1)-1\n",
        "        # Capa de salida\n",
        "        pesoscs = 2*np.random.rand(neuronas_cs,neuronas_c1) - 1 \n",
        "        biascs = 2*np.random.rand(neuronas_cs) - 1\n",
        "        \"\"\"\n",
        "        # Iterar el algoritmo(nro de epocas)\n",
        "        for epoch in range(0,epochs):\n",
        "          for entrada_i,salida_deseada_i in zip(entradas,salidas_deseadas):\n",
        "            salida_c1, output_cs = self.red_neuronal_multicapa(entrada_i, self.pesosc1, self.biasc1, self.pesoscs, self.biascs)\n",
        "            # ----------------------------------------------------------------------------------------------------\n",
        "            # Calcular los errores producidos en cada capa de forma invertida(retropropagacion) y actualizar pesos\n",
        "            # ----------------------------------------------------------------------------------------------------\n",
        "            salida_deseada = self.adjust_output(salida_deseada_i, self.neuronas_cs ,flag)\n",
        "            # Calcular Δ para la CAPA de SALIDA(cs): \n",
        "            delta_cs = self.derivada_f(output_cs)*(salida_deseada - output_cs)\n",
        "            peso_anterior_cs = self.pesoscs\n",
        "            # Actualizar pesos que llegan a la capa de SALIDA\n",
        "            self.pesoscs = self.pesoscs + alfa * delta_cs.reshape(1,-1).T * salida_c1.reshape(1,-1) \n",
        "            self.biascs = self.biascs + alfa * delta_cs   \n",
        "            # Calcular Δ para la CAPA OCULTA 1 (pesosc1):      \n",
        "            delta_c1 = self.derivada_f(salida_c1) * np.dot(peso_anterior_cs.T, delta_cs) \n",
        "            # Actualizar pesos  que entran a las neuronas de la capa oculta 1\n",
        "            self.pesosc1 = self.pesosc1 + alfa * (delta_c1.reshape(1,-1)*entrada_i.reshape(1,-1).T).T \n",
        "            self.biasc1 = self.biasc1 + alfa * delta_c1  \n",
        "        return self.pesosc1, self.biasc1, self.pesoscs, self.biascs \n",
        "\n",
        "    # ======================================================================================================================== \n",
        "    def fit_rna(self, entradas,salidas_deseadas,alfa,epochs):\n",
        "        self.pesosc1,self.biasc1,self.pesoscs,self.biascs = self.propagacion_hacia_atras(entradas,salidas_deseadas,alfa,epochs)\n",
        "        return self.pesosc1,self.biasc1,self.pesoscs,self.biascs\n",
        "\n",
        "    # ========================================================================================================================  \n",
        "    # =====================  ajustar salida ================ \n",
        "    def ajuste(self, valores_pred):\n",
        "        result_pred = []\n",
        "        for vector in valores_pred:\n",
        "          indice = np.argmax(vector)\n",
        "          result_pred.append(indice+1)\n",
        "        self.y_pred = pd.Series(result_pred)\n",
        "        return self.y_pred\n",
        "\n",
        "    # ========================================================================================================================  \n",
        "    def predict_rna(self, x_test):\n",
        "        #pesosc1,biasc1,pesoscs,biascs = valores_obtenidos[0],valores_obtenidos[1],valores_obtenidos[2],valores_obtenidos[3]\n",
        "        y_predict_list = []\n",
        "        for entrada in x_test:\n",
        "          salida_c1, output_cs = self.red_neuronal_multicapa(entrada, self.pesosc1, self.biasc1, self.pesoscs, self.biascs)\n",
        "          y_predict_list.append(output_cs)\n",
        "        self.y_pred = self.ajuste(y_predict_list)\n",
        "        return self.y_pred\n",
        "\n",
        "    def normalizacion(self, X):\n",
        "        # =========== NORMALIZANDO =========== \n",
        "        self.scaler.fit(X)\n",
        "        # =========== TRANSFORMANDO =========== \n",
        "        self.X = self.scaler.transform(X)\n",
        "        return self.X\n"
      ],
      "metadata": {
        "colab": {
          "base_uri": "https://localhost:8080/"
        },
        "id": "Do3KIyOlo1BN",
        "outputId": "9367a2f2-ae74-4df2-b272-2433391f884a"
      },
      "execution_count": null,
      "outputs": [
        {
          "output_type": "stream",
          "name": "stdout",
          "text": [
            "Overwriting MultilayerPerceptron.py\n"
          ]
        }
      ]
    },
    {
      "cell_type": "markdown",
      "source": [
        "# DETECCION DE VINO CON RNA"
      ],
      "metadata": {
        "id": "A48XG37eYbU_"
      }
    },
    {
      "cell_type": "code",
      "source": [
        "import pandas as pd\n",
        "import seaborn as sns"
      ],
      "metadata": {
        "id": "oQHnCCTPZaiK"
      },
      "execution_count": null,
      "outputs": []
    },
    {
      "cell_type": "code",
      "source": [
        "df = pd.read_csv(\"wine.csv\")\n",
        "df.head()"
      ],
      "metadata": {
        "colab": {
          "base_uri": "https://localhost:8080/",
          "height": 288
        },
        "id": "p_j3fqJPY0zE",
        "outputId": "92cb66ea-47a9-4124-9f43-d3d1a73cfca8"
      },
      "execution_count": null,
      "outputs": [
        {
          "output_type": "execute_result",
          "data": {
            "text/plain": [
              "   class  Alcohol  Malic acid   Ash  Alcalinity of ash  Magnesium  \\\n",
              "0      1    14.23        1.71  2.43               15.6        127   \n",
              "1      1    13.20        1.78  2.14               11.2        100   \n",
              "2      1    13.16        2.36  2.67               18.6        101   \n",
              "3      1    14.37        1.95  2.50               16.8        113   \n",
              "4      1    13.24        2.59  2.87               21.0        118   \n",
              "\n",
              "   Total phenols  Flavanoids  Nonflavanoid phenols  Proanthocyanins  \\\n",
              "0           2.80        3.06                  0.28             2.29   \n",
              "1           2.65        2.76                  0.26             1.28   \n",
              "2           2.80        3.24                  0.30             2.81   \n",
              "3           3.85        3.49                  0.24             2.18   \n",
              "4           2.80        2.69                  0.39             1.82   \n",
              "\n",
              "   Color intensity   Hue  OD280_OD315  Proline  \n",
              "0             5.64  1.04         3.92     1065  \n",
              "1             4.38  1.05         3.40     1050  \n",
              "2             5.68  1.03         3.17     1185  \n",
              "3             7.80  0.86         3.45     1480  \n",
              "4             4.32  1.04         2.93      735  "
            ],
            "text/html": [
              "\n",
              "  <div id=\"df-d6e32cdd-43c7-450f-bd00-45db7ed8e045\">\n",
              "    <div class=\"colab-df-container\">\n",
              "      <div>\n",
              "<style scoped>\n",
              "    .dataframe tbody tr th:only-of-type {\n",
              "        vertical-align: middle;\n",
              "    }\n",
              "\n",
              "    .dataframe tbody tr th {\n",
              "        vertical-align: top;\n",
              "    }\n",
              "\n",
              "    .dataframe thead th {\n",
              "        text-align: right;\n",
              "    }\n",
              "</style>\n",
              "<table border=\"1\" class=\"dataframe\">\n",
              "  <thead>\n",
              "    <tr style=\"text-align: right;\">\n",
              "      <th></th>\n",
              "      <th>class</th>\n",
              "      <th>Alcohol</th>\n",
              "      <th>Malic acid</th>\n",
              "      <th>Ash</th>\n",
              "      <th>Alcalinity of ash</th>\n",
              "      <th>Magnesium</th>\n",
              "      <th>Total phenols</th>\n",
              "      <th>Flavanoids</th>\n",
              "      <th>Nonflavanoid phenols</th>\n",
              "      <th>Proanthocyanins</th>\n",
              "      <th>Color intensity</th>\n",
              "      <th>Hue</th>\n",
              "      <th>OD280_OD315</th>\n",
              "      <th>Proline</th>\n",
              "    </tr>\n",
              "  </thead>\n",
              "  <tbody>\n",
              "    <tr>\n",
              "      <th>0</th>\n",
              "      <td>1</td>\n",
              "      <td>14.23</td>\n",
              "      <td>1.71</td>\n",
              "      <td>2.43</td>\n",
              "      <td>15.6</td>\n",
              "      <td>127</td>\n",
              "      <td>2.80</td>\n",
              "      <td>3.06</td>\n",
              "      <td>0.28</td>\n",
              "      <td>2.29</td>\n",
              "      <td>5.64</td>\n",
              "      <td>1.04</td>\n",
              "      <td>3.92</td>\n",
              "      <td>1065</td>\n",
              "    </tr>\n",
              "    <tr>\n",
              "      <th>1</th>\n",
              "      <td>1</td>\n",
              "      <td>13.20</td>\n",
              "      <td>1.78</td>\n",
              "      <td>2.14</td>\n",
              "      <td>11.2</td>\n",
              "      <td>100</td>\n",
              "      <td>2.65</td>\n",
              "      <td>2.76</td>\n",
              "      <td>0.26</td>\n",
              "      <td>1.28</td>\n",
              "      <td>4.38</td>\n",
              "      <td>1.05</td>\n",
              "      <td>3.40</td>\n",
              "      <td>1050</td>\n",
              "    </tr>\n",
              "    <tr>\n",
              "      <th>2</th>\n",
              "      <td>1</td>\n",
              "      <td>13.16</td>\n",
              "      <td>2.36</td>\n",
              "      <td>2.67</td>\n",
              "      <td>18.6</td>\n",
              "      <td>101</td>\n",
              "      <td>2.80</td>\n",
              "      <td>3.24</td>\n",
              "      <td>0.30</td>\n",
              "      <td>2.81</td>\n",
              "      <td>5.68</td>\n",
              "      <td>1.03</td>\n",
              "      <td>3.17</td>\n",
              "      <td>1185</td>\n",
              "    </tr>\n",
              "    <tr>\n",
              "      <th>3</th>\n",
              "      <td>1</td>\n",
              "      <td>14.37</td>\n",
              "      <td>1.95</td>\n",
              "      <td>2.50</td>\n",
              "      <td>16.8</td>\n",
              "      <td>113</td>\n",
              "      <td>3.85</td>\n",
              "      <td>3.49</td>\n",
              "      <td>0.24</td>\n",
              "      <td>2.18</td>\n",
              "      <td>7.80</td>\n",
              "      <td>0.86</td>\n",
              "      <td>3.45</td>\n",
              "      <td>1480</td>\n",
              "    </tr>\n",
              "    <tr>\n",
              "      <th>4</th>\n",
              "      <td>1</td>\n",
              "      <td>13.24</td>\n",
              "      <td>2.59</td>\n",
              "      <td>2.87</td>\n",
              "      <td>21.0</td>\n",
              "      <td>118</td>\n",
              "      <td>2.80</td>\n",
              "      <td>2.69</td>\n",
              "      <td>0.39</td>\n",
              "      <td>1.82</td>\n",
              "      <td>4.32</td>\n",
              "      <td>1.04</td>\n",
              "      <td>2.93</td>\n",
              "      <td>735</td>\n",
              "    </tr>\n",
              "  </tbody>\n",
              "</table>\n",
              "</div>\n",
              "      <button class=\"colab-df-convert\" onclick=\"convertToInteractive('df-d6e32cdd-43c7-450f-bd00-45db7ed8e045')\"\n",
              "              title=\"Convert this dataframe to an interactive table.\"\n",
              "              style=\"display:none;\">\n",
              "        \n",
              "  <svg xmlns=\"http://www.w3.org/2000/svg\" height=\"24px\"viewBox=\"0 0 24 24\"\n",
              "       width=\"24px\">\n",
              "    <path d=\"M0 0h24v24H0V0z\" fill=\"none\"/>\n",
              "    <path d=\"M18.56 5.44l.94 2.06.94-2.06 2.06-.94-2.06-.94-.94-2.06-.94 2.06-2.06.94zm-11 1L8.5 8.5l.94-2.06 2.06-.94-2.06-.94L8.5 2.5l-.94 2.06-2.06.94zm10 10l.94 2.06.94-2.06 2.06-.94-2.06-.94-.94-2.06-.94 2.06-2.06.94z\"/><path d=\"M17.41 7.96l-1.37-1.37c-.4-.4-.92-.59-1.43-.59-.52 0-1.04.2-1.43.59L10.3 9.45l-7.72 7.72c-.78.78-.78 2.05 0 2.83L4 21.41c.39.39.9.59 1.41.59.51 0 1.02-.2 1.41-.59l7.78-7.78 2.81-2.81c.8-.78.8-2.07 0-2.86zM5.41 20L4 18.59l7.72-7.72 1.47 1.35L5.41 20z\"/>\n",
              "  </svg>\n",
              "      </button>\n",
              "      \n",
              "  <style>\n",
              "    .colab-df-container {\n",
              "      display:flex;\n",
              "      flex-wrap:wrap;\n",
              "      gap: 12px;\n",
              "    }\n",
              "\n",
              "    .colab-df-convert {\n",
              "      background-color: #E8F0FE;\n",
              "      border: none;\n",
              "      border-radius: 50%;\n",
              "      cursor: pointer;\n",
              "      display: none;\n",
              "      fill: #1967D2;\n",
              "      height: 32px;\n",
              "      padding: 0 0 0 0;\n",
              "      width: 32px;\n",
              "    }\n",
              "\n",
              "    .colab-df-convert:hover {\n",
              "      background-color: #E2EBFA;\n",
              "      box-shadow: 0px 1px 2px rgba(60, 64, 67, 0.3), 0px 1px 3px 1px rgba(60, 64, 67, 0.15);\n",
              "      fill: #174EA6;\n",
              "    }\n",
              "\n",
              "    [theme=dark] .colab-df-convert {\n",
              "      background-color: #3B4455;\n",
              "      fill: #D2E3FC;\n",
              "    }\n",
              "\n",
              "    [theme=dark] .colab-df-convert:hover {\n",
              "      background-color: #434B5C;\n",
              "      box-shadow: 0px 1px 3px 1px rgba(0, 0, 0, 0.15);\n",
              "      filter: drop-shadow(0px 1px 2px rgba(0, 0, 0, 0.3));\n",
              "      fill: #FFFFFF;\n",
              "    }\n",
              "  </style>\n",
              "\n",
              "      <script>\n",
              "        const buttonEl =\n",
              "          document.querySelector('#df-d6e32cdd-43c7-450f-bd00-45db7ed8e045 button.colab-df-convert');\n",
              "        buttonEl.style.display =\n",
              "          google.colab.kernel.accessAllowed ? 'block' : 'none';\n",
              "\n",
              "        async function convertToInteractive(key) {\n",
              "          const element = document.querySelector('#df-d6e32cdd-43c7-450f-bd00-45db7ed8e045');\n",
              "          const dataTable =\n",
              "            await google.colab.kernel.invokeFunction('convertToInteractive',\n",
              "                                                     [key], {});\n",
              "          if (!dataTable) return;\n",
              "\n",
              "          const docLinkHtml = 'Like what you see? Visit the ' +\n",
              "            '<a target=\"_blank\" href=https://colab.research.google.com/notebooks/data_table.ipynb>data table notebook</a>'\n",
              "            + ' to learn more about interactive tables.';\n",
              "          element.innerHTML = '';\n",
              "          dataTable['output_type'] = 'display_data';\n",
              "          await google.colab.output.renderOutput(dataTable, element);\n",
              "          const docLink = document.createElement('div');\n",
              "          docLink.innerHTML = docLinkHtml;\n",
              "          element.appendChild(docLink);\n",
              "        }\n",
              "      </script>\n",
              "    </div>\n",
              "  </div>\n",
              "  "
            ]
          },
          "metadata": {},
          "execution_count": 16
        }
      ]
    },
    {
      "cell_type": "code",
      "source": [
        "from sklearn.model_selection import train_test_split\n",
        "from sklearn import preprocessing\n",
        "from sklearn.metrics import classification_report, confusion_matrix"
      ],
      "metadata": {
        "id": "LquW2b0BY1sv"
      },
      "execution_count": null,
      "outputs": []
    },
    {
      "cell_type": "code",
      "source": [
        "# ++++++++++ PROBANDO LA CLASE CREADA\n",
        "MLP = MultilayerPerceptron(13,28,3)"
      ],
      "metadata": {
        "id": "25DnjI985anr"
      },
      "execution_count": null,
      "outputs": []
    },
    {
      "cell_type": "code",
      "source": [
        "# ++++++++++ PROBANDO LA CLASE CREADA\n",
        "X = df.drop(\"class\", axis=1)\n",
        "Y = df[\"class\"]\n",
        "X = MLP.normalizacion(X)"
      ],
      "metadata": {
        "id": "HZ-gnj1d5uSj"
      },
      "execution_count": null,
      "outputs": []
    },
    {
      "cell_type": "code",
      "source": [
        "# =========== SEPARACION DE DATOS =========== \n",
        "X_train, X_test, y_train, y_test = train_test_split(X,Y,test_size=0.2,random_state=42)"
      ],
      "metadata": {
        "id": "xAxdCPatY1nh"
      },
      "execution_count": null,
      "outputs": []
    },
    {
      "cell_type": "markdown",
      "source": [
        "## modelamiento"
      ],
      "metadata": {
        "id": "s2yq6FmIaqdn"
      }
    },
    {
      "cell_type": "code",
      "source": [
        "# ++++++++++ PROBANDO LA CLASE CREADA\n",
        "weigths = MLP.fit_rna(X_train,y_train,0.001,150)"
      ],
      "metadata": {
        "id": "XW92S8F46R2z"
      },
      "execution_count": null,
      "outputs": []
    },
    {
      "cell_type": "code",
      "source": [
        "# ++++++++++ PROBANDO LA CLASE CREADA\n",
        "y_pred = MLP.predict_rna(X_test)"
      ],
      "metadata": {
        "id": "svMg1nfV7Ygw"
      },
      "execution_count": null,
      "outputs": []
    },
    {
      "cell_type": "markdown",
      "source": [
        "## metricas"
      ],
      "metadata": {
        "id": "nrhhxLg4I59k"
      }
    },
    {
      "cell_type": "code",
      "source": [
        "print(classification_report(y_test,y_pred ))"
      ],
      "metadata": {
        "colab": {
          "base_uri": "https://localhost:8080/"
        },
        "id": "GIu5Veyoea4B",
        "outputId": "14c8dec9-c8b3-452d-a0e5-2fea146e1938"
      },
      "execution_count": null,
      "outputs": [
        {
          "output_type": "stream",
          "name": "stdout",
          "text": [
            "              precision    recall  f1-score   support\n",
            "\n",
            "           1       1.00      1.00      1.00        14\n",
            "           2       1.00      0.93      0.96        14\n",
            "           3       0.89      1.00      0.94         8\n",
            "\n",
            "    accuracy                           0.97        36\n",
            "   macro avg       0.96      0.98      0.97        36\n",
            "weighted avg       0.98      0.97      0.97        36\n",
            "\n"
          ]
        }
      ]
    },
    {
      "cell_type": "code",
      "source": [
        "from sklearn.metrics import accuracy_score\n",
        "from sklearn.metrics import balanced_accuracy_score, f1_score\n",
        "\n",
        "#verificando generalización\n",
        "print(\"Prueba - Generalización\")\n",
        "print(balanced_accuracy_score(y_test, y_pred))\n",
        "print(f1_score(y_test, y_pred, average=\"weighted\"))"
      ],
      "metadata": {
        "colab": {
          "base_uri": "https://localhost:8080/"
        },
        "id": "m-ktAjMlJNlP",
        "outputId": "87261857-46f1-40af-b9f9-c9a248984251"
      },
      "execution_count": null,
      "outputs": [
        {
          "output_type": "stream",
          "name": "stdout",
          "text": [
            "Prueba - Generalización\n",
            "0.9761904761904763\n",
            "0.9725248123940935\n"
          ]
        }
      ]
    },
    {
      "cell_type": "markdown",
      "source": [
        "## GRABAR MODELO"
      ],
      "metadata": {
        "id": "WNlJszLALqkK"
      }
    },
    {
      "cell_type": "code",
      "source": [
        "model = MLP"
      ],
      "metadata": {
        "id": "r8YV8rprMY4o"
      },
      "execution_count": null,
      "outputs": []
    },
    {
      "cell_type": "code",
      "source": [
        "import pickle"
      ],
      "metadata": {
        "id": "xR8opQprMEaP"
      },
      "execution_count": null,
      "outputs": []
    },
    {
      "cell_type": "markdown",
      "source": [
        "grabar modelo"
      ],
      "metadata": {
        "id": "nxzRqfw2M5vg"
      }
    },
    {
      "cell_type": "code",
      "source": [
        "pkl_filename = \"pickle_model.pkl\"\n",
        "with open(pkl_filename,'wb') as file:\n",
        "  pickle.dump(model,file)"
      ],
      "metadata": {
        "id": "wYrAj1aZLs9T"
      },
      "execution_count": null,
      "outputs": []
    },
    {
      "cell_type": "markdown",
      "source": [
        "cargar modelo"
      ],
      "metadata": {
        "id": "VAEGdEqZM7Sh"
      }
    },
    {
      "cell_type": "code",
      "source": [
        "pkl_filename = \"pickle_model.pkl\"\n",
        "with open(pkl_filename,'rb') as file:\n",
        "  model = pickle.load(file)"
      ],
      "metadata": {
        "id": "yOmMgr6pM8cS"
      },
      "execution_count": null,
      "outputs": []
    },
    {
      "cell_type": "markdown",
      "source": [
        "# testear que se haya recuperado correctamente los pesos"
      ],
      "metadata": {
        "id": "bUNufvuzNLO-"
      }
    },
    {
      "cell_type": "code",
      "source": [
        "y_pred = model.predict_rna(X_test)"
      ],
      "metadata": {
        "id": "dTg7GLgINKwu"
      },
      "execution_count": null,
      "outputs": []
    },
    {
      "cell_type": "code",
      "source": [
        "print(classification_report(y_test,y_pred ))"
      ],
      "metadata": {
        "colab": {
          "base_uri": "https://localhost:8080/"
        },
        "id": "g6CdkPRBNgun",
        "outputId": "de2e66f4-ddeb-4cb2-c649-ff9ba7056431"
      },
      "execution_count": null,
      "outputs": [
        {
          "output_type": "stream",
          "name": "stdout",
          "text": [
            "              precision    recall  f1-score   support\n",
            "\n",
            "           1       1.00      1.00      1.00        14\n",
            "           2       1.00      0.93      0.96        14\n",
            "           3       0.89      1.00      0.94         8\n",
            "\n",
            "    accuracy                           0.97        36\n",
            "   macro avg       0.96      0.98      0.97        36\n",
            "weighted avg       0.98      0.97      0.97        36\n",
            "\n"
          ]
        }
      ]
    },
    {
      "cell_type": "markdown",
      "source": [
        "## APP prediccion"
      ],
      "metadata": {
        "id": "D7MegUOeJUMw"
      }
    },
    {
      "cell_type": "code",
      "source": [
        "# https://www.youtube.com/watch?v=vibDbEBnyV4"
      ],
      "metadata": {
        "id": "oHz3P4hVN6di"
      },
      "execution_count": null,
      "outputs": []
    },
    {
      "cell_type": "code",
      "source": [
        "%%writefile app.py\n",
        "\n",
        "from sklearn import preprocessing\n",
        "import streamlit as st\n",
        "import numpy as np\n",
        "import matplotlib.pyplot as plt\n",
        "import math\n",
        "import pickle\n",
        "import pandas as pd\n",
        "from MultilayerPerceptron import *\n",
        "\n",
        "\n",
        "\n",
        "# PATH DEL MODELO ENTRENADO\n",
        "MODEL_PATH = '/content/pickle_model.pkl'\n",
        "\n",
        "# se recibe la imagen y el modelo devuelve la prediccion\n",
        "def model_prediccion(entrada, modelo):\n",
        "  x = np.asarray(entrada).reshape(1,-1)\n",
        "\n",
        "  # NORMALIZANDO LOS DATOS DE ENTRADA\n",
        "  entrada_df = np.array([entrada]) # convertir a array de numpy y lista de listas\n",
        "  entrada_df = modelo.scaler.transform(entrada_df)\n",
        "\n",
        "  # predecir\n",
        "  preds = modelo.predict_rna(entrada_df)\n",
        "  return preds\n",
        "\n",
        "\n",
        "def main():\n",
        "\n",
        "  #model = ''\n",
        "  # cargar el modelo\n",
        "  with open(MODEL_PATH, 'rb') as file:\n",
        "    model = pickle.load(file)\n",
        "\n",
        "  # titulo\n",
        "  html_temp = \"\"\"\n",
        "  <h1 style=\"color:#008000;text-align:center;\">SISTEMA DE DETECCION DE LA CALIDAD DE VINOS </h1>\n",
        "  </div>\n",
        "  \"\"\"\n",
        "  st.markdown(html_temp, unsafe_allow_html=True)\n",
        "\n",
        "  # lectura de datos\n",
        "  \n",
        "  d1 = st.text_input(\"Alcohol:\")\n",
        "  d2 = st.text_input(\"Malic acid:\")\n",
        "  d3 = st.text_input(\"Ash:\")\n",
        "  d4 = st.text_input(\"Alcalinity of ash:\")\n",
        "  d5 = st.text_input(\"Magnesium:\")\n",
        "  d6 = st.text_input(\"Total phenols:\")\n",
        "  d7 = st.text_input(\"Flavanoids:\")\n",
        "  d8 = st.text_input(\"Nonflavanoid phenols:\")\n",
        "  d9 = st.text_input(\"Proanthocyanins:\")\n",
        "  d10 = st.text_input(\"Color intensity:\")\n",
        "  d11 = st.text_input(\"Hue:\")\n",
        "  d12 = st.text_input(\"OD280_OD315:\")\n",
        "  d13 = st.text_input(\"Proline:\")\n",
        "\n",
        "  # el boton prediccion se usa para iniciar el procesamiento\n",
        "  if st.button(\"PREDECIR\"):\n",
        "    x_in = [np.float_(d1.title()),\n",
        "            np.float_(d2.title()),\n",
        "            np.float_(d3.title()),\n",
        "            np.float_(d4.title()),\n",
        "            np.float_(d5.title()),\n",
        "            np.float_(d6.title()),\n",
        "            np.float_(d7.title()),\n",
        "            np.float_(d8.title()),\n",
        "            np.float_(d9.title()),\n",
        "            np.float_(d10.title()),\n",
        "            np.float_(d11.title()),\n",
        "            np.float_(d12.title()),\n",
        "            np.float_(d13.title())  ]\n",
        "    predictWine = model_prediccion(x_in, model)\n",
        "    if predictWine[0] == 1:\n",
        "      pred = \"MALA\"\n",
        "    elif predictWine[0] == 2:\n",
        "      pred = \"BUENA\"\n",
        "    else:\n",
        "      pred = \"EXCELENTE\"\n",
        "    st.success(\"EL VINO TIENE UNA CALIDAD: {}\".format(pred))\n",
        "\n",
        "if __name__ == '__main__':\n",
        "  main()\n",
        "\n"
      ],
      "metadata": {
        "colab": {
          "base_uri": "https://localhost:8080/"
        },
        "id": "CXGawrxgN6a1",
        "outputId": "748d1ae2-c22e-4439-d0b1-64cd6e87c1c1"
      },
      "execution_count": null,
      "outputs": [
        {
          "output_type": "stream",
          "name": "stdout",
          "text": [
            "Overwriting app.py\n"
          ]
        }
      ]
    },
    {
      "cell_type": "markdown",
      "source": [
        "# ejecutar programa"
      ],
      "metadata": {
        "id": "f7_lZCu-C19A"
      }
    },
    {
      "cell_type": "code",
      "source": [
        "!streamlit run app.py & npx localtunnel --port 8501"
      ],
      "metadata": {
        "colab": {
          "base_uri": "https://localhost:8080/"
        },
        "id": "0rFUcj8PVG5R",
        "outputId": "fe7c7275-b223-421b-cba5-d4f4c921343c"
      },
      "execution_count": null,
      "outputs": [
        {
          "output_type": "stream",
          "name": "stdout",
          "text": [
            "2022-12-23 03:55:08.326 INFO    numexpr.utils: NumExpr defaulting to 2 threads.\n",
            "\u001b[K\u001b[?25hnpx: installed 22 in 2.951s\n",
            "\n",
            "Collecting usage statistics. To deactivate, set browser.gatherUsageStats to False.\n",
            "\u001b[0m\n",
            "\u001b[0m\n",
            "\u001b[34m\u001b[1m  You can now view your Streamlit app in your browser.\u001b[0m\n",
            "\u001b[0m\n",
            "\u001b[34m  Network URL: \u001b[0m\u001b[1mhttp://172.28.0.12:8501\u001b[0m\n",
            "\u001b[34m  External URL: \u001b[0m\u001b[1mhttp://35.230.10.231:8501\u001b[0m\n",
            "\u001b[0m\n",
            "your url is: https://fair-areas-watch-35-230-10-231.loca.lt\n",
            "/usr/local/lib/python3.8/dist-packages/sklearn/base.py:450: UserWarning: X does not have valid feature names, but StandardScaler was fitted with feature names\n",
            "  warnings.warn(\n",
            "/usr/local/lib/python3.8/dist-packages/sklearn/base.py:450: UserWarning: X does not have valid feature names, but StandardScaler was fitted with feature names\n",
            "  warnings.warn(\n",
            "/usr/local/lib/python3.8/dist-packages/sklearn/base.py:450: UserWarning: X does not have valid feature names, but StandardScaler was fitted with feature names\n",
            "  warnings.warn(\n",
            "/usr/local/lib/python3.8/dist-packages/sklearn/base.py:450: UserWarning: X does not have valid feature names, but StandardScaler was fitted with feature names\n",
            "  warnings.warn(\n",
            "\u001b[34m  Stopping...\u001b[0m\n",
            "^C\n"
          ]
        }
      ]
    },
    {
      "cell_type": "code",
      "source": [
        "entrada = leer_datos()"
      ],
      "metadata": {
        "colab": {
          "base_uri": "https://localhost:8080/"
        },
        "id": "kkGx-FfOOqp0",
        "outputId": "77ed985c-c5d8-445b-8590-d5bc3b4618c8"
      },
      "execution_count": null,
      "outputs": [
        {
          "name": "stdout",
          "output_type": "stream",
          "text": [
            "insert value of Alcohol: 15\n",
            "insert value of Malic acid: 1.8\n",
            "insert value of Ash: 2.55\n",
            "insert value of Alcalinity of ash: 14\n",
            "insert value of Magnesium: 120\n",
            "insert value of Total phenols: 2.70\n",
            "insert value of Flavanoids: 3.01\n",
            "insert value of Nonflavanoid phenols: 0.33\n",
            "insert value of Proanthocyanins: 2.35\n",
            "insert value of Color intensity: 5.55\n",
            "insert value of Hue: 1.09\n",
            "insert value of OD280_OD315: 3.55\n",
            "insert value of Proline: 1060\n"
          ]
        }
      ]
    },
    {
      "cell_type": "code",
      "source": [
        "result = np.argmax(predict_rna(entrada_df, pesos_bias_optimos))\n",
        "if result == 0:\n",
        "  print(\"CALIDAD BAJA\")\n",
        "elif result == 1 :\n",
        "  print(\"CALIDAD REGULAR\")\n",
        "else:\n",
        "  print(\"CALIDAD ALTA\")"
      ],
      "metadata": {
        "colab": {
          "base_uri": "https://localhost:8080/"
        },
        "id": "ieeSjXiEOx4a",
        "outputId": "2d56804d-7093-4438-aefe-5362482e2bff"
      },
      "execution_count": null,
      "outputs": [
        {
          "output_type": "stream",
          "name": "stdout",
          "text": [
            "CALIDAD BAJA\n"
          ]
        }
      ]
    }
  ]
}