{
  "nbformat": 4,
  "nbformat_minor": 0,
  "metadata": {
    "colab": {
      "provenance": [],
      "toc_visible": true
    },
    "kernelspec": {
      "name": "python3",
      "display_name": "Python 3"
    },
    "language_info": {
      "name": "python"
    }
  },
  "cells": [
    {
      "cell_type": "markdown",
      "source": [
        "# RNA MULTICAPA DE 3 CAPAS\n",
        " - capa de entrada\n",
        " - 1 capa oculta\n",
        " - capa de salida)"
      ],
      "metadata": {
        "id": "EHSfLFNsXq3N"
      }
    },
    {
      "cell_type": "code",
      "source": [],
      "metadata": {
        "id": "8theRfeQZzd5"
      },
      "execution_count": null,
      "outputs": []
    },
    {
      "cell_type": "markdown",
      "source": [
        "## importar librerias"
      ],
      "metadata": {
        "id": "E_oRcvq9Wpg9"
      }
    },
    {
      "cell_type": "code",
      "execution_count": null,
      "metadata": {
        "id": "MrT-hb74iZ70"
      },
      "outputs": [],
      "source": [
        "import numpy as np\n",
        "import matplotlib.pyplot as plt\n",
        "import math"
      ]
    },
    {
      "cell_type": "markdown",
      "source": [
        "## funcion de activacion"
      ],
      "metadata": {
        "id": "O3DT-CilAd6D"
      }
    },
    {
      "cell_type": "code",
      "source": [
        "def func_activacion(n):\n",
        "  return 1/(1+math.exp(-n))   "
      ],
      "metadata": {
        "id": "11dojOuDinVy"
      },
      "execution_count": null,
      "outputs": []
    },
    {
      "cell_type": "code",
      "source": [
        "func_activacion_vect = np.vectorize(func_activacion)"
      ],
      "metadata": {
        "id": "ET28xx8EkwFN"
      },
      "execution_count": null,
      "outputs": []
    },
    {
      "cell_type": "markdown",
      "source": [
        "## RNA"
      ],
      "metadata": {
        "id": "qe8TsxnGkjk3"
      }
    },
    {
      "cell_type": "code",
      "source": [
        "def neurona(pesos,entrada, bias):\n",
        "  prod_punto = np.dot(pesos,entrada)+bias # z = W.X + b\n",
        "  return func_activacion_vect(prod_punto) # f(z)"
      ],
      "metadata": {
        "id": "wiIEOE02lpk9"
      },
      "execution_count": null,
      "outputs": []
    },
    {
      "cell_type": "markdown",
      "source": [
        "## RNA Multicapa"
      ],
      "metadata": {
        "id": "IUHZSWzlWwOS"
      }
    },
    {
      "cell_type": "code",
      "source": [
        "def red_neuronal_multicapa(input, pesosc1, biasc1, pesoscs, biascs):\n",
        "  # Capa entrada \n",
        "  entrada_x = input\n",
        "  # Capa oculta 1\n",
        "  salida_c1 = neurona(pesosc1, entrada_x, biasc1)\n",
        "  # Capa de SALIDA\n",
        "  output_cs = neurona(pesoscs, salida_c1, biascs)\n",
        "  # Retornar resultados  \n",
        "  return salida_c1, output_cs"
      ],
      "metadata": {
        "id": "v3YfgYq2eR35"
      },
      "execution_count": null,
      "outputs": []
    },
    {
      "cell_type": "markdown",
      "source": [
        "## derivada de la funcion"
      ],
      "metadata": {
        "id": "Wxvrmpa6Azyn"
      }
    },
    {
      "cell_type": "code",
      "source": [
        "def derivada_f(salida_y): # derivada de la funcion sigmoide\n",
        "  return salida_y*(1-salida_y)"
      ],
      "metadata": {
        "id": "t7SPscfAoKBs"
      },
      "execution_count": null,
      "outputs": []
    },
    {
      "cell_type": "code",
      "source": [
        "def adjust_output(output_wish,size,ExistZero):\n",
        "  SD = np.zeros(size) # vector con el nro de neuronas \n",
        "  if ExistZero == True:\n",
        "    SD[output_wish] = 1\n",
        "  else:\n",
        "    SD[output_wish - 1] = 1\n",
        "  return SD"
      ],
      "metadata": {
        "id": "mhfnzKGRWYDC"
      },
      "execution_count": null,
      "outputs": []
    },
    {
      "cell_type": "markdown",
      "source": [
        "## backpropagation"
      ],
      "metadata": {
        "id": "thKsG3LQA7X_"
      }
    },
    {
      "cell_type": "code",
      "source": [
        "def propagacion_hacia_atras(entradas,salidas_deseadas,alfa,neuronas_c1,neuronas_cs,error=0.005,epochs=1000):\n",
        "  flag = True if 0 in salidas_deseadas.unique() else False\n",
        "  # longitud de la entrada(caracteristicas)\n",
        "  n_entradas = entradas.shape[1]\n",
        "\n",
        "  # Capa oculta 1\n",
        "  pesosc1 = 2*np.random.rand(neuronas_c1,n_entradas) -1   # filas: nro neuronas x capa, col = nro inputs que recibe la neurona\n",
        "  biasc1 = 2*np.random.rand(neuronas_c1)-1\n",
        "  # Capa de salida\n",
        "  pesoscs = 2*np.random.rand(neuronas_cs,neuronas_c1) - 1 # filas: nro neuronas x capa, col = nro inputs que recibe la neurona\n",
        "  biascs = 2*np.random.rand(neuronas_cs) - 1\n",
        "\n",
        "  # Iterar el algoritmo(nro de epocas)\n",
        "  for epoch in range(0,epochs):\n",
        "    # Evaluar los patrones(para c/entrada y salida) respectivamente\n",
        "    for entrada_i,salida_deseada_i in zip(entradas,salidas_deseadas):\n",
        "      # Predecir usando la red neuronal\n",
        "      salida_c1, output_cs = red_neuronal_multicapa(entrada_i, pesosc1, biasc1, pesoscs, biascs)\n",
        "\n",
        "      # Calcular los errores producidos en cada capa de forma invertida(retropropagacion) y actualizar pesos\n",
        "      # ----------------------------------------------------------------------------------------------------\n",
        "      salida_deseada = adjust_output(salida_deseada_i,neuronas_cs,flag)\n",
        "      # Calcular Δ para la CAPA de SALIDA(cs): \n",
        "      # Δ Salida_Y = f'(Salida_Y) * (salidaY_Deseada - Salida_Y) \n",
        "      # F' de la func sigmoide: f'(Salida_Y) = Salida_Y * (1 - Salida_Y)\n",
        "      delta_cs = derivada_f(output_cs)*(salida_deseada - output_cs)\n",
        "      peso_anterior_cs = pesoscs\n",
        "      \n",
        "      # Actualizar pesos que llegan a la capa de SALIDA\n",
        "      # W = W_ingresan_a_las_ncs + alfa*Salida_y(capa anterior)*Δ_cs\n",
        "      pesoscs = pesoscs + alfa * delta_cs.reshape(1,-1).T * salida_c1.reshape(1,-1) \n",
        "      biascs = biascs + alfa * delta_cs*1   # b = b + alfa*Δ\n",
        "\n",
        "      # Calcular Δ para la CAPA OCULTA 1 (pesosc1):      \n",
        "      # Δ Salida_Y = f'(Salida_Y) * (W_entran_c1 * ΔSalida_CS)\n",
        "      delta_c1 = derivada_f(salida_c1) * np.dot(peso_anterior_cs.T, delta_cs) \n",
        "      \n",
        "      # Actualizar pesos  que entran a las neuronas de la capa oculta 1\n",
        "      # W = W_ingresan_a_las_ncs + alfa*Salida_y(capa anterior)*Δ_c1\n",
        "      pesosc1 = pesosc1 + alfa * (delta_c1.reshape(1,-1)*entrada_i.reshape(1,-1).T).T \n",
        "      biasc1 = biasc1 + alfa * delta_c1 * 1  # b = b + alfa*Δ_c1\n",
        "      \n",
        "  return pesosc1,biasc1,pesoscs,biascs "
      ],
      "metadata": {
        "id": "q55noOk9CYu_"
      },
      "execution_count": null,
      "outputs": []
    },
    {
      "cell_type": "markdown",
      "source": [
        "## fit RNA"
      ],
      "metadata": {
        "id": "xWSdAo08BBOg"
      }
    },
    {
      "cell_type": "code",
      "source": [
        "def fit_rna(entradas,salidas_deseadas,alfa,neuronas_c1,neuronas_cs,error,epochs):\n",
        "  pesosc1,biasc1,pesoscs,biascs = propagacion_hacia_atras(entradas,salidas_deseadas,alfa,neuronas_c1,neuronas_cs,error,epochs)\n",
        "  return pesosc1,biasc1,pesoscs,biascs\n"
      ],
      "metadata": {
        "id": "PlZySFOzIrbR"
      },
      "execution_count": null,
      "outputs": []
    },
    {
      "cell_type": "markdown",
      "source": [
        "## predict RNA"
      ],
      "metadata": {
        "id": "11vLq6PEOsq8"
      }
    },
    {
      "cell_type": "code",
      "source": [
        "def predict_rna(x_test, valores_obtenidos):\n",
        "  pesosc1,biasc1,pesoscs,biascs = valores_obtenidos[0],valores_obtenidos[1],valores_obtenidos[2],valores_obtenidos[3]\n",
        "  y_predict_list = []\n",
        "  for entrada in x_test:\n",
        "    salida_c1, output_cs = red_neuronal_multicapa(entrada, pesosc1,biasc1,pesoscs,biascs)\n",
        "    y_predict_list.append(output_cs)\n",
        "  return y_predict_list"
      ],
      "metadata": {
        "id": "6gzjRA-YJr8v"
      },
      "execution_count": null,
      "outputs": []
    },
    {
      "cell_type": "markdown",
      "source": [
        "# DETECCION DE DIGITOS"
      ],
      "metadata": {
        "id": "A48XG37eYbU_"
      }
    },
    {
      "cell_type": "code",
      "source": [
        "import pandas as pd\n",
        "import seaborn as sns\n",
        "from sklearn.model_selection import train_test_split\n",
        "from sklearn import preprocessing\n",
        "from sklearn.metrics import classification_report, confusion_matrix"
      ],
      "metadata": {
        "id": "oQHnCCTPZaiK"
      },
      "execution_count": null,
      "outputs": []
    },
    {
      "cell_type": "markdown",
      "source": [
        "# digitos"
      ],
      "metadata": {
        "id": "Nn3V6kxMtINn"
      }
    },
    {
      "cell_type": "code",
      "source": [
        "df = pd.read_csv(\"iris.csv\")\n",
        "df.head()"
      ],
      "metadata": {
        "colab": {
          "base_uri": "https://localhost:8080/",
          "height": 206
        },
        "id": "kdGaJWPksVtE",
        "outputId": "55085768-35dd-4ffb-cd47-6e9c2a93f5a4"
      },
      "execution_count": null,
      "outputs": [
        {
          "output_type": "execute_result",
          "data": {
            "text/plain": [
              "   Sepal.Length  Sepal.Width  Petal.Length  Petal.Width Species\n",
              "0           5.1          3.5           1.4          0.2  setosa\n",
              "1           4.9          3.0           1.4          0.2  setosa\n",
              "2           4.7          3.2           1.3          0.2  setosa\n",
              "3           4.6          3.1           1.5          0.2  setosa\n",
              "4           5.0          3.6           1.4          0.2  setosa"
            ],
            "text/html": [
              "\n",
              "  <div id=\"df-18087566-4599-4b7c-81b8-4445755f38af\">\n",
              "    <div class=\"colab-df-container\">\n",
              "      <div>\n",
              "<style scoped>\n",
              "    .dataframe tbody tr th:only-of-type {\n",
              "        vertical-align: middle;\n",
              "    }\n",
              "\n",
              "    .dataframe tbody tr th {\n",
              "        vertical-align: top;\n",
              "    }\n",
              "\n",
              "    .dataframe thead th {\n",
              "        text-align: right;\n",
              "    }\n",
              "</style>\n",
              "<table border=\"1\" class=\"dataframe\">\n",
              "  <thead>\n",
              "    <tr style=\"text-align: right;\">\n",
              "      <th></th>\n",
              "      <th>Sepal.Length</th>\n",
              "      <th>Sepal.Width</th>\n",
              "      <th>Petal.Length</th>\n",
              "      <th>Petal.Width</th>\n",
              "      <th>Species</th>\n",
              "    </tr>\n",
              "  </thead>\n",
              "  <tbody>\n",
              "    <tr>\n",
              "      <th>0</th>\n",
              "      <td>5.1</td>\n",
              "      <td>3.5</td>\n",
              "      <td>1.4</td>\n",
              "      <td>0.2</td>\n",
              "      <td>setosa</td>\n",
              "    </tr>\n",
              "    <tr>\n",
              "      <th>1</th>\n",
              "      <td>4.9</td>\n",
              "      <td>3.0</td>\n",
              "      <td>1.4</td>\n",
              "      <td>0.2</td>\n",
              "      <td>setosa</td>\n",
              "    </tr>\n",
              "    <tr>\n",
              "      <th>2</th>\n",
              "      <td>4.7</td>\n",
              "      <td>3.2</td>\n",
              "      <td>1.3</td>\n",
              "      <td>0.2</td>\n",
              "      <td>setosa</td>\n",
              "    </tr>\n",
              "    <tr>\n",
              "      <th>3</th>\n",
              "      <td>4.6</td>\n",
              "      <td>3.1</td>\n",
              "      <td>1.5</td>\n",
              "      <td>0.2</td>\n",
              "      <td>setosa</td>\n",
              "    </tr>\n",
              "    <tr>\n",
              "      <th>4</th>\n",
              "      <td>5.0</td>\n",
              "      <td>3.6</td>\n",
              "      <td>1.4</td>\n",
              "      <td>0.2</td>\n",
              "      <td>setosa</td>\n",
              "    </tr>\n",
              "  </tbody>\n",
              "</table>\n",
              "</div>\n",
              "      <button class=\"colab-df-convert\" onclick=\"convertToInteractive('df-18087566-4599-4b7c-81b8-4445755f38af')\"\n",
              "              title=\"Convert this dataframe to an interactive table.\"\n",
              "              style=\"display:none;\">\n",
              "        \n",
              "  <svg xmlns=\"http://www.w3.org/2000/svg\" height=\"24px\"viewBox=\"0 0 24 24\"\n",
              "       width=\"24px\">\n",
              "    <path d=\"M0 0h24v24H0V0z\" fill=\"none\"/>\n",
              "    <path d=\"M18.56 5.44l.94 2.06.94-2.06 2.06-.94-2.06-.94-.94-2.06-.94 2.06-2.06.94zm-11 1L8.5 8.5l.94-2.06 2.06-.94-2.06-.94L8.5 2.5l-.94 2.06-2.06.94zm10 10l.94 2.06.94-2.06 2.06-.94-2.06-.94-.94-2.06-.94 2.06-2.06.94z\"/><path d=\"M17.41 7.96l-1.37-1.37c-.4-.4-.92-.59-1.43-.59-.52 0-1.04.2-1.43.59L10.3 9.45l-7.72 7.72c-.78.78-.78 2.05 0 2.83L4 21.41c.39.39.9.59 1.41.59.51 0 1.02-.2 1.41-.59l7.78-7.78 2.81-2.81c.8-.78.8-2.07 0-2.86zM5.41 20L4 18.59l7.72-7.72 1.47 1.35L5.41 20z\"/>\n",
              "  </svg>\n",
              "      </button>\n",
              "      \n",
              "  <style>\n",
              "    .colab-df-container {\n",
              "      display:flex;\n",
              "      flex-wrap:wrap;\n",
              "      gap: 12px;\n",
              "    }\n",
              "\n",
              "    .colab-df-convert {\n",
              "      background-color: #E8F0FE;\n",
              "      border: none;\n",
              "      border-radius: 50%;\n",
              "      cursor: pointer;\n",
              "      display: none;\n",
              "      fill: #1967D2;\n",
              "      height: 32px;\n",
              "      padding: 0 0 0 0;\n",
              "      width: 32px;\n",
              "    }\n",
              "\n",
              "    .colab-df-convert:hover {\n",
              "      background-color: #E2EBFA;\n",
              "      box-shadow: 0px 1px 2px rgba(60, 64, 67, 0.3), 0px 1px 3px 1px rgba(60, 64, 67, 0.15);\n",
              "      fill: #174EA6;\n",
              "    }\n",
              "\n",
              "    [theme=dark] .colab-df-convert {\n",
              "      background-color: #3B4455;\n",
              "      fill: #D2E3FC;\n",
              "    }\n",
              "\n",
              "    [theme=dark] .colab-df-convert:hover {\n",
              "      background-color: #434B5C;\n",
              "      box-shadow: 0px 1px 3px 1px rgba(0, 0, 0, 0.15);\n",
              "      filter: drop-shadow(0px 1px 2px rgba(0, 0, 0, 0.3));\n",
              "      fill: #FFFFFF;\n",
              "    }\n",
              "  </style>\n",
              "\n",
              "      <script>\n",
              "        const buttonEl =\n",
              "          document.querySelector('#df-18087566-4599-4b7c-81b8-4445755f38af button.colab-df-convert');\n",
              "        buttonEl.style.display =\n",
              "          google.colab.kernel.accessAllowed ? 'block' : 'none';\n",
              "\n",
              "        async function convertToInteractive(key) {\n",
              "          const element = document.querySelector('#df-18087566-4599-4b7c-81b8-4445755f38af');\n",
              "          const dataTable =\n",
              "            await google.colab.kernel.invokeFunction('convertToInteractive',\n",
              "                                                     [key], {});\n",
              "          if (!dataTable) return;\n",
              "\n",
              "          const docLinkHtml = 'Like what you see? Visit the ' +\n",
              "            '<a target=\"_blank\" href=https://colab.research.google.com/notebooks/data_table.ipynb>data table notebook</a>'\n",
              "            + ' to learn more about interactive tables.';\n",
              "          element.innerHTML = '';\n",
              "          dataTable['output_type'] = 'display_data';\n",
              "          await google.colab.output.renderOutput(dataTable, element);\n",
              "          const docLink = document.createElement('div');\n",
              "          docLink.innerHTML = docLinkHtml;\n",
              "          element.appendChild(docLink);\n",
              "        }\n",
              "      </script>\n",
              "    </div>\n",
              "  </div>\n",
              "  "
            ]
          },
          "metadata": {},
          "execution_count": 12
        }
      ]
    },
    {
      "cell_type": "code",
      "source": [
        "df['Species'].unique()"
      ],
      "metadata": {
        "colab": {
          "base_uri": "https://localhost:8080/"
        },
        "id": "MocjTTYCZbAa",
        "outputId": "a4b3016b-ede6-4dbb-e23f-f927ae3fa688"
      },
      "execution_count": null,
      "outputs": [
        {
          "output_type": "execute_result",
          "data": {
            "text/plain": [
              "array(['setosa', 'versicolor', 'virginica'], dtype=object)"
            ]
          },
          "metadata": {},
          "execution_count": 13
        }
      ]
    },
    {
      "cell_type": "code",
      "source": [
        "def Categ_Numerico(datos):\n",
        "    # Conversión de un tipo de datos al tipo categorico\n",
        "    datos = datos.astype(\"category\")\n",
        "    # Obtención del código de la categoría\n",
        "    return datos.astype(\"category\").cat.codes"
      ],
      "metadata": {
        "id": "uPqiXeZQjrJN"
      },
      "execution_count": null,
      "outputs": []
    },
    {
      "cell_type": "code",
      "source": [
        "df['Species'] = Categ_Numerico(df['Species'])\n",
        "df['Species'].unique()"
      ],
      "metadata": {
        "colab": {
          "base_uri": "https://localhost:8080/"
        },
        "id": "WFXFkS8gkbrw",
        "outputId": "2566bd42-545e-4df2-d806-69c31e701a0e"
      },
      "execution_count": null,
      "outputs": [
        {
          "output_type": "execute_result",
          "data": {
            "text/plain": [
              "array([0, 1, 2], dtype=int8)"
            ]
          },
          "metadata": {},
          "execution_count": 15
        }
      ]
    },
    {
      "cell_type": "code",
      "source": [
        "# =========== NORMALIZANDO ================== \n",
        "X = df.drop(\"Species\", axis=1)\n",
        "Y = df[\"Species\"]\n",
        "\n",
        "scaler = preprocessing.StandardScaler()\n",
        "scaler.fit(X)\n",
        "# =========== TRANSFORMANDO ================= \n",
        "X = scaler.transform(X)"
      ],
      "metadata": {
        "id": "zO1CJOQWtK0q"
      },
      "execution_count": null,
      "outputs": []
    },
    {
      "cell_type": "code",
      "source": [
        "# =========== SEPARACION DE DATOS =========== \n",
        "X_train, X_test, y_train, y_test = train_test_split(X,Y,test_size=0.2,random_state=42)"
      ],
      "metadata": {
        "id": "sK36l7ENsVq5"
      },
      "execution_count": null,
      "outputs": []
    },
    {
      "cell_type": "code",
      "source": [
        "# =========== FIT ===========================  \n",
        "pesosc1,biasc1,pesoscs,biascs = fit_rna(X_train,y_train,0.1,12,3,0.005,100)"
      ],
      "metadata": {
        "id": "qD3aERk7sVof"
      },
      "execution_count": null,
      "outputs": []
    },
    {
      "cell_type": "code",
      "source": [
        "# =========== PREDICT ======================= \n",
        "pesos_bias_optimos = [pesosc1,biasc1,pesoscs,biascs]   # recuperar los pesos y bias optimos\n",
        "valores_pred = predict_rna(X_test, pesos_bias_optimos) # predecir"
      ],
      "metadata": {
        "id": "z4uR-eGGt0tf"
      },
      "execution_count": null,
      "outputs": []
    },
    {
      "cell_type": "code",
      "source": [
        "# =========== ajustar salida ================ \n",
        "def ajuste(valores_pred):\n",
        "  result_pred = []\n",
        "  for vector in valores_pred:\n",
        "    indice = np.argmax(vector)\n",
        "    result_pred.append(indice)\n",
        "  return result_pred"
      ],
      "metadata": {
        "id": "W19HLXfmtivG"
      },
      "execution_count": null,
      "outputs": []
    },
    {
      "cell_type": "code",
      "source": [
        "y_pred = pd.Series(ajuste(valores_pred)) # ajustar valores de salida(obtener los resultads)"
      ],
      "metadata": {
        "id": "5-5CfTFJtisi"
      },
      "execution_count": null,
      "outputs": []
    },
    {
      "cell_type": "code",
      "source": [
        "# =========== METRICAS DE EVALUACION ========= \n",
        "print(classification_report(y_test,y_pred ))"
      ],
      "metadata": {
        "colab": {
          "base_uri": "https://localhost:8080/"
        },
        "id": "OeveCoonsVgS",
        "outputId": "8f50fdb9-d722-4698-fa45-7ebdd653f9a6"
      },
      "execution_count": null,
      "outputs": [
        {
          "output_type": "stream",
          "name": "stdout",
          "text": [
            "              precision    recall  f1-score   support\n",
            "\n",
            "           0       1.00      1.00      1.00        10\n",
            "           1       1.00      0.89      0.94         9\n",
            "           2       0.92      1.00      0.96        11\n",
            "\n",
            "    accuracy                           0.97        30\n",
            "   macro avg       0.97      0.96      0.97        30\n",
            "weighted avg       0.97      0.97      0.97        30\n",
            "\n"
          ]
        }
      ]
    },
    {
      "cell_type": "code",
      "source": [
        "from sklearn.metrics import accuracy_score\n",
        "from sklearn.metrics import balanced_accuracy_score, f1_score\n",
        "\n",
        "valores_pred = predict_rna(X_train, pesos_bias_optimos)\n",
        "y_train_pred = pd.Series(ajuste(valores_pred))\n",
        "\n",
        "# verificando aprendizaje\n",
        "print(\"Aprendizaje - Entrenamiento\")\n",
        "print(balanced_accuracy_score(y_train, y_train_pred))\n",
        "print(f1_score(y_train, y_train_pred, average=\"weighted\"))\n",
        "print('\\n')\n",
        "#verificando generalización\n",
        "print(\"Prueba - Generalización\")\n",
        "print(balanced_accuracy_score(y_test, y_pred))\n",
        "print(f1_score(y_test, y_pred, average=\"weighted\"))"
      ],
      "metadata": {
        "id": "6NXWCbGYy2hz",
        "colab": {
          "base_uri": "https://localhost:8080/"
        },
        "outputId": "5eac6873-d200-489d-eafe-17d48fde03ec"
      },
      "execution_count": null,
      "outputs": [
        {
          "output_type": "stream",
          "name": "stdout",
          "text": [
            "Aprendizaje - Entrenamiento\n",
            "0.9751928288513655\n",
            "0.975003906860447\n",
            "\n",
            "\n",
            "Prueba - Generalización\n",
            "0.9629629629629629\n",
            "0.9664109121909632\n"
          ]
        }
      ]
    },
    {
      "cell_type": "markdown",
      "source": [
        "## prediccion"
      ],
      "metadata": {
        "id": "xabd-zfbaZYa"
      }
    },
    {
      "cell_type": "code",
      "source": [
        "# [0:'setosa', 1:'versicolor', 2:'virginica']"
      ],
      "metadata": {
        "id": "LvDhDGgCa4up"
      },
      "execution_count": null,
      "outputs": []
    },
    {
      "cell_type": "code",
      "source": [
        "# datos de entrada\n",
        "entrada = [6.2, \t3.1, \t5.3, \t2.2]"
      ],
      "metadata": {
        "id": "ywjanNEeaXBN"
      },
      "execution_count": null,
      "outputs": []
    },
    {
      "cell_type": "code",
      "source": [
        "entrada_df = np.array([entrada]) # convertir a array de numpy y lista de listas\n",
        "# NORMALIZANDO LOS DATOS DE ENTRADA\n",
        "entrada_df = scaler.transform(entrada_df)"
      ],
      "metadata": {
        "colab": {
          "base_uri": "https://localhost:8080/"
        },
        "id": "OHDwcZdCbzrJ",
        "outputId": "3971cd45-4de8-469a-f2e0-c1f70ba4c683"
      },
      "execution_count": null,
      "outputs": [
        {
          "output_type": "stream",
          "name": "stderr",
          "text": [
            "/usr/local/lib/python3.8/dist-packages/sklearn/base.py:450: UserWarning: X does not have valid feature names, but StandardScaler was fitted with feature names\n",
            "  warnings.warn(\n"
          ]
        }
      ]
    },
    {
      "cell_type": "code",
      "source": [
        "result = np.argmax(predict_rna(entrada_df, pesos_bias_optimos))\n",
        "if result == 0:\n",
        "  print(\"setosa\")\n",
        "elif result == 1 :\n",
        "  print(\"versicolor\")\n",
        "else:\n",
        "  print(\"virginica\")"
      ],
      "metadata": {
        "colab": {
          "base_uri": "https://localhost:8080/"
        },
        "id": "Li59kPy6aW-F",
        "outputId": "ba28f300-186b-4562-af5a-c37f05125861"
      },
      "execution_count": null,
      "outputs": [
        {
          "output_type": "stream",
          "name": "stdout",
          "text": [
            "virginica\n"
          ]
        }
      ]
    }
  ]
}