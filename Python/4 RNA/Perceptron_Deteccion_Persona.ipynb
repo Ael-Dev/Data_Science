{
  "nbformat": 4,
  "nbformat_minor": 0,
  "metadata": {
    "colab": {
      "provenance": [],
      "collapsed_sections": [],
      "toc_visible": true
    },
    "kernelspec": {
      "name": "python3",
      "display_name": "Python 3"
    },
    "language_info": {
      "name": "python"
    }
  },
  "cells": [
    {
      "cell_type": "code",
      "execution_count": 1,
      "metadata": {
        "id": "l6EMaZR7L8tB"
      },
      "outputs": [],
      "source": [
        "# ============ importar librerias a usar ============\n",
        "import pandas as pd\n",
        "import numpy as np\n",
        "import seaborn as sns\n",
        "import matplotlib.pyplot as plt\n",
        "from sklearn.model_selection import train_test_split\n",
        "from sklearn import preprocessing\n",
        "from sklearn.metrics import classification_report, confusion_matrix"
      ]
    },
    {
      "cell_type": "markdown",
      "source": [
        "## 1.FUNCIONES DE ACTIVACION"
      ],
      "metadata": {
        "id": "7rYmJ64Y3mpt"
      }
    },
    {
      "cell_type": "code",
      "source": [
        "def escalon(x):\n",
        "  if x > 0:\n",
        "    return 1\n",
        "  else:\n",
        "    return 0"
      ],
      "metadata": {
        "id": "2Ab-GHOKMJZp"
      },
      "execution_count": 2,
      "outputs": []
    },
    {
      "cell_type": "code",
      "source": [
        "def sigmoide(x):\n",
        "  # para que salga exactamente 0 o exactamente 1\n",
        "  if x<=-10:\n",
        "    return 0\n",
        "  elif x >= 10:\n",
        "    return 1\n",
        "  else:\n",
        "    return 1/(1+np.exp(-x))"
      ],
      "metadata": {
        "id": "LAdGqZsSKM09"
      },
      "execution_count": 3,
      "outputs": []
    },
    {
      "cell_type": "code",
      "source": [
        "escalon_vec = np.vectorize(escalon)\n",
        "sigmoide_vec = np.vectorize(sigmoide)"
      ],
      "metadata": {
        "id": "iO-rqCqqMNRi"
      },
      "execution_count": 4,
      "outputs": []
    },
    {
      "cell_type": "markdown",
      "source": [
        "# 2.RNA PERCEPTRON"
      ],
      "metadata": {
        "id": "4e5aDrpe2BHY"
      }
    },
    {
      "cell_type": "code",
      "source": [
        "# creando la neurona\n",
        "def neurona(entradaX, pesosW1, biasB1, funcion=\"escalon\"):\n",
        "  # capa 1\n",
        "  entrada_neta = np.dot(pesosW1,entradaX) + biasB1 # Z = W*X + b\n",
        "  if funcion == \"escalon\":\n",
        "    salida_C1 = escalon_vec(entrada_neta)  # f(Z)\n",
        "  else:\n",
        "    salida_C1 = sigmoide_vec(entrada_neta)\n",
        "  return salida_C1[0] #salida"
      ],
      "metadata": {
        "id": "cl-W_5D0MPXS"
      },
      "execution_count": 5,
      "outputs": []
    },
    {
      "cell_type": "code",
      "source": [
        "def ajuste_perceptron(entradas, salidas, coef_aprendizaje, pesos, bias):\n",
        "  for entrada, salida_deseada in zip(entradas,salidas):\n",
        "    salida_obtenida = neurona(entrada, pesos, bias)\n",
        "    error =  salida_deseada - salida_obtenida\n",
        "    if error != 0: # ajustando pesos\n",
        "      pesos += coef_aprendizaje*error*entrada\n",
        "      bias += coef_aprendizaje*error*(1) # se pone -1 si el bias de la neurona es -bias para positivizarlos\n",
        "  return pesos, bias # retorna  pesos y bias parciales\n"
      ],
      "metadata": {
        "id": "DdCk0751GYyh"
      },
      "execution_count": 7,
      "outputs": []
    },
    {
      "cell_type": "code",
      "source": [
        "# perceptron fit\n",
        "def entrenar_perceptron(entradas, salidas, coef_aprendizaje, epocas):\n",
        "  n=len(entradas[0])\n",
        "  pesos = np.array(2*np.random.rand(1,n)-1) # 9 entradas 1 neurona\n",
        "  bias = 2*np.random.rand(1)-1\n",
        "  for iter in range(epocas): # buscar pesos, bias\n",
        "    pesos, bias = ajuste_perceptron(entradas, salidas, coef_aprendizaje, pesos, bias)\n",
        "  return pesos, bias #retorna pesos y bias optimo\n"
      ],
      "metadata": {
        "id": "GobGgaJ1EX_F"
      },
      "execution_count": 8,
      "outputs": []
    },
    {
      "cell_type": "markdown",
      "source": [
        "# 3.LECTURA DE DATOS"
      ],
      "metadata": {
        "id": "VcZ6FpzU2F7r"
      }
    },
    {
      "cell_type": "code",
      "source": [
        "df = pd.read_csv(\"persona.csv\")\n",
        "df.head()"
      ],
      "metadata": {
        "colab": {
          "base_uri": "https://localhost:8080/",
          "height": 206
        },
        "id": "66GpBDZ2MEg4",
        "outputId": "9f148266-3feb-4a9b-d246-a7488ae41b98"
      },
      "execution_count": 9,
      "outputs": [
        {
          "output_type": "execute_result",
          "data": {
            "text/plain": [
              "   edad  peso  altura  muneca  biceps    sexo\n",
              "0    43  87.3   188.0    12.2    35.8  Hombre\n",
              "1    65  80.0   174.0    12.0    35.0  Hombre\n",
              "2    45  82.3   176.5    11.2    38.5  Hombre\n",
              "3    37  73.6   180.3    11.2    32.2  Hombre\n",
              "4    55  74.1   167.6    11.8    32.9  Hombre"
            ],
            "text/html": [
              "\n",
              "  <div id=\"df-5611877e-00b0-4a37-b8a3-dab1fbef117d\">\n",
              "    <div class=\"colab-df-container\">\n",
              "      <div>\n",
              "<style scoped>\n",
              "    .dataframe tbody tr th:only-of-type {\n",
              "        vertical-align: middle;\n",
              "    }\n",
              "\n",
              "    .dataframe tbody tr th {\n",
              "        vertical-align: top;\n",
              "    }\n",
              "\n",
              "    .dataframe thead th {\n",
              "        text-align: right;\n",
              "    }\n",
              "</style>\n",
              "<table border=\"1\" class=\"dataframe\">\n",
              "  <thead>\n",
              "    <tr style=\"text-align: right;\">\n",
              "      <th></th>\n",
              "      <th>edad</th>\n",
              "      <th>peso</th>\n",
              "      <th>altura</th>\n",
              "      <th>muneca</th>\n",
              "      <th>biceps</th>\n",
              "      <th>sexo</th>\n",
              "    </tr>\n",
              "  </thead>\n",
              "  <tbody>\n",
              "    <tr>\n",
              "      <th>0</th>\n",
              "      <td>43</td>\n",
              "      <td>87.3</td>\n",
              "      <td>188.0</td>\n",
              "      <td>12.2</td>\n",
              "      <td>35.8</td>\n",
              "      <td>Hombre</td>\n",
              "    </tr>\n",
              "    <tr>\n",
              "      <th>1</th>\n",
              "      <td>65</td>\n",
              "      <td>80.0</td>\n",
              "      <td>174.0</td>\n",
              "      <td>12.0</td>\n",
              "      <td>35.0</td>\n",
              "      <td>Hombre</td>\n",
              "    </tr>\n",
              "    <tr>\n",
              "      <th>2</th>\n",
              "      <td>45</td>\n",
              "      <td>82.3</td>\n",
              "      <td>176.5</td>\n",
              "      <td>11.2</td>\n",
              "      <td>38.5</td>\n",
              "      <td>Hombre</td>\n",
              "    </tr>\n",
              "    <tr>\n",
              "      <th>3</th>\n",
              "      <td>37</td>\n",
              "      <td>73.6</td>\n",
              "      <td>180.3</td>\n",
              "      <td>11.2</td>\n",
              "      <td>32.2</td>\n",
              "      <td>Hombre</td>\n",
              "    </tr>\n",
              "    <tr>\n",
              "      <th>4</th>\n",
              "      <td>55</td>\n",
              "      <td>74.1</td>\n",
              "      <td>167.6</td>\n",
              "      <td>11.8</td>\n",
              "      <td>32.9</td>\n",
              "      <td>Hombre</td>\n",
              "    </tr>\n",
              "  </tbody>\n",
              "</table>\n",
              "</div>\n",
              "      <button class=\"colab-df-convert\" onclick=\"convertToInteractive('df-5611877e-00b0-4a37-b8a3-dab1fbef117d')\"\n",
              "              title=\"Convert this dataframe to an interactive table.\"\n",
              "              style=\"display:none;\">\n",
              "        \n",
              "  <svg xmlns=\"http://www.w3.org/2000/svg\" height=\"24px\"viewBox=\"0 0 24 24\"\n",
              "       width=\"24px\">\n",
              "    <path d=\"M0 0h24v24H0V0z\" fill=\"none\"/>\n",
              "    <path d=\"M18.56 5.44l.94 2.06.94-2.06 2.06-.94-2.06-.94-.94-2.06-.94 2.06-2.06.94zm-11 1L8.5 8.5l.94-2.06 2.06-.94-2.06-.94L8.5 2.5l-.94 2.06-2.06.94zm10 10l.94 2.06.94-2.06 2.06-.94-2.06-.94-.94-2.06-.94 2.06-2.06.94z\"/><path d=\"M17.41 7.96l-1.37-1.37c-.4-.4-.92-.59-1.43-.59-.52 0-1.04.2-1.43.59L10.3 9.45l-7.72 7.72c-.78.78-.78 2.05 0 2.83L4 21.41c.39.39.9.59 1.41.59.51 0 1.02-.2 1.41-.59l7.78-7.78 2.81-2.81c.8-.78.8-2.07 0-2.86zM5.41 20L4 18.59l7.72-7.72 1.47 1.35L5.41 20z\"/>\n",
              "  </svg>\n",
              "      </button>\n",
              "      \n",
              "  <style>\n",
              "    .colab-df-container {\n",
              "      display:flex;\n",
              "      flex-wrap:wrap;\n",
              "      gap: 12px;\n",
              "    }\n",
              "\n",
              "    .colab-df-convert {\n",
              "      background-color: #E8F0FE;\n",
              "      border: none;\n",
              "      border-radius: 50%;\n",
              "      cursor: pointer;\n",
              "      display: none;\n",
              "      fill: #1967D2;\n",
              "      height: 32px;\n",
              "      padding: 0 0 0 0;\n",
              "      width: 32px;\n",
              "    }\n",
              "\n",
              "    .colab-df-convert:hover {\n",
              "      background-color: #E2EBFA;\n",
              "      box-shadow: 0px 1px 2px rgba(60, 64, 67, 0.3), 0px 1px 3px 1px rgba(60, 64, 67, 0.15);\n",
              "      fill: #174EA6;\n",
              "    }\n",
              "\n",
              "    [theme=dark] .colab-df-convert {\n",
              "      background-color: #3B4455;\n",
              "      fill: #D2E3FC;\n",
              "    }\n",
              "\n",
              "    [theme=dark] .colab-df-convert:hover {\n",
              "      background-color: #434B5C;\n",
              "      box-shadow: 0px 1px 3px 1px rgba(0, 0, 0, 0.15);\n",
              "      filter: drop-shadow(0px 1px 2px rgba(0, 0, 0, 0.3));\n",
              "      fill: #FFFFFF;\n",
              "    }\n",
              "  </style>\n",
              "\n",
              "      <script>\n",
              "        const buttonEl =\n",
              "          document.querySelector('#df-5611877e-00b0-4a37-b8a3-dab1fbef117d button.colab-df-convert');\n",
              "        buttonEl.style.display =\n",
              "          google.colab.kernel.accessAllowed ? 'block' : 'none';\n",
              "\n",
              "        async function convertToInteractive(key) {\n",
              "          const element = document.querySelector('#df-5611877e-00b0-4a37-b8a3-dab1fbef117d');\n",
              "          const dataTable =\n",
              "            await google.colab.kernel.invokeFunction('convertToInteractive',\n",
              "                                                     [key], {});\n",
              "          if (!dataTable) return;\n",
              "\n",
              "          const docLinkHtml = 'Like what you see? Visit the ' +\n",
              "            '<a target=\"_blank\" href=https://colab.research.google.com/notebooks/data_table.ipynb>data table notebook</a>'\n",
              "            + ' to learn more about interactive tables.';\n",
              "          element.innerHTML = '';\n",
              "          dataTable['output_type'] = 'display_data';\n",
              "          await google.colab.output.renderOutput(dataTable, element);\n",
              "          const docLink = document.createElement('div');\n",
              "          docLink.innerHTML = docLinkHtml;\n",
              "          element.appendChild(docLink);\n",
              "        }\n",
              "      </script>\n",
              "    </div>\n",
              "  </div>\n",
              "  "
            ]
          },
          "metadata": {},
          "execution_count": 9
        }
      ]
    },
    {
      "cell_type": "code",
      "source": [
        "df.info()"
      ],
      "metadata": {
        "colab": {
          "base_uri": "https://localhost:8080/"
        },
        "id": "TxnBiqsvMGPq",
        "outputId": "771cfcf8-3090-4fce-f0ff-5034c109ad00"
      },
      "execution_count": 13,
      "outputs": [
        {
          "output_type": "stream",
          "name": "stdout",
          "text": [
            "<class 'pandas.core.frame.DataFrame'>\n",
            "RangeIndex: 36 entries, 0 to 35\n",
            "Data columns (total 6 columns):\n",
            " #   Column  Non-Null Count  Dtype  \n",
            "---  ------  --------------  -----  \n",
            " 0   edad    36 non-null     int64  \n",
            " 1   peso    36 non-null     float64\n",
            " 2   altura  36 non-null     float64\n",
            " 3   muneca  36 non-null     float64\n",
            " 4   biceps  36 non-null     float64\n",
            " 5   sexo    36 non-null     int64  \n",
            "dtypes: float64(4), int64(2)\n",
            "memory usage: 1.8 KB\n"
          ]
        }
      ]
    },
    {
      "cell_type": "code",
      "source": [
        "df.describe()"
      ],
      "metadata": {
        "colab": {
          "base_uri": "https://localhost:8080/",
          "height": 300
        },
        "id": "9-y3mdAeat8c",
        "outputId": "a160518c-502e-45ce-cda4-d538a05f4a2c"
      },
      "execution_count": 14,
      "outputs": [
        {
          "output_type": "execute_result",
          "data": {
            "text/plain": [
              "            edad       peso      altura     muneca     biceps       sexo\n",
              "count  36.000000  36.000000   36.000000  36.000000  36.000000  36.000000\n",
              "mean   31.444444  68.952778  171.555556  10.466667  31.166667   0.500000\n",
              "std    10.554469  14.868999   10.520170   1.175463   5.234392   0.507093\n",
              "min    19.000000  42.000000  147.200000   8.300000  23.500000   0.000000\n",
              "25%    24.750000  54.950000  164.800000   9.475000  25.975000   0.000000\n",
              "50%    28.000000  71.500000  172.700000  10.650000  32.150000   0.500000\n",
              "75%    37.000000  82.400000  179.400000  11.500000  35.050000   1.000000\n",
              "max    65.000000  98.200000  190.500000  12.400000  40.400000   1.000000"
            ],
            "text/html": [
              "\n",
              "  <div id=\"df-2727759a-d169-46b6-8855-796b85fc2930\">\n",
              "    <div class=\"colab-df-container\">\n",
              "      <div>\n",
              "<style scoped>\n",
              "    .dataframe tbody tr th:only-of-type {\n",
              "        vertical-align: middle;\n",
              "    }\n",
              "\n",
              "    .dataframe tbody tr th {\n",
              "        vertical-align: top;\n",
              "    }\n",
              "\n",
              "    .dataframe thead th {\n",
              "        text-align: right;\n",
              "    }\n",
              "</style>\n",
              "<table border=\"1\" class=\"dataframe\">\n",
              "  <thead>\n",
              "    <tr style=\"text-align: right;\">\n",
              "      <th></th>\n",
              "      <th>edad</th>\n",
              "      <th>peso</th>\n",
              "      <th>altura</th>\n",
              "      <th>muneca</th>\n",
              "      <th>biceps</th>\n",
              "      <th>sexo</th>\n",
              "    </tr>\n",
              "  </thead>\n",
              "  <tbody>\n",
              "    <tr>\n",
              "      <th>count</th>\n",
              "      <td>36.000000</td>\n",
              "      <td>36.000000</td>\n",
              "      <td>36.000000</td>\n",
              "      <td>36.000000</td>\n",
              "      <td>36.000000</td>\n",
              "      <td>36.000000</td>\n",
              "    </tr>\n",
              "    <tr>\n",
              "      <th>mean</th>\n",
              "      <td>31.444444</td>\n",
              "      <td>68.952778</td>\n",
              "      <td>171.555556</td>\n",
              "      <td>10.466667</td>\n",
              "      <td>31.166667</td>\n",
              "      <td>0.500000</td>\n",
              "    </tr>\n",
              "    <tr>\n",
              "      <th>std</th>\n",
              "      <td>10.554469</td>\n",
              "      <td>14.868999</td>\n",
              "      <td>10.520170</td>\n",
              "      <td>1.175463</td>\n",
              "      <td>5.234392</td>\n",
              "      <td>0.507093</td>\n",
              "    </tr>\n",
              "    <tr>\n",
              "      <th>min</th>\n",
              "      <td>19.000000</td>\n",
              "      <td>42.000000</td>\n",
              "      <td>147.200000</td>\n",
              "      <td>8.300000</td>\n",
              "      <td>23.500000</td>\n",
              "      <td>0.000000</td>\n",
              "    </tr>\n",
              "    <tr>\n",
              "      <th>25%</th>\n",
              "      <td>24.750000</td>\n",
              "      <td>54.950000</td>\n",
              "      <td>164.800000</td>\n",
              "      <td>9.475000</td>\n",
              "      <td>25.975000</td>\n",
              "      <td>0.000000</td>\n",
              "    </tr>\n",
              "    <tr>\n",
              "      <th>50%</th>\n",
              "      <td>28.000000</td>\n",
              "      <td>71.500000</td>\n",
              "      <td>172.700000</td>\n",
              "      <td>10.650000</td>\n",
              "      <td>32.150000</td>\n",
              "      <td>0.500000</td>\n",
              "    </tr>\n",
              "    <tr>\n",
              "      <th>75%</th>\n",
              "      <td>37.000000</td>\n",
              "      <td>82.400000</td>\n",
              "      <td>179.400000</td>\n",
              "      <td>11.500000</td>\n",
              "      <td>35.050000</td>\n",
              "      <td>1.000000</td>\n",
              "    </tr>\n",
              "    <tr>\n",
              "      <th>max</th>\n",
              "      <td>65.000000</td>\n",
              "      <td>98.200000</td>\n",
              "      <td>190.500000</td>\n",
              "      <td>12.400000</td>\n",
              "      <td>40.400000</td>\n",
              "      <td>1.000000</td>\n",
              "    </tr>\n",
              "  </tbody>\n",
              "</table>\n",
              "</div>\n",
              "      <button class=\"colab-df-convert\" onclick=\"convertToInteractive('df-2727759a-d169-46b6-8855-796b85fc2930')\"\n",
              "              title=\"Convert this dataframe to an interactive table.\"\n",
              "              style=\"display:none;\">\n",
              "        \n",
              "  <svg xmlns=\"http://www.w3.org/2000/svg\" height=\"24px\"viewBox=\"0 0 24 24\"\n",
              "       width=\"24px\">\n",
              "    <path d=\"M0 0h24v24H0V0z\" fill=\"none\"/>\n",
              "    <path d=\"M18.56 5.44l.94 2.06.94-2.06 2.06-.94-2.06-.94-.94-2.06-.94 2.06-2.06.94zm-11 1L8.5 8.5l.94-2.06 2.06-.94-2.06-.94L8.5 2.5l-.94 2.06-2.06.94zm10 10l.94 2.06.94-2.06 2.06-.94-2.06-.94-.94-2.06-.94 2.06-2.06.94z\"/><path d=\"M17.41 7.96l-1.37-1.37c-.4-.4-.92-.59-1.43-.59-.52 0-1.04.2-1.43.59L10.3 9.45l-7.72 7.72c-.78.78-.78 2.05 0 2.83L4 21.41c.39.39.9.59 1.41.59.51 0 1.02-.2 1.41-.59l7.78-7.78 2.81-2.81c.8-.78.8-2.07 0-2.86zM5.41 20L4 18.59l7.72-7.72 1.47 1.35L5.41 20z\"/>\n",
              "  </svg>\n",
              "      </button>\n",
              "      \n",
              "  <style>\n",
              "    .colab-df-container {\n",
              "      display:flex;\n",
              "      flex-wrap:wrap;\n",
              "      gap: 12px;\n",
              "    }\n",
              "\n",
              "    .colab-df-convert {\n",
              "      background-color: #E8F0FE;\n",
              "      border: none;\n",
              "      border-radius: 50%;\n",
              "      cursor: pointer;\n",
              "      display: none;\n",
              "      fill: #1967D2;\n",
              "      height: 32px;\n",
              "      padding: 0 0 0 0;\n",
              "      width: 32px;\n",
              "    }\n",
              "\n",
              "    .colab-df-convert:hover {\n",
              "      background-color: #E2EBFA;\n",
              "      box-shadow: 0px 1px 2px rgba(60, 64, 67, 0.3), 0px 1px 3px 1px rgba(60, 64, 67, 0.15);\n",
              "      fill: #174EA6;\n",
              "    }\n",
              "\n",
              "    [theme=dark] .colab-df-convert {\n",
              "      background-color: #3B4455;\n",
              "      fill: #D2E3FC;\n",
              "    }\n",
              "\n",
              "    [theme=dark] .colab-df-convert:hover {\n",
              "      background-color: #434B5C;\n",
              "      box-shadow: 0px 1px 3px 1px rgba(0, 0, 0, 0.15);\n",
              "      filter: drop-shadow(0px 1px 2px rgba(0, 0, 0, 0.3));\n",
              "      fill: #FFFFFF;\n",
              "    }\n",
              "  </style>\n",
              "\n",
              "      <script>\n",
              "        const buttonEl =\n",
              "          document.querySelector('#df-2727759a-d169-46b6-8855-796b85fc2930 button.colab-df-convert');\n",
              "        buttonEl.style.display =\n",
              "          google.colab.kernel.accessAllowed ? 'block' : 'none';\n",
              "\n",
              "        async function convertToInteractive(key) {\n",
              "          const element = document.querySelector('#df-2727759a-d169-46b6-8855-796b85fc2930');\n",
              "          const dataTable =\n",
              "            await google.colab.kernel.invokeFunction('convertToInteractive',\n",
              "                                                     [key], {});\n",
              "          if (!dataTable) return;\n",
              "\n",
              "          const docLinkHtml = 'Like what you see? Visit the ' +\n",
              "            '<a target=\"_blank\" href=https://colab.research.google.com/notebooks/data_table.ipynb>data table notebook</a>'\n",
              "            + ' to learn more about interactive tables.';\n",
              "          element.innerHTML = '';\n",
              "          dataTable['output_type'] = 'display_data';\n",
              "          await google.colab.output.renderOutput(dataTable, element);\n",
              "          const docLink = document.createElement('div');\n",
              "          docLink.innerHTML = docLinkHtml;\n",
              "          element.appendChild(docLink);\n",
              "        }\n",
              "      </script>\n",
              "    </div>\n",
              "  </div>\n",
              "  "
            ]
          },
          "metadata": {},
          "execution_count": 14
        }
      ]
    },
    {
      "cell_type": "markdown",
      "source": [
        "# 4.ANALISIS EXPLORATORIO DE DATOS"
      ],
      "metadata": {
        "id": "-g9tj1WuL93W"
      }
    },
    {
      "cell_type": "code",
      "source": [
        "df[\"sexo\"].unique()"
      ],
      "metadata": {
        "colab": {
          "base_uri": "https://localhost:8080/"
        },
        "id": "jeBLTg0cadum",
        "outputId": "eefa350a-36a1-4f89-be32-6418157ac98e"
      },
      "execution_count": 11,
      "outputs": [
        {
          "output_type": "execute_result",
          "data": {
            "text/plain": [
              "array(['Hombre', 'Mujer'], dtype=object)"
            ]
          },
          "metadata": {},
          "execution_count": 11
        }
      ]
    },
    {
      "cell_type": "code",
      "source": [
        "# convirtiendo a 1 y 0\n",
        "df[\"sexo\"].replace({'Mujer': 0, 'Hombre': 1}, inplace=True)"
      ],
      "metadata": {
        "id": "fRx4Ofu5lGMG"
      },
      "execution_count": 12,
      "outputs": []
    },
    {
      "cell_type": "code",
      "source": [
        "#matriz de scatterplots(gráficos de dispersión)\n",
        "sns.pairplot(data=df[df.columns[0:6]], diag_kws={'edgecolor':'k', 'bins':25}, plot_kws={'edgecolor':'k'})\n",
        "plt.show()"
      ],
      "metadata": {
        "colab": {
          "base_uri": "https://localhost:8080/",
          "height": 1000
        },
        "id": "n4Q-UG9abbNn",
        "outputId": "6d06da7a-de07-477f-bc58-8b25582c3ad0"
      },
      "execution_count": 15,
      "outputs": [
        {
          "output_type": "display_data",
          "data": {
            "text/plain": [
              "<Figure size 1080x1080 with 42 Axes>"
            ],
            "image/png": "[encoded data removed]"
          },
          "metadata": {
            "needs_background": "light"
          }
        }
      ]
    },
    {
      "cell_type": "code",
      "source": [
        "plt.figure(figsize = [15, 5]) \n",
        "sns.boxplot(data = df);"
      ],
      "metadata": {
        "colab": {
          "base_uri": "https://localhost:8080/",
          "height": 324
        },
        "id": "M2O3AHbNMEKl",
        "outputId": "6f0f22a8-653d-4e2a-d9d3-df6d8a40d3a2"
      },
      "execution_count": 16,
      "outputs": [
        {
          "output_type": "display_data",
          "data": {
            "text/plain": [
              "<Figure size 1080x360 with 1 Axes>"
            ],
            "image/png": "[encoded data removed]"
          },
          "metadata": {
            "needs_background": "light"
          }
        }
      ]
    },
    {
      "cell_type": "code",
      "source": [
        "corr = df.corr()\n",
        "plt.figure(figsize=(20, 9))\n",
        "columnas = corr.nlargest(12 , 'sexo')['sexo'].index\n",
        "cm = np.corrcoef(df[columnas].values.T)\n",
        "sns.set(font_scale=1.35)\n",
        "hm = sns.heatmap(cm, cbar=True, annot=True, square=True, fmt='.2f', annot_kws={'size': 10}, \n",
        "                 yticklabels=columnas.values, xticklabels=columnas.values,cmap=\"Greens\")\n",
        "plt.show()"
      ],
      "metadata": {
        "colab": {
          "base_uri": "https://localhost:8080/",
          "height": 551
        },
        "id": "JmNoqDv3Mcax",
        "outputId": "03ba57aa-1f73-4544-aa6e-eaa8491a2b0b"
      },
      "execution_count": 18,
      "outputs": [
        {
          "output_type": "display_data",
          "data": {
            "text/plain": [
              "<Figure size 1440x648 with 2 Axes>"
            ],
            "image/png": "[encoded data removed]"
          },
          "metadata": {
            "needs_background": "light"
          }
        }
      ]
    },
    {
      "cell_type": "markdown",
      "source": [
        "# 5.NORMALIZACION DE DATOS"
      ],
      "metadata": {
        "id": "kF2t9Eki71NK"
      }
    },
    {
      "cell_type": "code",
      "source": [
        "X = df.drop(\"sexo\", axis=1)\n",
        "Y = df[\"sexo\"]\n",
        "\n",
        "scaler = preprocessing.StandardScaler()\n",
        "scaler.fit(X)\n",
        "# =========== TRANSFORMANDO =========== \n",
        "X = scaler.transform(X)"
      ],
      "metadata": {
        "id": "bwwGdc_g8Fsi"
      },
      "execution_count": 19,
      "outputs": []
    },
    {
      "cell_type": "markdown",
      "source": [
        "# 6.SEPARACION DE DATOS"
      ],
      "metadata": {
        "id": "ZgMDZveN8C1x"
      }
    },
    {
      "cell_type": "code",
      "source": [
        "# =========== SEPARACION DE DATOS =========== \n",
        "X_train, X_test, y_train, y_test = train_test_split(X,Y,test_size=0.4,random_state=42)"
      ],
      "metadata": {
        "id": "JHQSYRqgMIK4"
      },
      "execution_count": 21,
      "outputs": []
    },
    {
      "cell_type": "code",
      "source": [
        "print(\"Tamaño del conjunto de entrenamiento\", X_train.shape)\n",
        "print(\"Tamaño del conjunto de prueba\", X_test.shape)"
      ],
      "metadata": {
        "colab": {
          "base_uri": "https://localhost:8080/"
        },
        "id": "MMRFO3ey_Aj9",
        "outputId": "61d9cc1f-876f-4239-97b6-3fcb9c19ae9a"
      },
      "execution_count": 22,
      "outputs": [
        {
          "output_type": "stream",
          "name": "stdout",
          "text": [
            "Tamaño del conjunto de entrenamiento (21, 5)\n",
            "Tamaño del conjunto de prueba (15, 5)\n"
          ]
        }
      ]
    },
    {
      "cell_type": "markdown",
      "source": [
        "# 7.ENTRENAMIENTO"
      ],
      "metadata": {
        "id": "BKvrkOBbF2_K"
      }
    },
    {
      "cell_type": "code",
      "source": [
        "# modulo FIT\n",
        "def fit_perceptron(entradas,salidas,coef_aprendizaje,epocas):\n",
        "  pesos, bias = entrenar_perceptron(entradas, salidas, coef_aprendizaje, epocas)\n",
        "  return pesos, bias"
      ],
      "metadata": {
        "id": "vrTL8zgFMZ4n"
      },
      "execution_count": 23,
      "outputs": []
    },
    {
      "cell_type": "code",
      "source": [
        "# FIT\n",
        "pesos,bias = fit_perceptron(X_train,y_train, 0.2, 100)\n",
        "print(pesos,bias)"
      ],
      "metadata": {
        "id": "VxvHlRA1Gp0w",
        "colab": {
          "base_uri": "https://localhost:8080/"
        },
        "outputId": "ae787438-dda4-4ff0-fb18-6ea588b2439d"
      },
      "execution_count": 24,
      "outputs": [
        {
          "output_type": "stream",
          "name": "stdout",
          "text": [
            "[[-0.42882618 -0.46069478  1.11402472  0.86562451  0.85927925]] [0.01241495]\n"
          ]
        }
      ]
    },
    {
      "cell_type": "markdown",
      "source": [
        "# 8.TEST RNA"
      ],
      "metadata": {
        "id": "ONRWsmqedo7b"
      }
    },
    {
      "cell_type": "code",
      "source": [
        "def perceptron_predict(entradas):\n",
        "  y_pred = []\n",
        "  for entrada in entradas:\n",
        "    y_pred.append(neurona(entrada,pesos,bias))\n",
        "  return y_pred"
      ],
      "metadata": {
        "id": "PXK2fZy7CIB5"
      },
      "execution_count": 25,
      "outputs": []
    },
    {
      "cell_type": "code",
      "source": [
        "y_pred=perceptron_predict(X_test)"
      ],
      "metadata": {
        "id": "7uGgqQCRCCOh"
      },
      "execution_count": 26,
      "outputs": []
    },
    {
      "cell_type": "code",
      "source": [
        "pd.DataFrame(confusion_matrix(y_test, y_pred), columns=[\"Predict-YES\", \"Predict-NO\"], index=[\"YES\",\"NO\"])"
      ],
      "metadata": {
        "colab": {
          "base_uri": "https://localhost:8080/",
          "height": 112
        },
        "id": "PUPGZ5rx7f6x",
        "outputId": "aff308c1-a770-4a30-d869-872d4abfbfed"
      },
      "execution_count": 27,
      "outputs": [
        {
          "output_type": "execute_result",
          "data": {
            "text/plain": [
              "     Predict-YES  Predict-NO\n",
              "YES            6           1\n",
              "NO             1           7"
            ],
            "text/html": [
              "\n",
              "  <div id=\"df-83e9adfa-eead-438f-98a7-2245290c4218\">\n",
              "    <div class=\"colab-df-container\">\n",
              "      <div>\n",
              "<style scoped>\n",
              "    .dataframe tbody tr th:only-of-type {\n",
              "        vertical-align: middle;\n",
              "    }\n",
              "\n",
              "    .dataframe tbody tr th {\n",
              "        vertical-align: top;\n",
              "    }\n",
              "\n",
              "    .dataframe thead th {\n",
              "        text-align: right;\n",
              "    }\n",
              "</style>\n",
              "<table border=\"1\" class=\"dataframe\">\n",
              "  <thead>\n",
              "    <tr style=\"text-align: right;\">\n",
              "      <th></th>\n",
              "      <th>Predict-YES</th>\n",
              "      <th>Predict-NO</th>\n",
              "    </tr>\n",
              "  </thead>\n",
              "  <tbody>\n",
              "    <tr>\n",
              "      <th>YES</th>\n",
              "      <td>6</td>\n",
              "      <td>1</td>\n",
              "    </tr>\n",
              "    <tr>\n",
              "      <th>NO</th>\n",
              "      <td>1</td>\n",
              "      <td>7</td>\n",
              "    </tr>\n",
              "  </tbody>\n",
              "</table>\n",
              "</div>\n",
              "      <button class=\"colab-df-convert\" onclick=\"convertToInteractive('df-83e9adfa-eead-438f-98a7-2245290c4218')\"\n",
              "              title=\"Convert this dataframe to an interactive table.\"\n",
              "              style=\"display:none;\">\n",
              "        \n",
              "  <svg xmlns=\"http://www.w3.org/2000/svg\" height=\"24px\"viewBox=\"0 0 24 24\"\n",
              "       width=\"24px\">\n",
              "    <path d=\"M0 0h24v24H0V0z\" fill=\"none\"/>\n",
              "    <path d=\"M18.56 5.44l.94 2.06.94-2.06 2.06-.94-2.06-.94-.94-2.06-.94 2.06-2.06.94zm-11 1L8.5 8.5l.94-2.06 2.06-.94-2.06-.94L8.5 2.5l-.94 2.06-2.06.94zm10 10l.94 2.06.94-2.06 2.06-.94-2.06-.94-.94-2.06-.94 2.06-2.06.94z\"/><path d=\"M17.41 7.96l-1.37-1.37c-.4-.4-.92-.59-1.43-.59-.52 0-1.04.2-1.43.59L10.3 9.45l-7.72 7.72c-.78.78-.78 2.05 0 2.83L4 21.41c.39.39.9.59 1.41.59.51 0 1.02-.2 1.41-.59l7.78-7.78 2.81-2.81c.8-.78.8-2.07 0-2.86zM5.41 20L4 18.59l7.72-7.72 1.47 1.35L5.41 20z\"/>\n",
              "  </svg>\n",
              "      </button>\n",
              "      \n",
              "  <style>\n",
              "    .colab-df-container {\n",
              "      display:flex;\n",
              "      flex-wrap:wrap;\n",
              "      gap: 12px;\n",
              "    }\n",
              "\n",
              "    .colab-df-convert {\n",
              "      background-color: #E8F0FE;\n",
              "      border: none;\n",
              "      border-radius: 50%;\n",
              "      cursor: pointer;\n",
              "      display: none;\n",
              "      fill: #1967D2;\n",
              "      height: 32px;\n",
              "      padding: 0 0 0 0;\n",
              "      width: 32px;\n",
              "    }\n",
              "\n",
              "    .colab-df-convert:hover {\n",
              "      background-color: #E2EBFA;\n",
              "      box-shadow: 0px 1px 2px rgba(60, 64, 67, 0.3), 0px 1px 3px 1px rgba(60, 64, 67, 0.15);\n",
              "      fill: #174EA6;\n",
              "    }\n",
              "\n",
              "    [theme=dark] .colab-df-convert {\n",
              "      background-color: #3B4455;\n",
              "      fill: #D2E3FC;\n",
              "    }\n",
              "\n",
              "    [theme=dark] .colab-df-convert:hover {\n",
              "      background-color: #434B5C;\n",
              "      box-shadow: 0px 1px 3px 1px rgba(0, 0, 0, 0.15);\n",
              "      filter: drop-shadow(0px 1px 2px rgba(0, 0, 0, 0.3));\n",
              "      fill: #FFFFFF;\n",
              "    }\n",
              "  </style>\n",
              "\n",
              "      <script>\n",
              "        const buttonEl =\n",
              "          document.querySelector('#df-83e9adfa-eead-438f-98a7-2245290c4218 button.colab-df-convert');\n",
              "        buttonEl.style.display =\n",
              "          google.colab.kernel.accessAllowed ? 'block' : 'none';\n",
              "\n",
              "        async function convertToInteractive(key) {\n",
              "          const element = document.querySelector('#df-83e9adfa-eead-438f-98a7-2245290c4218');\n",
              "          const dataTable =\n",
              "            await google.colab.kernel.invokeFunction('convertToInteractive',\n",
              "                                                     [key], {});\n",
              "          if (!dataTable) return;\n",
              "\n",
              "          const docLinkHtml = 'Like what you see? Visit the ' +\n",
              "            '<a target=\"_blank\" href=https://colab.research.google.com/notebooks/data_table.ipynb>data table notebook</a>'\n",
              "            + ' to learn more about interactive tables.';\n",
              "          element.innerHTML = '';\n",
              "          dataTable['output_type'] = 'display_data';\n",
              "          await google.colab.output.renderOutput(dataTable, element);\n",
              "          const docLink = document.createElement('div');\n",
              "          docLink.innerHTML = docLinkHtml;\n",
              "          element.appendChild(docLink);\n",
              "        }\n",
              "      </script>\n",
              "    </div>\n",
              "  </div>\n",
              "  "
            ]
          },
          "metadata": {},
          "execution_count": 27
        }
      ]
    },
    {
      "cell_type": "markdown",
      "source": [
        "# 9.METRICAS"
      ],
      "metadata": {
        "id": "4vVbZjJd7kd1"
      }
    },
    {
      "cell_type": "code",
      "source": [
        "print(classification_report(y_test,y_pred ))"
      ],
      "metadata": {
        "colab": {
          "base_uri": "https://localhost:8080/"
        },
        "id": "aryjxuSv69vw",
        "outputId": "d3e07f0e-f17f-44f5-ff08-ef2f340c0ecc"
      },
      "execution_count": 28,
      "outputs": [
        {
          "output_type": "stream",
          "name": "stdout",
          "text": [
            "              precision    recall  f1-score   support\n",
            "\n",
            "           0       0.86      0.86      0.86         7\n",
            "           1       0.88      0.88      0.88         8\n",
            "\n",
            "    accuracy                           0.87        15\n",
            "   macro avg       0.87      0.87      0.87        15\n",
            "weighted avg       0.87      0.87      0.87        15\n",
            "\n"
          ]
        }
      ]
    },
    {
      "cell_type": "code",
      "source": [
        "# Curva de ROC\n",
        "from sklearn.metrics import roc_curve, roc_auc_score\n",
        "models_probabilities=[]\n",
        "models_probabilities.append(y_pred)\n",
        "\n",
        "models_probs = []\n",
        "models_fpr_tpr = []\n",
        "for y_pred in models_probabilities:\n",
        "  # Calculando auc score\n",
        "  auc = roc_auc_score(y_test, y_pred)\n",
        "  models_probs.append(auc)\n",
        "  # Calculando la curva de ROC -> fpr,tpr\n",
        "  model_fpr, model_tpr, _ = roc_curve(y_test, y_pred)\n",
        "  models_fpr_tpr.append((model_fpr, model_tpr))\n",
        "\n",
        "r_probs = [0 for _ in range(len(y_test))] # probabilidad de referencia base\n",
        "models_probs.append(roc_auc_score(y_test, r_probs))\n",
        "model_fpr_, model_tpr_, _ = roc_curve(y_test, r_probs)\n",
        "models_fpr_tpr.append((model_fpr_, model_tpr_))\n",
        "\n",
        "# graficando CURVA ROC\n",
        "\n",
        "auc_RNA = models_probs[0]\n",
        "auc_r = models_probs[1]\n",
        "\n",
        "RNA_fpr, RNA_tpr = models_fpr_tpr[0]\n",
        "r_fpr, r_tpr = models_fpr_tpr[1]\n",
        "\n",
        "plt.figure(figsize=(10,10))\n",
        "\n",
        "plt.plot(r_fpr, r_tpr,linestyle='--', label=\"random (AUROC = %0.3f)\" % auc_r)\n",
        "plt.plot(RNA_fpr, RNA_tpr,marker='.', label=\"RNA (AUROC = %0.3f)\" % auc_RNA)\n",
        "\n",
        "plt.title(\"CURVA ROC\")\n",
        "plt.xlabel(\"False positive rate\")\n",
        "plt.xlabel(\"True positive rate\")\n",
        "\n",
        "plt.legend()\n",
        "plt.show()"
      ],
      "metadata": {
        "colab": {
          "base_uri": "https://localhost:8080/",
          "height": 636
        },
        "id": "V2JiDZZYe6DF",
        "outputId": "7f9e5e6e-5eea-483b-e909-fca0187fa1c8"
      },
      "execution_count": 29,
      "outputs": [
        {
          "output_type": "display_data",
          "data": {
            "text/plain": [
              "<Figure size 720x720 with 1 Axes>"
            ],
            "image/png": "[encoded data removed]"
          },
          "metadata": {}
        }
      ]
    },
    {
      "cell_type": "markdown",
      "source": [
        "# 10.SALVAR Y RECUPERAR VALORES(peso, bias) DEL MODELO DE RNA ENTRENADO"
      ],
      "metadata": {
        "id": "h4uXUU_Aj_a0"
      }
    },
    {
      "cell_type": "code",
      "source": [
        "file_values = open(\"persona.txt\",\"w\")\n",
        "for peso in pesos[0]:\n",
        "  file_values.writelines(f\"{peso}\\n\")\n",
        "#file_values.writelines(f\"{pesos[0]}\")\n",
        "file_values.write(f\"{bias[0]}\")\n",
        "file_values.close()"
      ],
      "metadata": {
        "id": "ml-0krdTkIaF"
      },
      "execution_count": 30,
      "outputs": []
    },
    {
      "cell_type": "code",
      "source": [
        "# RECUPERAR VALORES DEL MODELO DE RNA\n",
        "\n",
        "with open(\"persona.txt\") as file_object:\n",
        "  contents = file_object.readlines()\n",
        "  \n",
        "# extraer los datos en una lista  \n",
        "values_saved = []\n",
        "for value in contents:\n",
        "  values_saved.append(float(value.rstrip('\\n')))"
      ],
      "metadata": {
        "id": "utcNnksT5TWd"
      },
      "execution_count": 31,
      "outputs": []
    },
    {
      "cell_type": "code",
      "source": [
        "weight_saved = np.array([values_saved[0:-1]])\n",
        "bias_saved = values_saved[-1]"
      ],
      "metadata": {
        "id": "_jtKkMIyBFXU"
      },
      "execution_count": 32,
      "outputs": []
    },
    {
      "cell_type": "markdown",
      "source": [
        "# 11.PREDICCION"
      ],
      "metadata": {
        "id": "mbe_D3OLeZAM"
      }
    },
    {
      "cell_type": "code",
      "source": [
        "def predecir(entrada,pesos,bias):\n",
        "  return neurona(entrada,pesos,bias)"
      ],
      "metadata": {
        "id": "w3mnGfKl69tp"
      },
      "execution_count": 33,
      "outputs": []
    },
    {
      "cell_type": "code",
      "source": [
        "df.columns"
      ],
      "metadata": {
        "colab": {
          "base_uri": "https://localhost:8080/"
        },
        "id": "DNmcHguca_wK",
        "outputId": "27cdfbaa-8ace-4bd5-b732-16a6083ff42d"
      },
      "execution_count": 34,
      "outputs": [
        {
          "output_type": "execute_result",
          "data": {
            "text/plain": [
              "Index(['edad', 'peso', 'altura', 'muneca', 'biceps', 'sexo'], dtype='object')"
            ]
          },
          "metadata": {},
          "execution_count": 34
        }
      ]
    },
    {
      "cell_type": "code",
      "source": [
        "def leer_datos():\n",
        "  features = ['edad', 'peso', 'altura', 'muneca', 'biceps']\n",
        "  data_input = []\n",
        "  for feature in features:\n",
        "    value = float(input(f\"insert value of {feature}: \"))\n",
        "    data_input.append(value)\n",
        "  return data_input"
      ],
      "metadata": {
        "id": "8Ao3MvAn69rW"
      },
      "execution_count": 35,
      "outputs": []
    },
    {
      "cell_type": "code",
      "source": [
        "entrada = leer_datos()"
      ],
      "metadata": {
        "colab": {
          "base_uri": "https://localhost:8080/"
        },
        "id": "vWjkxZte69oz",
        "outputId": "f01ad2a4-026b-400f-c577-f764d7cafd51"
      },
      "execution_count": 36,
      "outputs": [
        {
          "name": "stdout",
          "output_type": "stream",
          "text": [
            "insert value of edad: 19\n",
            "insert value of peso: 48\n",
            "insert value of altura: 165\n",
            "insert value of muneca: 9\n",
            "insert value of biceps: 29\n"
          ]
        }
      ]
    },
    {
      "cell_type": "code",
      "source": [
        "entrada_df = np.array([entrada]) # convertir a array de numpy y lista de listas\n",
        "# NORMALIZANDO LOS DATOS DE ENTRADA\n",
        "entrada_df = scaler.transform(entrada_df)"
      ],
      "metadata": {
        "colab": {
          "base_uri": "https://localhost:8080/"
        },
        "id": "Qqz3i6IRCw9p",
        "outputId": "ce7df511-69a8-409b-d7aa-cf1eefd22f1d"
      },
      "execution_count": 37,
      "outputs": [
        {
          "output_type": "stream",
          "name": "stderr",
          "text": [
            "/usr/local/lib/python3.7/dist-packages/sklearn/base.py:451: UserWarning: X does not have valid feature names, but StandardScaler was fitted with feature names\n",
            "  \"X does not have valid feature names, but\"\n"
          ]
        }
      ]
    },
    {
      "cell_type": "code",
      "source": [
        "result = predecir(entrada_df[0],weight_saved,bias_saved)\n",
        "if result == 1:\n",
        "  print(\"varon\")\n",
        "else:\n",
        "  print(\"mujer\")"
      ],
      "metadata": {
        "colab": {
          "base_uri": "https://localhost:8080/"
        },
        "id": "4qi4tdoT69kz",
        "outputId": "71542c8c-a208-4f90-8736-b51bc8001488"
      },
      "execution_count": 38,
      "outputs": [
        {
          "output_type": "stream",
          "name": "stdout",
          "text": [
            "mujer\n"
          ]
        }
      ]
    }
  ]
}