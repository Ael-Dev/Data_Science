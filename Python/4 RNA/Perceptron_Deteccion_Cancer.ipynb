{
  "nbformat": 4,
  "nbformat_minor": 0,
  "metadata": {
    "colab": {
      "provenance": [],
      "collapsed_sections": [],
      "toc_visible": true
    },
    "kernelspec": {
      "name": "python3",
      "display_name": "Python 3"
    },
    "language_info": {
      "name": "python"
    }
  },
  "cells": [
    {
      "cell_type": "code",
      "execution_count": 3,
      "metadata": {
        "id": "l6EMaZR7L8tB"
      },
      "outputs": [],
      "source": [
        "# ============ importar librerias a usar ============\n",
        "import pandas as pd\n",
        "import numpy as np\n",
        "import seaborn as sns\n",
        "import matplotlib.pyplot as plt\n",
        "from sklearn.model_selection import train_test_split\n",
        "from sklearn import preprocessing\n",
        "from sklearn.metrics import classification_report, confusion_matrix"
      ]
    },
    {
      "cell_type": "markdown",
      "source": [
        "## 1.FUNCIONES DE ACTIVACION"
      ],
      "metadata": {
        "id": "7rYmJ64Y3mpt"
      }
    },
    {
      "cell_type": "code",
      "source": [
        "def escalon(x):\n",
        "  if x > 0:\n",
        "    return 1\n",
        "  else:\n",
        "    return 0\n"
      ],
      "metadata": {
        "id": "2Ab-GHOKMJZp"
      },
      "execution_count": 4,
      "outputs": []
    },
    {
      "cell_type": "code",
      "source": [
        "def sigmoide(x):\n",
        "  # para que salga exactamente 0 o exactamente 1\n",
        "  if x<=-10:\n",
        "    return 0\n",
        "  elif x >= 10:\n",
        "    return 1\n",
        "  else:\n",
        "    return 1/(1+np.exp(-x))"
      ],
      "metadata": {
        "id": "LAdGqZsSKM09"
      },
      "execution_count": 5,
      "outputs": []
    },
    {
      "cell_type": "code",
      "source": [
        "escalon_vec = np.vectorize(escalon)\n",
        "sigmoide_vec = np.vectorize(sigmoide)"
      ],
      "metadata": {
        "id": "iO-rqCqqMNRi"
      },
      "execution_count": 6,
      "outputs": []
    },
    {
      "cell_type": "markdown",
      "source": [
        "# 2.RNA PERCEPTRON"
      ],
      "metadata": {
        "id": "4e5aDrpe2BHY"
      }
    },
    {
      "cell_type": "code",
      "source": [
        "# creando la neurona\n",
        "def neurona(entradaX, pesosW1, biasB1, funcion=\"escalon\"):\n",
        "  # capa 1\n",
        "  entrada_neta = np.dot(pesosW1,entradaX) + biasB1 # Z = W*X + b\n",
        "  if funcion == \"escalon\":\n",
        "    salida_C1 = escalon_vec(entrada_neta)  # f(Z)\n",
        "  else:\n",
        "    salida_C1 = sigmoide_vec(entrada_neta)\n",
        "  return salida_C1[0] #salida"
      ],
      "metadata": {
        "id": "cl-W_5D0MPXS"
      },
      "execution_count": 7,
      "outputs": []
    },
    {
      "cell_type": "code",
      "source": [
        "def ajuste_perceptron(entradas, salidas, coef_aprendizaje, pesos, bias):\n",
        "  for entrada, salida_deseada in zip(entradas,salidas):\n",
        "    salida_obtenida = neurona(entrada, pesos, bias)\n",
        "    error =  salida_deseada - salida_obtenida\n",
        "    if error != 0: # ajustando pesos\n",
        "      pesos += coef_aprendizaje*error*entrada\n",
        "      bias += coef_aprendizaje*error*(1) # se pone -1 si el bias de la neurona es -bias para positivizarlos\n",
        "  return pesos, bias # retorna  pesos y bias parciales\n"
      ],
      "metadata": {
        "id": "DdCk0751GYyh"
      },
      "execution_count": 8,
      "outputs": []
    },
    {
      "cell_type": "code",
      "source": [
        "# perceptron fit\n",
        "def entrenar_perceptron(entradas, salidas, coef_aprendizaje, epocas):\n",
        "  n=len(entradas[0])\n",
        "  pesos = np.array(2*np.random.rand(1,9)-1) # 9 entradas 1 neurona\n",
        "  bias = 2*np.random.rand(1)-1\n",
        "  for iter in range(epocas): # buscar pesos, bias\n",
        "    pesos, bias = ajuste_perceptron(entradas, salidas, coef_aprendizaje, pesos, bias)\n",
        "  return pesos, bias #retorna pesos y bias optimo\n"
      ],
      "metadata": {
        "id": "GobGgaJ1EX_F"
      },
      "execution_count": 9,
      "outputs": []
    },
    {
      "cell_type": "markdown",
      "source": [
        "# 3.LECTURA DE DATOS"
      ],
      "metadata": {
        "id": "VcZ6FpzU2F7r"
      }
    },
    {
      "cell_type": "code",
      "source": [
        "df = pd.read_csv(\"cancer.csv\")\n",
        "df.head()"
      ],
      "metadata": {
        "colab": {
          "base_uri": "https://localhost:8080/",
          "height": 206
        },
        "id": "66GpBDZ2MEg4",
        "outputId": "059a200e-4b46-44cd-88af-dcabc3e66e71"
      },
      "execution_count": 10,
      "outputs": [
        {
          "output_type": "execute_result",
          "data": {
            "text/plain": [
              "   EspesorGrupo  UniformidadTamano  UniformidadForma  AdhesionMarginal  \\\n",
              "0             5                  1                 1                 1   \n",
              "1             5                  4                 4                 5   \n",
              "2             3                  1                 1                 1   \n",
              "3             6                  8                 8                 1   \n",
              "4             4                  1                 1                 3   \n",
              "\n",
              "   TamanoCelular Epitelial Nucleos Desnudos  Cromatina Blanda  Nucleo Normal  \\\n",
              "0                        2                1                 3              1   \n",
              "1                        7               10                 3              2   \n",
              "2                        2                2                 3              1   \n",
              "3                        3                4                 3              7   \n",
              "4                        2                1                 3              1   \n",
              "\n",
              "   Mitosis  Clase  \n",
              "0        1      2  \n",
              "1        1      2  \n",
              "2        1      2  \n",
              "3        1      2  \n",
              "4        1      2  "
            ],
            "text/html": [
              "\n",
              "  <div id=\"df-130161d8-8168-42de-9de8-8fa49e67e2bb\">\n",
              "    <div class=\"colab-df-container\">\n",
              "      <div>\n",
              "<style scoped>\n",
              "    .dataframe tbody tr th:only-of-type {\n",
              "        vertical-align: middle;\n",
              "    }\n",
              "\n",
              "    .dataframe tbody tr th {\n",
              "        vertical-align: top;\n",
              "    }\n",
              "\n",
              "    .dataframe thead th {\n",
              "        text-align: right;\n",
              "    }\n",
              "</style>\n",
              "<table border=\"1\" class=\"dataframe\">\n",
              "  <thead>\n",
              "    <tr style=\"text-align: right;\">\n",
              "      <th></th>\n",
              "      <th>EspesorGrupo</th>\n",
              "      <th>UniformidadTamano</th>\n",
              "      <th>UniformidadForma</th>\n",
              "      <th>AdhesionMarginal</th>\n",
              "      <th>TamanoCelular Epitelial</th>\n",
              "      <th>Nucleos Desnudos</th>\n",
              "      <th>Cromatina Blanda</th>\n",
              "      <th>Nucleo Normal</th>\n",
              "      <th>Mitosis</th>\n",
              "      <th>Clase</th>\n",
              "    </tr>\n",
              "  </thead>\n",
              "  <tbody>\n",
              "    <tr>\n",
              "      <th>0</th>\n",
              "      <td>5</td>\n",
              "      <td>1</td>\n",
              "      <td>1</td>\n",
              "      <td>1</td>\n",
              "      <td>2</td>\n",
              "      <td>1</td>\n",
              "      <td>3</td>\n",
              "      <td>1</td>\n",
              "      <td>1</td>\n",
              "      <td>2</td>\n",
              "    </tr>\n",
              "    <tr>\n",
              "      <th>1</th>\n",
              "      <td>5</td>\n",
              "      <td>4</td>\n",
              "      <td>4</td>\n",
              "      <td>5</td>\n",
              "      <td>7</td>\n",
              "      <td>10</td>\n",
              "      <td>3</td>\n",
              "      <td>2</td>\n",
              "      <td>1</td>\n",
              "      <td>2</td>\n",
              "    </tr>\n",
              "    <tr>\n",
              "      <th>2</th>\n",
              "      <td>3</td>\n",
              "      <td>1</td>\n",
              "      <td>1</td>\n",
              "      <td>1</td>\n",
              "      <td>2</td>\n",
              "      <td>2</td>\n",
              "      <td>3</td>\n",
              "      <td>1</td>\n",
              "      <td>1</td>\n",
              "      <td>2</td>\n",
              "    </tr>\n",
              "    <tr>\n",
              "      <th>3</th>\n",
              "      <td>6</td>\n",
              "      <td>8</td>\n",
              "      <td>8</td>\n",
              "      <td>1</td>\n",
              "      <td>3</td>\n",
              "      <td>4</td>\n",
              "      <td>3</td>\n",
              "      <td>7</td>\n",
              "      <td>1</td>\n",
              "      <td>2</td>\n",
              "    </tr>\n",
              "    <tr>\n",
              "      <th>4</th>\n",
              "      <td>4</td>\n",
              "      <td>1</td>\n",
              "      <td>1</td>\n",
              "      <td>3</td>\n",
              "      <td>2</td>\n",
              "      <td>1</td>\n",
              "      <td>3</td>\n",
              "      <td>1</td>\n",
              "      <td>1</td>\n",
              "      <td>2</td>\n",
              "    </tr>\n",
              "  </tbody>\n",
              "</table>\n",
              "</div>\n",
              "      <button class=\"colab-df-convert\" onclick=\"convertToInteractive('df-130161d8-8168-42de-9de8-8fa49e67e2bb')\"\n",
              "              title=\"Convert this dataframe to an interactive table.\"\n",
              "              style=\"display:none;\">\n",
              "        \n",
              "  <svg xmlns=\"http://www.w3.org/2000/svg\" height=\"24px\"viewBox=\"0 0 24 24\"\n",
              "       width=\"24px\">\n",
              "    <path d=\"M0 0h24v24H0V0z\" fill=\"none\"/>\n",
              "    <path d=\"M18.56 5.44l.94 2.06.94-2.06 2.06-.94-2.06-.94-.94-2.06-.94 2.06-2.06.94zm-11 1L8.5 8.5l.94-2.06 2.06-.94-2.06-.94L8.5 2.5l-.94 2.06-2.06.94zm10 10l.94 2.06.94-2.06 2.06-.94-2.06-.94-.94-2.06-.94 2.06-2.06.94z\"/><path d=\"M17.41 7.96l-1.37-1.37c-.4-.4-.92-.59-1.43-.59-.52 0-1.04.2-1.43.59L10.3 9.45l-7.72 7.72c-.78.78-.78 2.05 0 2.83L4 21.41c.39.39.9.59 1.41.59.51 0 1.02-.2 1.41-.59l7.78-7.78 2.81-2.81c.8-.78.8-2.07 0-2.86zM5.41 20L4 18.59l7.72-7.72 1.47 1.35L5.41 20z\"/>\n",
              "  </svg>\n",
              "      </button>\n",
              "      \n",
              "  <style>\n",
              "    .colab-df-container {\n",
              "      display:flex;\n",
              "      flex-wrap:wrap;\n",
              "      gap: 12px;\n",
              "    }\n",
              "\n",
              "    .colab-df-convert {\n",
              "      background-color: #E8F0FE;\n",
              "      border: none;\n",
              "      border-radius: 50%;\n",
              "      cursor: pointer;\n",
              "      display: none;\n",
              "      fill: #1967D2;\n",
              "      height: 32px;\n",
              "      padding: 0 0 0 0;\n",
              "      width: 32px;\n",
              "    }\n",
              "\n",
              "    .colab-df-convert:hover {\n",
              "      background-color: #E2EBFA;\n",
              "      box-shadow: 0px 1px 2px rgba(60, 64, 67, 0.3), 0px 1px 3px 1px rgba(60, 64, 67, 0.15);\n",
              "      fill: #174EA6;\n",
              "    }\n",
              "\n",
              "    [theme=dark] .colab-df-convert {\n",
              "      background-color: #3B4455;\n",
              "      fill: #D2E3FC;\n",
              "    }\n",
              "\n",
              "    [theme=dark] .colab-df-convert:hover {\n",
              "      background-color: #434B5C;\n",
              "      box-shadow: 0px 1px 3px 1px rgba(0, 0, 0, 0.15);\n",
              "      filter: drop-shadow(0px 1px 2px rgba(0, 0, 0, 0.3));\n",
              "      fill: #FFFFFF;\n",
              "    }\n",
              "  </style>\n",
              "\n",
              "      <script>\n",
              "        const buttonEl =\n",
              "          document.querySelector('#df-130161d8-8168-42de-9de8-8fa49e67e2bb button.colab-df-convert');\n",
              "        buttonEl.style.display =\n",
              "          google.colab.kernel.accessAllowed ? 'block' : 'none';\n",
              "\n",
              "        async function convertToInteractive(key) {\n",
              "          const element = document.querySelector('#df-130161d8-8168-42de-9de8-8fa49e67e2bb');\n",
              "          const dataTable =\n",
              "            await google.colab.kernel.invokeFunction('convertToInteractive',\n",
              "                                                     [key], {});\n",
              "          if (!dataTable) return;\n",
              "\n",
              "          const docLinkHtml = 'Like what you see? Visit the ' +\n",
              "            '<a target=\"_blank\" href=https://colab.research.google.com/notebooks/data_table.ipynb>data table notebook</a>'\n",
              "            + ' to learn more about interactive tables.';\n",
              "          element.innerHTML = '';\n",
              "          dataTable['output_type'] = 'display_data';\n",
              "          await google.colab.output.renderOutput(dataTable, element);\n",
              "          const docLink = document.createElement('div');\n",
              "          docLink.innerHTML = docLinkHtml;\n",
              "          element.appendChild(docLink);\n",
              "        }\n",
              "      </script>\n",
              "    </div>\n",
              "  </div>\n",
              "  "
            ]
          },
          "metadata": {},
          "execution_count": 10
        }
      ]
    },
    {
      "cell_type": "code",
      "source": [
        "df.info()"
      ],
      "metadata": {
        "colab": {
          "base_uri": "https://localhost:8080/"
        },
        "id": "TxnBiqsvMGPq",
        "outputId": "f57a47ae-df35-4bef-f70c-42ff32b196c9"
      },
      "execution_count": 11,
      "outputs": [
        {
          "output_type": "stream",
          "name": "stdout",
          "text": [
            "<class 'pandas.core.frame.DataFrame'>\n",
            "RangeIndex: 699 entries, 0 to 698\n",
            "Data columns (total 10 columns):\n",
            " #   Column                   Non-Null Count  Dtype \n",
            "---  ------                   --------------  ----- \n",
            " 0   EspesorGrupo             699 non-null    int64 \n",
            " 1   UniformidadTamano        699 non-null    int64 \n",
            " 2   UniformidadForma         699 non-null    int64 \n",
            " 3   AdhesionMarginal         699 non-null    int64 \n",
            " 4   TamanoCelular Epitelial  699 non-null    int64 \n",
            " 5   Nucleos Desnudos         699 non-null    object\n",
            " 6   Cromatina Blanda         699 non-null    int64 \n",
            " 7   Nucleo Normal            699 non-null    int64 \n",
            " 8   Mitosis                  699 non-null    int64 \n",
            " 9   Clase                    699 non-null    int64 \n",
            "dtypes: int64(9), object(1)\n",
            "memory usage: 54.7+ KB\n"
          ]
        }
      ]
    },
    {
      "cell_type": "code",
      "source": [
        "df.describe()"
      ],
      "metadata": {
        "colab": {
          "base_uri": "https://localhost:8080/",
          "height": 300
        },
        "id": "9-y3mdAeat8c",
        "outputId": "82796ac5-0cea-4df9-d846-2f4335664754"
      },
      "execution_count": 12,
      "outputs": [
        {
          "output_type": "execute_result",
          "data": {
            "text/plain": [
              "       EspesorGrupo  UniformidadTamano  UniformidadForma  AdhesionMarginal  \\\n",
              "count    699.000000         699.000000        699.000000        699.000000   \n",
              "mean       4.417740           3.134478          3.207439          2.806867   \n",
              "std        2.815741           3.051459          2.971913          2.855379   \n",
              "min        1.000000           1.000000          1.000000          1.000000   \n",
              "25%        2.000000           1.000000          1.000000          1.000000   \n",
              "50%        4.000000           1.000000          1.000000          1.000000   \n",
              "75%        6.000000           5.000000          5.000000          4.000000   \n",
              "max       10.000000          10.000000         10.000000         10.000000   \n",
              "\n",
              "       TamanoCelular Epitelial  Cromatina Blanda  Nucleo Normal     Mitosis  \\\n",
              "count               699.000000        699.000000     699.000000  699.000000   \n",
              "mean                  3.216023          3.437768       2.866953    1.589413   \n",
              "std                   2.214300          2.438364       3.053634    1.715078   \n",
              "min                   1.000000          1.000000       1.000000    1.000000   \n",
              "25%                   2.000000          2.000000       1.000000    1.000000   \n",
              "50%                   2.000000          3.000000       1.000000    1.000000   \n",
              "75%                   4.000000          5.000000       4.000000    1.000000   \n",
              "max                  10.000000         10.000000      10.000000   10.000000   \n",
              "\n",
              "            Clase  \n",
              "count  699.000000  \n",
              "mean     2.689557  \n",
              "std      0.951273  \n",
              "min      2.000000  \n",
              "25%      2.000000  \n",
              "50%      2.000000  \n",
              "75%      4.000000  \n",
              "max      4.000000  "
            ],
            "text/html": [
              "\n",
              "  <div id=\"df-569fcfab-c78c-4368-911d-27af4ac6adf3\">\n",
              "    <div class=\"colab-df-container\">\n",
              "      <div>\n",
              "<style scoped>\n",
              "    .dataframe tbody tr th:only-of-type {\n",
              "        vertical-align: middle;\n",
              "    }\n",
              "\n",
              "    .dataframe tbody tr th {\n",
              "        vertical-align: top;\n",
              "    }\n",
              "\n",
              "    .dataframe thead th {\n",
              "        text-align: right;\n",
              "    }\n",
              "</style>\n",
              "<table border=\"1\" class=\"dataframe\">\n",
              "  <thead>\n",
              "    <tr style=\"text-align: right;\">\n",
              "      <th></th>\n",
              "      <th>EspesorGrupo</th>\n",
              "      <th>UniformidadTamano</th>\n",
              "      <th>UniformidadForma</th>\n",
              "      <th>AdhesionMarginal</th>\n",
              "      <th>TamanoCelular Epitelial</th>\n",
              "      <th>Cromatina Blanda</th>\n",
              "      <th>Nucleo Normal</th>\n",
              "      <th>Mitosis</th>\n",
              "      <th>Clase</th>\n",
              "    </tr>\n",
              "  </thead>\n",
              "  <tbody>\n",
              "    <tr>\n",
              "      <th>count</th>\n",
              "      <td>699.000000</td>\n",
              "      <td>699.000000</td>\n",
              "      <td>699.000000</td>\n",
              "      <td>699.000000</td>\n",
              "      <td>699.000000</td>\n",
              "      <td>699.000000</td>\n",
              "      <td>699.000000</td>\n",
              "      <td>699.000000</td>\n",
              "      <td>699.000000</td>\n",
              "    </tr>\n",
              "    <tr>\n",
              "      <th>mean</th>\n",
              "      <td>4.417740</td>\n",
              "      <td>3.134478</td>\n",
              "      <td>3.207439</td>\n",
              "      <td>2.806867</td>\n",
              "      <td>3.216023</td>\n",
              "      <td>3.437768</td>\n",
              "      <td>2.866953</td>\n",
              "      <td>1.589413</td>\n",
              "      <td>2.689557</td>\n",
              "    </tr>\n",
              "    <tr>\n",
              "      <th>std</th>\n",
              "      <td>2.815741</td>\n",
              "      <td>3.051459</td>\n",
              "      <td>2.971913</td>\n",
              "      <td>2.855379</td>\n",
              "      <td>2.214300</td>\n",
              "      <td>2.438364</td>\n",
              "      <td>3.053634</td>\n",
              "      <td>1.715078</td>\n",
              "      <td>0.951273</td>\n",
              "    </tr>\n",
              "    <tr>\n",
              "      <th>min</th>\n",
              "      <td>1.000000</td>\n",
              "      <td>1.000000</td>\n",
              "      <td>1.000000</td>\n",
              "      <td>1.000000</td>\n",
              "      <td>1.000000</td>\n",
              "      <td>1.000000</td>\n",
              "      <td>1.000000</td>\n",
              "      <td>1.000000</td>\n",
              "      <td>2.000000</td>\n",
              "    </tr>\n",
              "    <tr>\n",
              "      <th>25%</th>\n",
              "      <td>2.000000</td>\n",
              "      <td>1.000000</td>\n",
              "      <td>1.000000</td>\n",
              "      <td>1.000000</td>\n",
              "      <td>2.000000</td>\n",
              "      <td>2.000000</td>\n",
              "      <td>1.000000</td>\n",
              "      <td>1.000000</td>\n",
              "      <td>2.000000</td>\n",
              "    </tr>\n",
              "    <tr>\n",
              "      <th>50%</th>\n",
              "      <td>4.000000</td>\n",
              "      <td>1.000000</td>\n",
              "      <td>1.000000</td>\n",
              "      <td>1.000000</td>\n",
              "      <td>2.000000</td>\n",
              "      <td>3.000000</td>\n",
              "      <td>1.000000</td>\n",
              "      <td>1.000000</td>\n",
              "      <td>2.000000</td>\n",
              "    </tr>\n",
              "    <tr>\n",
              "      <th>75%</th>\n",
              "      <td>6.000000</td>\n",
              "      <td>5.000000</td>\n",
              "      <td>5.000000</td>\n",
              "      <td>4.000000</td>\n",
              "      <td>4.000000</td>\n",
              "      <td>5.000000</td>\n",
              "      <td>4.000000</td>\n",
              "      <td>1.000000</td>\n",
              "      <td>4.000000</td>\n",
              "    </tr>\n",
              "    <tr>\n",
              "      <th>max</th>\n",
              "      <td>10.000000</td>\n",
              "      <td>10.000000</td>\n",
              "      <td>10.000000</td>\n",
              "      <td>10.000000</td>\n",
              "      <td>10.000000</td>\n",
              "      <td>10.000000</td>\n",
              "      <td>10.000000</td>\n",
              "      <td>10.000000</td>\n",
              "      <td>4.000000</td>\n",
              "    </tr>\n",
              "  </tbody>\n",
              "</table>\n",
              "</div>\n",
              "      <button class=\"colab-df-convert\" onclick=\"convertToInteractive('df-569fcfab-c78c-4368-911d-27af4ac6adf3')\"\n",
              "              title=\"Convert this dataframe to an interactive table.\"\n",
              "              style=\"display:none;\">\n",
              "        \n",
              "  <svg xmlns=\"http://www.w3.org/2000/svg\" height=\"24px\"viewBox=\"0 0 24 24\"\n",
              "       width=\"24px\">\n",
              "    <path d=\"M0 0h24v24H0V0z\" fill=\"none\"/>\n",
              "    <path d=\"M18.56 5.44l.94 2.06.94-2.06 2.06-.94-2.06-.94-.94-2.06-.94 2.06-2.06.94zm-11 1L8.5 8.5l.94-2.06 2.06-.94-2.06-.94L8.5 2.5l-.94 2.06-2.06.94zm10 10l.94 2.06.94-2.06 2.06-.94-2.06-.94-.94-2.06-.94 2.06-2.06.94z\"/><path d=\"M17.41 7.96l-1.37-1.37c-.4-.4-.92-.59-1.43-.59-.52 0-1.04.2-1.43.59L10.3 9.45l-7.72 7.72c-.78.78-.78 2.05 0 2.83L4 21.41c.39.39.9.59 1.41.59.51 0 1.02-.2 1.41-.59l7.78-7.78 2.81-2.81c.8-.78.8-2.07 0-2.86zM5.41 20L4 18.59l7.72-7.72 1.47 1.35L5.41 20z\"/>\n",
              "  </svg>\n",
              "      </button>\n",
              "      \n",
              "  <style>\n",
              "    .colab-df-container {\n",
              "      display:flex;\n",
              "      flex-wrap:wrap;\n",
              "      gap: 12px;\n",
              "    }\n",
              "\n",
              "    .colab-df-convert {\n",
              "      background-color: #E8F0FE;\n",
              "      border: none;\n",
              "      border-radius: 50%;\n",
              "      cursor: pointer;\n",
              "      display: none;\n",
              "      fill: #1967D2;\n",
              "      height: 32px;\n",
              "      padding: 0 0 0 0;\n",
              "      width: 32px;\n",
              "    }\n",
              "\n",
              "    .colab-df-convert:hover {\n",
              "      background-color: #E2EBFA;\n",
              "      box-shadow: 0px 1px 2px rgba(60, 64, 67, 0.3), 0px 1px 3px 1px rgba(60, 64, 67, 0.15);\n",
              "      fill: #174EA6;\n",
              "    }\n",
              "\n",
              "    [theme=dark] .colab-df-convert {\n",
              "      background-color: #3B4455;\n",
              "      fill: #D2E3FC;\n",
              "    }\n",
              "\n",
              "    [theme=dark] .colab-df-convert:hover {\n",
              "      background-color: #434B5C;\n",
              "      box-shadow: 0px 1px 3px 1px rgba(0, 0, 0, 0.15);\n",
              "      filter: drop-shadow(0px 1px 2px rgba(0, 0, 0, 0.3));\n",
              "      fill: #FFFFFF;\n",
              "    }\n",
              "  </style>\n",
              "\n",
              "      <script>\n",
              "        const buttonEl =\n",
              "          document.querySelector('#df-569fcfab-c78c-4368-911d-27af4ac6adf3 button.colab-df-convert');\n",
              "        buttonEl.style.display =\n",
              "          google.colab.kernel.accessAllowed ? 'block' : 'none';\n",
              "\n",
              "        async function convertToInteractive(key) {\n",
              "          const element = document.querySelector('#df-569fcfab-c78c-4368-911d-27af4ac6adf3');\n",
              "          const dataTable =\n",
              "            await google.colab.kernel.invokeFunction('convertToInteractive',\n",
              "                                                     [key], {});\n",
              "          if (!dataTable) return;\n",
              "\n",
              "          const docLinkHtml = 'Like what you see? Visit the ' +\n",
              "            '<a target=\"_blank\" href=https://colab.research.google.com/notebooks/data_table.ipynb>data table notebook</a>'\n",
              "            + ' to learn more about interactive tables.';\n",
              "          element.innerHTML = '';\n",
              "          dataTable['output_type'] = 'display_data';\n",
              "          await google.colab.output.renderOutput(dataTable, element);\n",
              "          const docLink = document.createElement('div');\n",
              "          docLink.innerHTML = docLinkHtml;\n",
              "          element.appendChild(docLink);\n",
              "        }\n",
              "      </script>\n",
              "    </div>\n",
              "  </div>\n",
              "  "
            ]
          },
          "metadata": {},
          "execution_count": 12
        }
      ]
    },
    {
      "cell_type": "markdown",
      "source": [
        "# 4.ANALISIS EXPLORATORIO DE DATOS"
      ],
      "metadata": {
        "id": "-g9tj1WuL93W"
      }
    },
    {
      "cell_type": "code",
      "source": [
        "#matriz de scatterplots(gráficos de dispersión)\n",
        "#sns.pairplot(data=df[df.columns[0:9]], diag_kws={'edgecolor':'k', 'bins':25}, plot_kws={'edgecolor':'k'})\n",
        "#plt.show()"
      ],
      "metadata": {
        "id": "n4Q-UG9abbNn"
      },
      "execution_count": 13,
      "outputs": []
    },
    {
      "cell_type": "code",
      "source": [
        "plt.figure(figsize = [15, 5]) \n",
        "sns.boxplot(data = df);"
      ],
      "metadata": {
        "colab": {
          "base_uri": "https://localhost:8080/",
          "height": 320
        },
        "id": "M2O3AHbNMEKl",
        "outputId": "fc6359e2-10ab-48fa-fb2f-f5111b4b65e7"
      },
      "execution_count": 14,
      "outputs": [
        {
          "output_type": "display_data",
          "data": {
            "text/plain": [
              "<Figure size 1080x360 with 1 Axes>"
            ],
            "image/png": "[encoded data removed]"
          },
          "metadata": {
            "needs_background": "light"
          }
        }
      ]
    },
    {
      "cell_type": "code",
      "source": [
        "corr = df.corr()\n",
        "plt.figure(figsize=(20, 9))\n",
        "columnas = corr.nlargest(12 , 'Clase')['Clase'].index\n",
        "cm = np.corrcoef(df[columnas].values.T)\n",
        "sns.set(font_scale=1.35)\n",
        "hm = sns.heatmap(cm, cbar=True, annot=True, square=True, fmt='.2f', annot_kws={'size': 10}, \n",
        "                 yticklabels=columnas.values, xticklabels=columnas.values,cmap=\"Greens\")\n",
        "plt.show()"
      ],
      "metadata": {
        "colab": {
          "base_uri": "https://localhost:8080/",
          "height": 711
        },
        "id": "JmNoqDv3Mcax",
        "outputId": "ef55315d-2b34-4c9f-e713-eaf5022bfc86"
      },
      "execution_count": 15,
      "outputs": [
        {
          "output_type": "display_data",
          "data": {
            "text/plain": [
              "<Figure size 1440x648 with 2 Axes>"
            ],
            "image/png": "[encoded data removed]"
          },
          "metadata": {
            "needs_background": "light"
          }
        }
      ]
    },
    {
      "cell_type": "markdown",
      "source": [
        "# PREPROCESAMIENTO DE DATOS"
      ],
      "metadata": {
        "id": "eqBKHSyZu7ad"
      }
    },
    {
      "cell_type": "code",
      "source": [
        "df[\"Clase\"].unique()"
      ],
      "metadata": {
        "colab": {
          "base_uri": "https://localhost:8080/"
        },
        "id": "jeBLTg0cadum",
        "outputId": "0ef6ea44-590b-483b-c4cb-56b5ff0f264c"
      },
      "execution_count": 16,
      "outputs": [
        {
          "output_type": "execute_result",
          "data": {
            "text/plain": [
              "array([2, 4])"
            ]
          },
          "metadata": {},
          "execution_count": 16
        }
      ]
    },
    {
      "cell_type": "code",
      "source": [
        "# convirtiendo a 1 y 0\n",
        "df[\"Clase\"].replace({2: 0, 4: 1}, inplace=True)"
      ],
      "metadata": {
        "id": "fRx4Ofu5lGMG"
      },
      "execution_count": 17,
      "outputs": []
    },
    {
      "cell_type": "code",
      "source": [
        "# ANALISIS DE DATOS EXPLORATORIO\n",
        "df[\"Nucleos Desnudos\"].unique()"
      ],
      "metadata": {
        "colab": {
          "base_uri": "https://localhost:8080/"
        },
        "id": "Eja7GIcim1Rd",
        "outputId": "cceb8b4a-4dd9-43c6-fd73-7b85346f46fd"
      },
      "execution_count": 18,
      "outputs": [
        {
          "output_type": "execute_result",
          "data": {
            "text/plain": [
              "array(['1', '10', '2', '4', '3', '9', '7', '5', '?', '8', '6'],\n",
              "      dtype=object)"
            ]
          },
          "metadata": {},
          "execution_count": 18
        }
      ]
    },
    {
      "cell_type": "code",
      "source": [
        "df[\"Nucleos Desnudos\"].value_counts()"
      ],
      "metadata": {
        "colab": {
          "base_uri": "https://localhost:8080/"
        },
        "id": "fwyxcB7fnJgY",
        "outputId": "2fab57cf-3717-4e16-870c-f3620962ef98"
      },
      "execution_count": 19,
      "outputs": [
        {
          "output_type": "execute_result",
          "data": {
            "text/plain": [
              "1     403\n",
              "10    132\n",
              "2      30\n",
              "5      30\n",
              "3      28\n",
              "8      21\n",
              "4      19\n",
              "?      15\n",
              "9       9\n",
              "7       8\n",
              "6       4\n",
              "Name: Nucleos Desnudos, dtype: int64"
            ]
          },
          "metadata": {},
          "execution_count": 19
        }
      ]
    },
    {
      "cell_type": "code",
      "source": [
        "# REEMPLAZANDO ? POR LA MODA\n",
        "moda = df[\"Nucleos Desnudos\"].mode()\n",
        "df[\"Nucleos Desnudos\"].replace({\"?\": moda[0]}, inplace=True)\n",
        "df[\"Nucleos Desnudos\"]=df[\"Nucleos Desnudos\"].astype(\"int64\")\n",
        "df[\"Nucleos Desnudos\"].value_counts()"
      ],
      "metadata": {
        "colab": {
          "base_uri": "https://localhost:8080/"
        },
        "id": "wcKz-gPcn2y2",
        "outputId": "9ab54012-215b-4d3c-b7bc-0ddc6381a585"
      },
      "execution_count": 29,
      "outputs": [
        {
          "output_type": "execute_result",
          "data": {
            "text/plain": [
              "1     418\n",
              "10    132\n",
              "2      30\n",
              "5      30\n",
              "3      28\n",
              "8      21\n",
              "4      19\n",
              "9       9\n",
              "7       8\n",
              "6       4\n",
              "Name: Nucleos Desnudos, dtype: int64"
            ]
          },
          "metadata": {},
          "execution_count": 29
        }
      ]
    },
    {
      "cell_type": "code",
      "source": [
        "df.info()"
      ],
      "metadata": {
        "colab": {
          "base_uri": "https://localhost:8080/"
        },
        "id": "ALwBaUvn3-1E",
        "outputId": "78bfc784-ed55-4a6d-ccfe-92b4625e08bf"
      },
      "execution_count": 30,
      "outputs": [
        {
          "output_type": "stream",
          "name": "stdout",
          "text": [
            "<class 'pandas.core.frame.DataFrame'>\n",
            "RangeIndex: 699 entries, 0 to 698\n",
            "Data columns (total 10 columns):\n",
            " #   Column                   Non-Null Count  Dtype\n",
            "---  ------                   --------------  -----\n",
            " 0   EspesorGrupo             699 non-null    int64\n",
            " 1   UniformidadTamano        699 non-null    int64\n",
            " 2   UniformidadForma         699 non-null    int64\n",
            " 3   AdhesionMarginal         699 non-null    int64\n",
            " 4   TamanoCelular Epitelial  699 non-null    int64\n",
            " 5   Nucleos Desnudos         699 non-null    int64\n",
            " 6   Cromatina Blanda         699 non-null    int64\n",
            " 7   Nucleo Normal            699 non-null    int64\n",
            " 8   Mitosis                  699 non-null    int64\n",
            " 9   Clase                    699 non-null    int64\n",
            "dtypes: int64(10)\n",
            "memory usage: 54.7 KB\n"
          ]
        }
      ]
    },
    {
      "cell_type": "code",
      "source": [
        "#!pip install feature-engine"
      ],
      "metadata": {
        "id": "4emFdE3L3Uul"
      },
      "execution_count": 21,
      "outputs": []
    },
    {
      "cell_type": "code",
      "source": [
        "# TRATAMIENTO DE OUTLIERS\n",
        "from feature_engine.outliers import Winsorizer\n",
        "\n",
        "features = df.columns.to_list()\n",
        "# The values to cap variables are determined using: a Gaussian approximation. the inter-quantile range proximity rule (IQR)\n",
        "windsoriser = Winsorizer(capping_method='iqr', \n",
        "                          tail='both', # aplicar para ambos lados de la caja y bigotes\n",
        "                          fold=1.5,\n",
        "                          variables=features[:-1]) # variables sobre las cuales realizar el tratamiento de outliers\n",
        "# entrenar modelo \n",
        "windsoriser.fit(df)\n",
        "# transformar en base a los datos entrenados\n",
        "df = windsoriser.transform(df)"
      ],
      "metadata": {
        "id": "syhm89bo3XFt"
      },
      "execution_count": 31,
      "outputs": []
    },
    {
      "cell_type": "code",
      "source": [
        "plt.figure(figsize = [15, 5]) \n",
        "sns.boxplot(data = df);"
      ],
      "metadata": {
        "colab": {
          "base_uri": "https://localhost:8080/",
          "height": 327
        },
        "id": "xtX50ZJx339S",
        "outputId": "1b37edba-6d23-42fc-9a27-11d6e8e645e2"
      },
      "execution_count": 32,
      "outputs": [
        {
          "output_type": "display_data",
          "data": {
            "text/plain": [
              "<Figure size 1080x360 with 1 Axes>"
            ],
            "image/png": "[encoded data removed]"
          },
          "metadata": {}
        }
      ]
    },
    {
      "cell_type": "markdown",
      "source": [
        "# 5.NORMALIZACION DE DATOS"
      ],
      "metadata": {
        "id": "kF2t9Eki71NK"
      }
    },
    {
      "cell_type": "code",
      "source": [
        "X = df.drop(\"Clase\", axis=1)\n",
        "Y = df[\"Clase\"]\n",
        "\n",
        "scaler = preprocessing.StandardScaler()\n",
        "scaler.fit(X)\n",
        "# =========== TRANSFORMANDO =========== \n",
        "X = scaler.transform(X)"
      ],
      "metadata": {
        "id": "bwwGdc_g8Fsi"
      },
      "execution_count": 33,
      "outputs": []
    },
    {
      "cell_type": "markdown",
      "source": [
        "# 6.SEPARACION DE DATOS"
      ],
      "metadata": {
        "id": "ZgMDZveN8C1x"
      }
    },
    {
      "cell_type": "code",
      "source": [
        "# =========== SEPARACION DE DATOS =========== \n",
        "X_train, X_test, y_train, y_test = train_test_split(X,Y,test_size=0.2,random_state=42)"
      ],
      "metadata": {
        "id": "JHQSYRqgMIK4"
      },
      "execution_count": 34,
      "outputs": []
    },
    {
      "cell_type": "code",
      "source": [
        "print(\"Tamaño del conjunto de entrenamiento\", X_train.shape)\n",
        "print(\"Tamaño del conjunto de prueba\", X_test.shape)"
      ],
      "metadata": {
        "colab": {
          "base_uri": "https://localhost:8080/"
        },
        "id": "MMRFO3ey_Aj9",
        "outputId": "5ded0a29-6fce-4d2d-df35-e40bd8aeedf1"
      },
      "execution_count": 35,
      "outputs": [
        {
          "output_type": "stream",
          "name": "stdout",
          "text": [
            "Tamaño del conjunto de entrenamiento (559, 9)\n",
            "Tamaño del conjunto de prueba (140, 9)\n"
          ]
        }
      ]
    },
    {
      "cell_type": "markdown",
      "source": [
        "# 7.ENTRENAMIENTO"
      ],
      "metadata": {
        "id": "BKvrkOBbF2_K"
      }
    },
    {
      "cell_type": "code",
      "source": [
        "# modulo FIT\n",
        "def fit_perceptron(entradas,salidas,coef_aprendizaje,epocas):\n",
        "  pesos, bias = entrenar_perceptron(entradas, salidas, coef_aprendizaje, epocas)\n",
        "  return pesos, bias"
      ],
      "metadata": {
        "id": "vrTL8zgFMZ4n"
      },
      "execution_count": 36,
      "outputs": []
    },
    {
      "cell_type": "code",
      "source": [
        "# FIT\n",
        "pesos,bias = fit_perceptron(X_train,y_train, 0.2, 100)\n",
        "print(pesos,bias)"
      ],
      "metadata": {
        "id": "VxvHlRA1Gp0w",
        "colab": {
          "base_uri": "https://localhost:8080/"
        },
        "outputId": "327f6ca9-543d-4355-e070-969da8e40418"
      },
      "execution_count": 37,
      "outputs": [
        {
          "output_type": "stream",
          "name": "stdout",
          "text": [
            "[[0.36548419 0.81869771 0.94178807 0.24058512 0.3105506  0.57327293\n",
            "  0.77700803 0.42736443 0.43957676]] [-0.27625545]\n"
          ]
        }
      ]
    },
    {
      "cell_type": "markdown",
      "source": [
        "# 8.TEST RNA"
      ],
      "metadata": {
        "id": "ONRWsmqedo7b"
      }
    },
    {
      "cell_type": "code",
      "source": [
        "def perceptron_predict(entradas):\n",
        "  y_pred = []\n",
        "  for entrada in entradas:\n",
        "    probabilitie_result = neurona(entrada,pesos,bias,\"sigmoide_vec\")\n",
        "    if probabilitie_result >= 0.70:\n",
        "      y_pred.append(1)\n",
        "    else:\n",
        "      y_pred.append(0)\n",
        "  return y_pred"
      ],
      "metadata": {
        "id": "KoWtPmiu5CJ8"
      },
      "execution_count": 77,
      "outputs": []
    },
    {
      "cell_type": "code",
      "source": [
        "y_pred=perceptron_predict(X_test)"
      ],
      "metadata": {
        "id": "7uGgqQCRCCOh"
      },
      "execution_count": 78,
      "outputs": []
    },
    {
      "cell_type": "code",
      "source": [
        "pd.DataFrame(confusion_matrix(y_test, y_pred), columns=[\"Predict-YES\", \"Predict-NO\"], index=[\"YES\",\"NO\"])"
      ],
      "metadata": {
        "colab": {
          "base_uri": "https://localhost:8080/",
          "height": 112
        },
        "id": "PUPGZ5rx7f6x",
        "outputId": "7d094047-a67a-418f-fd2f-5cf3a8d0a85b"
      },
      "execution_count": 79,
      "outputs": [
        {
          "output_type": "execute_result",
          "data": {
            "text/plain": [
              "     Predict-YES  Predict-NO\n",
              "YES           93           2\n",
              "NO             3          42"
            ],
            "text/html": [
              "\n",
              "  <div id=\"df-2e6dd406-9584-43ab-974a-2de151393633\">\n",
              "    <div class=\"colab-df-container\">\n",
              "      <div>\n",
              "<style scoped>\n",
              "    .dataframe tbody tr th:only-of-type {\n",
              "        vertical-align: middle;\n",
              "    }\n",
              "\n",
              "    .dataframe tbody tr th {\n",
              "        vertical-align: top;\n",
              "    }\n",
              "\n",
              "    .dataframe thead th {\n",
              "        text-align: right;\n",
              "    }\n",
              "</style>\n",
              "<table border=\"1\" class=\"dataframe\">\n",
              "  <thead>\n",
              "    <tr style=\"text-align: right;\">\n",
              "      <th></th>\n",
              "      <th>Predict-YES</th>\n",
              "      <th>Predict-NO</th>\n",
              "    </tr>\n",
              "  </thead>\n",
              "  <tbody>\n",
              "    <tr>\n",
              "      <th>YES</th>\n",
              "      <td>93</td>\n",
              "      <td>2</td>\n",
              "    </tr>\n",
              "    <tr>\n",
              "      <th>NO</th>\n",
              "      <td>3</td>\n",
              "      <td>42</td>\n",
              "    </tr>\n",
              "  </tbody>\n",
              "</table>\n",
              "</div>\n",
              "      <button class=\"colab-df-convert\" onclick=\"convertToInteractive('df-2e6dd406-9584-43ab-974a-2de151393633')\"\n",
              "              title=\"Convert this dataframe to an interactive table.\"\n",
              "              style=\"display:none;\">\n",
              "        \n",
              "  <svg xmlns=\"http://www.w3.org/2000/svg\" height=\"24px\"viewBox=\"0 0 24 24\"\n",
              "       width=\"24px\">\n",
              "    <path d=\"M0 0h24v24H0V0z\" fill=\"none\"/>\n",
              "    <path d=\"M18.56 5.44l.94 2.06.94-2.06 2.06-.94-2.06-.94-.94-2.06-.94 2.06-2.06.94zm-11 1L8.5 8.5l.94-2.06 2.06-.94-2.06-.94L8.5 2.5l-.94 2.06-2.06.94zm10 10l.94 2.06.94-2.06 2.06-.94-2.06-.94-.94-2.06-.94 2.06-2.06.94z\"/><path d=\"M17.41 7.96l-1.37-1.37c-.4-.4-.92-.59-1.43-.59-.52 0-1.04.2-1.43.59L10.3 9.45l-7.72 7.72c-.78.78-.78 2.05 0 2.83L4 21.41c.39.39.9.59 1.41.59.51 0 1.02-.2 1.41-.59l7.78-7.78 2.81-2.81c.8-.78.8-2.07 0-2.86zM5.41 20L4 18.59l7.72-7.72 1.47 1.35L5.41 20z\"/>\n",
              "  </svg>\n",
              "      </button>\n",
              "      \n",
              "  <style>\n",
              "    .colab-df-container {\n",
              "      display:flex;\n",
              "      flex-wrap:wrap;\n",
              "      gap: 12px;\n",
              "    }\n",
              "\n",
              "    .colab-df-convert {\n",
              "      background-color: #E8F0FE;\n",
              "      border: none;\n",
              "      border-radius: 50%;\n",
              "      cursor: pointer;\n",
              "      display: none;\n",
              "      fill: #1967D2;\n",
              "      height: 32px;\n",
              "      padding: 0 0 0 0;\n",
              "      width: 32px;\n",
              "    }\n",
              "\n",
              "    .colab-df-convert:hover {\n",
              "      background-color: #E2EBFA;\n",
              "      box-shadow: 0px 1px 2px rgba(60, 64, 67, 0.3), 0px 1px 3px 1px rgba(60, 64, 67, 0.15);\n",
              "      fill: #174EA6;\n",
              "    }\n",
              "\n",
              "    [theme=dark] .colab-df-convert {\n",
              "      background-color: #3B4455;\n",
              "      fill: #D2E3FC;\n",
              "    }\n",
              "\n",
              "    [theme=dark] .colab-df-convert:hover {\n",
              "      background-color: #434B5C;\n",
              "      box-shadow: 0px 1px 3px 1px rgba(0, 0, 0, 0.15);\n",
              "      filter: drop-shadow(0px 1px 2px rgba(0, 0, 0, 0.3));\n",
              "      fill: #FFFFFF;\n",
              "    }\n",
              "  </style>\n",
              "\n",
              "      <script>\n",
              "        const buttonEl =\n",
              "          document.querySelector('#df-2e6dd406-9584-43ab-974a-2de151393633 button.colab-df-convert');\n",
              "        buttonEl.style.display =\n",
              "          google.colab.kernel.accessAllowed ? 'block' : 'none';\n",
              "\n",
              "        async function convertToInteractive(key) {\n",
              "          const element = document.querySelector('#df-2e6dd406-9584-43ab-974a-2de151393633');\n",
              "          const dataTable =\n",
              "            await google.colab.kernel.invokeFunction('convertToInteractive',\n",
              "                                                     [key], {});\n",
              "          if (!dataTable) return;\n",
              "\n",
              "          const docLinkHtml = 'Like what you see? Visit the ' +\n",
              "            '<a target=\"_blank\" href=https://colab.research.google.com/notebooks/data_table.ipynb>data table notebook</a>'\n",
              "            + ' to learn more about interactive tables.';\n",
              "          element.innerHTML = '';\n",
              "          dataTable['output_type'] = 'display_data';\n",
              "          await google.colab.output.renderOutput(dataTable, element);\n",
              "          const docLink = document.createElement('div');\n",
              "          docLink.innerHTML = docLinkHtml;\n",
              "          element.appendChild(docLink);\n",
              "        }\n",
              "      </script>\n",
              "    </div>\n",
              "  </div>\n",
              "  "
            ]
          },
          "metadata": {},
          "execution_count": 79
        }
      ]
    },
    {
      "cell_type": "markdown",
      "source": [
        "# 9.METRICAS"
      ],
      "metadata": {
        "id": "4vVbZjJd7kd1"
      }
    },
    {
      "cell_type": "code",
      "source": [
        "print(classification_report(y_test,y_pred ))"
      ],
      "metadata": {
        "colab": {
          "base_uri": "https://localhost:8080/"
        },
        "id": "aryjxuSv69vw",
        "outputId": "919f23ec-2819-4db3-de12-b9c0e5114f60"
      },
      "execution_count": 80,
      "outputs": [
        {
          "output_type": "stream",
          "name": "stdout",
          "text": [
            "              precision    recall  f1-score   support\n",
            "\n",
            "           0       0.97      0.98      0.97        95\n",
            "           1       0.95      0.93      0.94        45\n",
            "\n",
            "    accuracy                           0.96       140\n",
            "   macro avg       0.96      0.96      0.96       140\n",
            "weighted avg       0.96      0.96      0.96       140\n",
            "\n"
          ]
        }
      ]
    },
    {
      "cell_type": "code",
      "source": [
        "# Curva de ROC\n",
        "from sklearn.metrics import roc_curve, roc_auc_score\n",
        "models_probabilities=[]\n",
        "models_probabilities.append(y_pred)\n",
        "\n",
        "models_probs = []\n",
        "models_fpr_tpr = []\n",
        "for y_pred in models_probabilities:\n",
        "  # Calculando auc score\n",
        "  auc = roc_auc_score(y_test, y_pred)\n",
        "  models_probs.append(auc)\n",
        "  # Calculando la curva de ROC -> fpr,tpr\n",
        "  model_fpr, model_tpr, _ = roc_curve(y_test, y_pred)\n",
        "  models_fpr_tpr.append((model_fpr, model_tpr))\n",
        "\n",
        "r_probs = [0 for _ in range(len(y_test))] # probabilidad de referencia base\n",
        "models_probs.append(roc_auc_score(y_test, r_probs))\n",
        "model_fpr_, model_tpr_, _ = roc_curve(y_test, r_probs)\n",
        "models_fpr_tpr.append((model_fpr_, model_tpr_))\n",
        "\n",
        "# graficando CURVA ROC\n",
        "\n",
        "auc_RNA = models_probs[0]\n",
        "auc_r = models_probs[1]\n",
        "\n",
        "RNA_fpr, RNA_tpr = models_fpr_tpr[0]\n",
        "r_fpr, r_tpr = models_fpr_tpr[1]\n",
        "\n",
        "plt.figure(figsize=(10,10))\n",
        "\n",
        "plt.plot(r_fpr, r_tpr,linestyle='--', label=\"random (AUROC = %0.3f)\" % auc_r)\n",
        "plt.plot(RNA_fpr, RNA_tpr,marker='.', label=\"RNA (AUROC = %0.3f)\" % auc_RNA)\n",
        "\n",
        "plt.title(\"CURVA ROC\")\n",
        "plt.xlabel(\"False positive rate\")\n",
        "plt.xlabel(\"True positive rate\")\n",
        "\n",
        "plt.legend()\n",
        "plt.show()"
      ],
      "metadata": {
        "colab": {
          "base_uri": "https://localhost:8080/",
          "height": 636
        },
        "id": "V2JiDZZYe6DF",
        "outputId": "771042c8-b7f2-46eb-8337-20f0bb641ce2"
      },
      "execution_count": 81,
      "outputs": [
        {
          "output_type": "display_data",
          "data": {
            "text/plain": [
              "<Figure size 720x720 with 1 Axes>"
            ],
            "image/png": "[encoded data removed]"
          },
          "metadata": {}
        }
      ]
    },
    {
      "cell_type": "markdown",
      "source": [
        "# 10.SALVAR Y RECUPERAR VALORES(peso, bias) DEL MODELO DE RNA ENTRENADO"
      ],
      "metadata": {
        "id": "h4uXUU_Aj_a0"
      }
    },
    {
      "cell_type": "code",
      "source": [
        "file_values = open(\"NRA_Cancer.txt\",\"w\")\n",
        "for peso in pesos[0]:\n",
        "  file_values.writelines(f\"{peso}\\n\")\n",
        "#file_values.writelines(f\"{pesos[0]}\")\n",
        "file_values.write(f\"{bias[0]}\")\n",
        "file_values.close()"
      ],
      "metadata": {
        "id": "ml-0krdTkIaF"
      },
      "execution_count": 82,
      "outputs": []
    },
    {
      "cell_type": "code",
      "source": [
        "# RECUPERAR VALORES DEL MODELO DE RNA\n",
        "\n",
        "with open(\"NRA_Cancer.txt\") as file_object:\n",
        "  contents = file_object.readlines()\n",
        "  \n",
        "# extraer los datos en una lista  \n",
        "values_saved = []\n",
        "for value in contents:\n",
        "  values_saved.append(float(value.rstrip('\\n')))"
      ],
      "metadata": {
        "id": "utcNnksT5TWd"
      },
      "execution_count": 83,
      "outputs": []
    },
    {
      "cell_type": "code",
      "source": [
        "weight_saved = np.array([values_saved[0:-1]])\n",
        "bias_saved = values_saved[-1]"
      ],
      "metadata": {
        "id": "_jtKkMIyBFXU"
      },
      "execution_count": 84,
      "outputs": []
    },
    {
      "cell_type": "markdown",
      "source": [
        "# 11.PREDICCION"
      ],
      "metadata": {
        "id": "mbe_D3OLeZAM"
      }
    },
    {
      "cell_type": "code",
      "source": [
        "def predecir(entrada,pesos,bias,funcion):\n",
        "  result = neurona(entrada,pesos,bias,\"sigmoide_vec\")\n",
        "  if result >= 0.70:\n",
        "    value_predict=1\n",
        "  else:\n",
        "    value_predict=0\n",
        "  return value_predict"
      ],
      "metadata": {
        "id": "w3mnGfKl69tp"
      },
      "execution_count": 90,
      "outputs": []
    },
    {
      "cell_type": "code",
      "source": [
        "def leer_datos():\n",
        "  features = ['EspesorGrupo', 'UniformidadTamano', 'UniformidadForma',\n",
        "              'AdhesionMarginal', 'TamanoCelular Epitelial', 'Nucleos Desnudos',\n",
        "              'Cromatina Blanda', 'Nucleo Normal', 'Mitosis']\n",
        "  data_input = []\n",
        "  for feature in features:\n",
        "    value = float(input(f\"insert value of {feature}: \"))\n",
        "    data_input.append(value)\n",
        "  return data_input"
      ],
      "metadata": {
        "id": "8Ao3MvAn69rW"
      },
      "execution_count": 89,
      "outputs": []
    },
    {
      "cell_type": "code",
      "source": [
        "entrada = leer_datos()"
      ],
      "metadata": {
        "colab": {
          "base_uri": "https://localhost:8080/"
        },
        "id": "vWjkxZte69oz",
        "outputId": "44788f87-b070-4a2e-b689-b18abfbd54e5"
      },
      "execution_count": 91,
      "outputs": [
        {
          "name": "stdout",
          "output_type": "stream",
          "text": [
            "insert value of EspesorGrupo: 3\n",
            "insert value of UniformidadTamano: 4\n",
            "insert value of UniformidadForma: 1\n",
            "insert value of AdhesionMarginal: 1\n",
            "insert value of TamanoCelular Epitelial: 3\n",
            "insert value of Nucleos Desnudos: 2\n",
            "insert value of Cromatina Blanda: 3\n",
            "insert value of Nucleo Normal: 2\n",
            "insert value of Mitosis: 1\n"
          ]
        }
      ]
    },
    {
      "cell_type": "code",
      "source": [
        "entrada_df = np.array([entrada]) # convertir a array de numpy y lista de listas\n",
        "# NORMALIZANDO LOS DATOS DE ENTRADA\n",
        "entrada_df = scaler.transform(entrada_df)"
      ],
      "metadata": {
        "colab": {
          "base_uri": "https://localhost:8080/"
        },
        "id": "Qqz3i6IRCw9p",
        "outputId": "64288779-730a-4c83-9283-8d0ac63bfb4e"
      },
      "execution_count": 93,
      "outputs": [
        {
          "output_type": "stream",
          "name": "stderr",
          "text": [
            "/usr/local/lib/python3.7/dist-packages/sklearn/base.py:451: UserWarning: X does not have valid feature names, but StandardScaler was fitted with feature names\n",
            "  \"X does not have valid feature names, but\"\n"
          ]
        }
      ]
    },
    {
      "cell_type": "code",
      "source": [
        "result = predecir(entrada_df[0],weight_saved,bias_saved,\"sigmoide_vec\")\n",
        "if result == 1:\n",
        "  print(\"POSITIVO A CANCER\")\n",
        "else:\n",
        "  print(\"NEGATIVO A CANCER\")"
      ],
      "metadata": {
        "colab": {
          "base_uri": "https://localhost:8080/"
        },
        "id": "4qi4tdoT69kz",
        "outputId": "39aa6178-3210-4157-8c70-290e5525a749"
      },
      "execution_count": 94,
      "outputs": [
        {
          "output_type": "stream",
          "name": "stdout",
          "text": [
            "NEGATIVO A CANCER\n"
          ]
        }
      ]
    }
  ]
}