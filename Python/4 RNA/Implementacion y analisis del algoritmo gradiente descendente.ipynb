{
  "cells": [
    {
      "cell_type": "code",
      "execution_count": 1,
      "metadata": {
        "colab": {
          "base_uri": "https://localhost:8080/"
        },
        "id": "g59M5nLrETE-",
        "outputId": "9f8d5c51-8707-4667-c3f6-fe600e5d416a"
      },
      "outputs": [
        {
          "output_type": "stream",
          "name": "stdout",
          "text": [
            "Nro de datos leidos:  100\n",
            "Convergio con iteraciones:  783452 !!!\n",
            "Theta0:  2.0670369742720234\n",
            "Theta1:  1.43886512346366\n",
            "e:  11158.228196785265\n"
          ]
        }
      ],
      "source": [
        "from numpy import *\n",
        "\n",
        "def gradient_descent(alpha, x, y, ep, max_iter):\n",
        "    convergio = False\n",
        "    iter = 0\n",
        "    N = len(x) #-- numero de ejemplos\n",
        "\n",
        "    #-- valores iniciales de theta\n",
        "    t0 = 0\n",
        "    t1 = 0\n",
        "\n",
        "    #-- error total, J(theta)\n",
        "    J = sum([(t0 + t1*x[i] - y[i])**2 for i in range(N)])\n",
        "\n",
        "    #-- ciclo de iteraciones\n",
        "    while not convergio:\n",
        "       \n",
        "        #-- para cada ejemplo de entrenamiento calcular el gradiente (d/d_theta j(theta))\n",
        "        grad0 = 1.0/N * sum([(t0 + t1*x[i] - y[i]) for i in range(N)]) \n",
        "        grad1 = 1.0/N * sum([(t0 + t1*x[i] - y[i])*x[i] for i in range(N)])\n",
        "\n",
        "        #-- actualizar los theta temporales\n",
        "        temp0 = t0 - alpha * grad0\n",
        "        temp1 = t1 - alpha * grad1\n",
        "    \n",
        "        #-- actualizar los theta\n",
        "        t0 = temp0\n",
        "        t1 = temp1\n",
        "\n",
        "        #-- error cuadrado medio\n",
        "        e = sum( [(t0 + t1*x[i] - y[i])**2 for i in range(N)] ) \n",
        "\n",
        "        if abs(J-e) <= ep:\n",
        "            print ('Convergio con iteraciones: ', iter, '!!!')\n",
        "            convergio = True\n",
        "    \n",
        "        J = e   #-- actualizar error \n",
        "        iter += 1  #-- incrementa iteraciones\n",
        "    \n",
        "        if iter == max_iter: #-- si no converge \n",
        "            print ('Se excedió del máximo de iteraciones!')\n",
        "            convergio = True\n",
        "        #print (t0)\n",
        "        #print (t1)\n",
        "        #print ('---')\n",
        "\n",
        "    return t0,t1, e\n",
        "\n",
        "\n",
        "#------- programa principal--------------\n",
        "\n",
        "points = genfromtxt(\"data.csv\", delimiter=\",\")\n",
        "x = []\n",
        "y = []\n",
        "N = len(points)\n",
        "print(\"Nro de datos leidos: \", N)\n",
        "for i in range(N):\n",
        "    x.append(points[i,0])\n",
        "    y.append(points[i,1])\n",
        "\n",
        "\n",
        "alfa= 0.00001 #-- learning rate\n",
        "ep = 0.0001 #-- tolerancia\n",
        "max_itera= 1400000 #-- nro maximo de iteraciones\n",
        "\n",
        "#-- comienza el gradiente descendente\n",
        "tetha0, tetha1, e = gradient_descent(alfa,x,y,ep,max_itera)\n",
        "#-- mostrar resultados\n",
        "print('Theta0: ',tetha0)\n",
        "print('Theta1: ',tetha1)\n",
        "print('e: ',e)\n"
      ]
    },
    {
      "cell_type": "code",
      "source": [
        "from numpy import *\n",
        "\n",
        "def gradient_descent(alpha, x, y, ep, max_iter):\n",
        "    convergio = False\n",
        "    iter = 0\n",
        "    N = len(x) #-- numero de ejemplos\n",
        "\n",
        "    #-- valores iniciales de theta\n",
        "    t0 = 0\n",
        "    t1 = 0\n",
        "\n",
        "    #-- error total, J(theta)\n",
        "    J = sum([(t0 + t1*x[i] - y[i])**2 for i in range(N)])\n",
        "\n",
        "    #-- ciclo de iteraciones\n",
        "    while not convergio:\n",
        "       \n",
        "        #-- para cada ejemplo de entrenamiento calcular el gradiente (d/d_theta j(theta))\n",
        "        grad0 = 1.0/N * sum([(t0 + t1*x[i] - y[i]) for i in range(N)]) \n",
        "        grad1 = 1.0/N * sum([(t0 + t1*x[i] - y[i])*x[i] for i in range(N)])\n",
        "\n",
        "        #-- actualizar los theta temporales\n",
        "        temp0 = t0 - alpha * grad0\n",
        "        temp1 = t1 - alpha * grad1\n",
        "    \n",
        "        #-- actualizar los theta\n",
        "        t0 = temp0\n",
        "        t1 = temp1\n",
        "\n",
        "        #-- error cuadrado medio\n",
        "        e = sum( [(t0 + t1*x[i] - y[i])**2 for i in range(N)] ) \n",
        "\n",
        "        if abs(J-e) <= ep:\n",
        "            print ('Convergio con iteraciones: ', iter, '!!!')\n",
        "            convergio = True\n",
        "    \n",
        "        J = e   #-- actualizar error \n",
        "        iter += 1  #-- incrementa iteraciones\n",
        "    \n",
        "        if iter == max_iter: #-- si no converge \n",
        "            print ('Se excedió del máximo de iteraciones!')\n",
        "            convergio = True\n",
        "        #print (t0)\n",
        "        #print (t1)\n",
        "        #print ('---')\n",
        "\n",
        "    return t0,t1, e\n",
        "\n",
        "\n",
        "#------- programa principal--------------\n",
        "\n",
        "points = genfromtxt(\"data.csv\", delimiter=\",\")\n",
        "x = []\n",
        "y = []\n",
        "N = len(points)\n",
        "print(\"Nro de datos leidos: \", N)\n",
        "for i in range(N):\n",
        "    x.append(points[i,0])\n",
        "    y.append(points[i,1])\n",
        "\n",
        "\n",
        "alfa= 0.00001 #-- learning rate\n",
        "ep = 0.0001 #-- tolerancia\n",
        "max_itera= 1400000 #-- nro maximo de iteraciones\n",
        "\n",
        "#-- comienza el gradiente descendente\n",
        "tetha0, tetha1, e = gradient_descent(alfa,x,y,ep,max_itera)\n",
        "#-- mostrar resultados\n",
        "print('Theta0: ',tetha0)\n",
        "print('Theta1: ',tetha1)\n",
        "print('e: ',e)\n"
      ],
      "metadata": {
        "colab": {
          "base_uri": "https://localhost:8080/"
        },
        "id": "fkGlmH-GVkhO",
        "outputId": "0fbdb93a-8824-44cc-db7f-044b87149854"
      },
      "execution_count": 11,
      "outputs": [
        {
          "output_type": "stream",
          "name": "stdout",
          "text": [
            "Nro de datos leidos:  100\n",
            "Convergio con iteraciones:  783452 !!!\n",
            "Theta0:  2.0670369742720234\n",
            "Theta1:  1.43886512346366\n",
            "e:  11158.228196785265\n"
          ]
        }
      ]
    },
    {
      "cell_type": "markdown",
      "source": [
        "# PRUEBAS MODIFICANDO EL VALOR DE ALFA"
      ],
      "metadata": {
        "id": "Maqebvs_GPml"
      }
    },
    {
      "cell_type": "code",
      "execution_count": 2,
      "metadata": {
        "colab": {
          "base_uri": "https://localhost:8080/"
        },
        "id": "7TP8ooVH3RxO",
        "outputId": "e8eff1c7-ef95-49aa-9319-92aa2ea1d3ce"
      },
      "outputs": [
        {
          "output_type": "stream",
          "name": "stdout",
          "text": [
            "prueba 1\n",
            "Convergio con iteraciones:  783452 !!!\n",
            "prueba 2\n",
            "Convergio con iteraciones:  526225 !!!\n",
            "prueba 3\n",
            "Convergio con iteraciones:  360038 !!!\n",
            "prueba 4\n",
            "Convergio con iteraciones:  278553 !!!\n",
            "prueba 5\n",
            "Convergio con iteraciones:  229387 !!!\n"
          ]
        }
      ],
      "source": [
        "alfa= 0.00001 #-- learning rate\n",
        "ep = 0.0001 #-- tolerancia\n",
        "max_itera= 1400000 #-- nro maximo de iteraciones\n",
        "\n",
        "increment1 = 0.00005\n",
        "values_alfa=[]\n",
        "values_e=[]\n",
        "\n",
        "for i in range(5):\n",
        "  print(f\"prueba {i+1}\")\n",
        "  tetha0, tetha1,e = gradient_descent(alfa,x,y,ep,max_itera)\n",
        "  values_e.append(e)\n",
        "  values_alfa.append(alfa)\n",
        "  alfa += increment1 #-- actualizando alfa"
      ]
    },
    {
      "cell_type": "markdown",
      "source": [
        "\n",
        "* **Durante las pruebas se observo que a medida que la tasa de aprendizaje (alfa) incrementaba, se necesitaba menos iteraciones para converger, esto representa una mejora en el tiempo de ejecución bastante considerable con respecto a cada prueba realizada.**"
      ],
      "metadata": {
        "id": "9BBQPyzgaO09"
      }
    },
    {
      "cell_type": "markdown",
      "source": [
        "# PRUEBAS MODIFICANDO EL VALOR DE EPSILON"
      ],
      "metadata": {
        "id": "R6W74EBSVTo-"
      }
    },
    {
      "cell_type": "code",
      "source": [
        "alfa= 0.00001 #-- learning rate\n",
        "ep = 0.0001 #-- tolerancia\n",
        "max_itera= 1400000 #-- nro maximo de iteraciones\n",
        "\n",
        "increment1 = 0.0005\n",
        "values_alfa=[]\n",
        "values_e=[]\n",
        "\n",
        "for i in range(5):\n",
        "  print(f\"prueba {i+1}\")\n",
        "  tetha0, tetha1,e = gradient_descent(alfa,x,y,ep,max_itera)\n",
        "  values_e.append(e)\n",
        "  values_alfa.append(alfa)\n",
        "  ep += increment1 #-- actualizando epsilon"
      ],
      "metadata": {
        "colab": {
          "base_uri": "https://localhost:8080/"
        },
        "id": "WA7WO52XVe7U",
        "outputId": "d7062875-1a36-45e4-9eac-b91b79d70494"
      },
      "execution_count": 15,
      "outputs": [
        {
          "output_type": "stream",
          "name": "stdout",
          "text": [
            "prueba 1\n",
            "Convergio con iteraciones:  783452 !!!\n",
            "prueba 2\n",
            "Convergio con iteraciones:  357 !!!\n",
            "prueba 3\n",
            "Convergio con iteraciones:  341 !!!\n",
            "prueba 4\n",
            "Convergio con iteraciones:  332 !!!\n",
            "prueba 5\n",
            "Convergio con iteraciones:  327 !!!\n"
          ]
        }
      ]
    },
    {
      "cell_type": "markdown",
      "source": [
        "* **Epsilon(ep), es el parámetro que nos permite establecer la precisión deseada o la tolerancia de error, segun las pruebas, cuanto mas grande el valor de epsilon se necesitan menos iteraciones para converger pero no significa que realice buenas predicciones, cuanto mas pequeño epsilon la precision de prediccion mejora pero tambien implica mayor tiempo de ejecucion.**"
      ],
      "metadata": {
        "id": "hYm71Z0RaJzz"
      }
    },
    {
      "cell_type": "markdown",
      "source": [
        "# PRUEBAS MODIFICANDO EL VALOR DE LAS ITERACIONES"
      ],
      "metadata": {
        "id": "Nm-Q1zczVY01"
      }
    },
    {
      "cell_type": "code",
      "source": [
        "alfa= 0.00001 #-- learning rate\n",
        "ep = 0.0001 #-- tolerancia\n",
        "max_itera= 140000 #-- nro maximo de iteraciones\n",
        "\n",
        "increment1 = 150000\n",
        "values_alfa=[]\n",
        "values_e=[]\n",
        "\n",
        "for i in range(5):\n",
        "  print(f\"prueba {i+1}\")\n",
        "  tetha0, tetha1,e = gradient_descent(alfa,x,y,ep,max_itera)\n",
        "  values_e.append(e)\n",
        "  values_alfa.append(alfa)\n",
        "  max_itera += increment1 #-- actualizando las iteraciones"
      ],
      "metadata": {
        "colab": {
          "base_uri": "https://localhost:8080/"
        },
        "id": "jjyqf-AmVfYg",
        "outputId": "d88d4fba-2dc6-41c2-9238-e1913bbaf38e"
      },
      "execution_count": 19,
      "outputs": [
        {
          "output_type": "stream",
          "name": "stdout",
          "text": [
            "prueba 1\n",
            "Se excedió del máximo de iteraciones!\n",
            "prueba 2\n",
            "Se excedió del máximo de iteraciones!\n",
            "prueba 3\n",
            "Se excedió del máximo de iteraciones!\n",
            "prueba 4\n",
            "Se excedió del máximo de iteraciones!\n",
            "prueba 5\n",
            "Se excedió del máximo de iteraciones!\n"
          ]
        }
      ]
    },
    {
      "cell_type": "markdown",
      "source": [
        "* **Incrementar el numero maximo de iteraciones permite mayor amplitud de busqueda del valor optimo o lograr la convergencia, esto implica mayor tiempo de ejecucion, pero a menor numero de iteraciones menor posibilidades de converger y menor tiempo de ejecucion.**"
      ],
      "metadata": {
        "id": "RkpD4pmQaXQ9"
      }
    },
    {
      "cell_type": "markdown",
      "metadata": {
        "id": "s0aLYJzaDJ3E"
      },
      "source": [
        "# GRÁFICA ERROR VS ALFA"
      ]
    },
    {
      "cell_type": "code",
      "execution_count": 8,
      "metadata": {
        "colab": {
          "base_uri": "https://localhost:8080/",
          "height": 335
        },
        "id": "SSfW12fSDuXE",
        "outputId": "85ef8fa3-c8fb-4bd6-b9b8-e873b9c1cfc5"
      },
      "outputs": [
        {
          "output_type": "stream",
          "name": "stderr",
          "text": [
            "<ipython-input-8-5aed5f324b2e>:11: UserWarning: color is redundantly defined by the 'color' keyword argument and the fmt string \"r*-\" (-> color='r'). The keyword argument will take precedence.\n",
            "  plt.plot(eje_ref, errors, 'r*-', color='green', label='error(e)')\n"
          ]
        },
        {
          "output_type": "display_data",
          "data": {
            "text/plain": [
              "<Figure size 432x288 with 1 Axes>"
            ],
            "image/png": "[encoded data removed]"
          },
          "metadata": {
            "needs_background": "light"
          }
        }
      ],
      "source": [
        "import matplotlib.pyplot as plt\n",
        "import numpy as np\n",
        "\n",
        "# Definimos dos vectores\n",
        "eje_ref = np.array(values_alfa)\n",
        "errors = np.array(values_e)\n",
        "\n",
        "# Graficamos los vectores\n",
        "plt.plot(eje_ref, errors, 'r*-', color='green', label='error(e)')\n",
        "\n",
        "# Configuramos las etiquetas de los ejes\n",
        "plt.xlabel('Alfa')\n",
        "plt.ylabel('Error')\n",
        "\n",
        "# Agregamos una leyenda\n",
        "plt.legend()\n",
        "\n",
        "# Mostramos la gráfica\n",
        "plt.show();"
      ]
    },
    {
      "cell_type": "markdown",
      "source": [
        "\n",
        "\n",
        "\n",
        "\n",
        "* **Según la grafica se observa que a medida que el valor de alfa incrementa el error va disminuyendo, significa que el modelo está ajustando sus parámetros de manera efectiva para mejorar su capacidad de hacer predicciones precisas, sin embargo, no siempre se traduce en una mejora de la capacidad del modelo, ya que se podría presentar el caso de un sobreajuste.** \n",
        "\n",
        "\n",
        "* **Finalmente, alfa determina el tamaño del salto que se realizará en cada iteración, por lo que si alfa es muy pequeño, el modelo se ajustará lentamente y puede tardar demasiado tiempo en converger, y si alfa es muy grande, el modelo puede oscilar y no converger en una solución estable.**\n"
      ],
      "metadata": {
        "id": "rnxXZlukLsCJ"
      }
    }
  ],
  "metadata": {
    "colab": {
      "provenance": [],
      "toc_visible": true
    },
    "kernelspec": {
      "display_name": "Python 3",
      "name": "python3"
    },
    "language_info": {
      "name": "python"
    }
  },
  "nbformat": 4,
  "nbformat_minor": 0
}