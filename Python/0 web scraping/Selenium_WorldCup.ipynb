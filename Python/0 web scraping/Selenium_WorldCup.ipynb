{
  "nbformat": 4,
  "nbformat_minor": 0,
  "metadata": {
    "colab": {
      "provenance": []
    },
    "kernelspec": {
      "name": "python3",
      "display_name": "Python 3"
    },
    "language_info": {
      "name": "python"
    }
  },
  "cells": [
    {
      "cell_type": "markdown",
      "source": [
        "importar librerias"
      ],
      "metadata": {
        "id": "KQ2iCkHxGl3p"
      }
    },
    {
      "cell_type": "markdown",
      "source": [
        "- usando jupyter"
      ],
      "metadata": {
        "id": "exkStcIpIumb"
      }
    },
    {
      "cell_type": "code",
      "execution_count": null,
      "metadata": {
        "id": "pu3tPYORA7g4"
      },
      "outputs": [],
      "source": [
        "# descargar chromedriver\n",
        "# url: https://chromedriver.chromium.org/downloads\n",
        "# !pip install selenium"
      ]
    },
    {
      "cell_type": "code",
      "source": [
        "import pandas as pd\n",
        "import time\n",
        "from selenium import webdriver\n",
        "from selenium.webdriver.chrome.service import Service # para poder inicializar nuestro webdriver de selenium"
      ],
      "metadata": {
        "id": "3FziLguEChPd"
      },
      "execution_count": null,
      "outputs": []
    },
    {
      "cell_type": "code",
      "source": [
        "#path = '/Users/Alex/Desktop/Data_Science_github/chromedriver' # ruta del chromedriver\n",
        "#service = Service(executable_path=path) # iniciar un service(para inicializar el webdriver)\n",
        "#driver = webdriver.Chrome(service = service) # crear el driver para poder interactuar y extraer con la pagina web"
      ],
      "metadata": {
        "id": "mApNU70qChNd"
      },
      "execution_count": null,
      "outputs": []
    },
    {
      "cell_type": "markdown",
      "source": [
        "- selenium en colab"
      ],
      "metadata": {
        "id": "r-8iMZc9I-hl"
      }
    },
    {
      "cell_type": "markdown",
      "source": [
        " fuente: https://stackoverflow.com/questions/51046454/how-can-we-use-selenium-webdriver-in-colab-research-google-com"
      ],
      "metadata": {
        "id": "my2hXcKoJniL"
      }
    },
    {
      "cell_type": "code",
      "source": [
        "!pip install selenium\n",
        "!apt-get update # to update ubuntu to correctly run apt install\n",
        "!apt install chromium-chromedriver\n",
        "!cp /usr/lib/chromium-browser/chromedriver /usr/bin"
      ],
      "metadata": {
        "id": "bI8VSmfhIBpI"
      },
      "execution_count": null,
      "outputs": []
    },
    {
      "cell_type": "code",
      "source": [
        "import pandas as pd\n",
        "import time\n",
        "from selenium import webdriver\n",
        "from selenium.webdriver.chrome.service import Service # para poder inicializar nuestro webdriver de selenium\n",
        "import sys\n",
        "# configuraciones\n",
        "sys.path.insert(0,'/usr/lib/chromium-browser/chromedriver')\n",
        "chrome_options = webdriver.ChromeOptions()\n",
        "chrome_options.add_argument('--headless')\n",
        "chrome_options.add_argument('--no-sandbox')\n",
        "chrome_options.add_argument('--disable-dev-shm-usage')\n",
        "driver = webdriver.Chrome('chromedriver',chrome_options=chrome_options)"
      ],
      "metadata": {
        "colab": {
          "base_uri": "https://localhost:8080/"
        },
        "id": "2Rfh7Ze0Tq3e",
        "outputId": "01b64ceb-47fd-4c49-907b-aa8eb81f8ba5"
      },
      "execution_count": null,
      "outputs": [
        {
          "output_type": "stream",
          "name": "stderr",
          "text": [
            "<ipython-input-49-03d96a21cfea>:12: DeprecationWarning: use options instead of chrome_options\n",
            "  driver = webdriver.Chrome('chromedriver',chrome_options=chrome_options)\n"
          ]
        }
      ]
    },
    {
      "cell_type": "markdown",
      "source": [
        "inicializar el web scraping de una pagina web"
      ],
      "metadata": {
        "id": "Aa4bXTjXGf7g"
      }
    },
    {
      "cell_type": "markdown",
      "source": [
        "- para colab"
      ],
      "metadata": {
        "id": "SqEkL0nxIxMF"
      }
    },
    {
      "cell_type": "code",
      "source": [
        "def get_matches(year):\n",
        "  url = f'https://en.wikipedia.org/wiki/{year}_FIFA_World_Cup'\n",
        "  driver.get(url)\n",
        "\n",
        "  # extraer el contenido\n",
        "  matches = driver.find_elements(by='xpath', value='//td[@align=\"right\"]/.. | //td[@style=\"text-align:right;\"]/..') # patron que maneja la pag de 1982\n",
        "  \n",
        "  # lists\n",
        "  home_teams = []\n",
        "  scores = []\n",
        "  away_teams = []\n",
        "\n",
        "  # extract teams(A vs B) and scores\n",
        "  for match in matches:               \n",
        "    home_teams.append(match.find_element(by='xpath',value='./td[1]').text) \n",
        "    scores.append(match.find_element(by='xpath',value='./td[2]').text)\n",
        "    away_teams.append(match.find_element(by='xpath',value='./td[3]').text)\n",
        "\n",
        "  # crear un diccionario\n",
        "  dict_world_football = {'home_teams': home_teams , 'score': scores ,'away_teams': away_teams}\n",
        "  # crear el dataframe\n",
        "  df_football_world = pd.DataFrame(dict_world_football)\n",
        "  # agregando la columna año del mundial\n",
        "  df_football_world['year'] = year\n",
        "  # durmiendo por 2 segundos\n",
        "  time.sleep(2)\n",
        "\n",
        "  return df_football_world"
      ],
      "metadata": {
        "id": "dV6CgjJrXIcl"
      },
      "execution_count": null,
      "outputs": []
    },
    {
      "cell_type": "code",
      "source": [
        "# extrayendo los datos históricos\n",
        "# ------------------------------------------------------------------\n",
        "\n",
        "# años\n",
        "years = [1930,1934,1938,1950,1954,1958,1962,1966,1970,1974,\n",
        "         1978,1982,1986,1990,1994,1998,2002,2006,2010,2014,\n",
        "         2018]\n",
        "# lista de dataframes\n",
        "fifa = [get_matches(year) for year in years] \n",
        "\n",
        "# cerrar o finalizar pagina web\n",
        "driver.quit()\n",
        "\n",
        "# concatenar todos los dataframes\n",
        "df_football_worldcup = pd.concat(fifa, ignore_index=True)\n",
        "# exportar en formato CSV\n",
        "df_football_worldcup.to_csv('worldcup.csv', index=False)\n",
        "\n"
      ],
      "metadata": {
        "id": "xvKjD2wJUNGz"
      },
      "execution_count": null,
      "outputs": []
    },
    {
      "cell_type": "code",
      "source": [
        "df_football_worldcup.head(20)"
      ],
      "metadata": {
        "colab": {
          "base_uri": "https://localhost:8080/",
          "height": 677
        },
        "id": "JdWZAebuYQO2",
        "outputId": "27eb1a64-d99d-4cfc-bf4c-4400200d2bcb"
      },
      "execution_count": null,
      "outputs": [
        {
          "output_type": "execute_result",
          "data": {
            "text/plain": [
              "         home_teams score       away_teams  year\n",
              "0           Mexico    0–0     Soviet Union  1970\n",
              "1          Belgium    3–0      El Salvador  1970\n",
              "2     Soviet Union    4–1          Belgium  1970\n",
              "3           Mexico    4–0      El Salvador  1970\n",
              "4     Soviet Union    2–0      El Salvador  1970\n",
              "5           Mexico    1–0          Belgium  1970\n",
              "6          Uruguay    2–0           Israel  1970\n",
              "7            Italy    1–0           Sweden  1970\n",
              "8          Uruguay    0–0            Italy  1970\n",
              "9           Sweden    1–1           Israel  1970\n",
              "10         Uruguay    0–1           Sweden  1970\n",
              "11          Israel    0–0            Italy  1970\n",
              "12         Romania    0–1          England  1970\n",
              "13  Czechoslovakia    1–4           Brazil  1970\n",
              "14         Romania    2–1   Czechoslovakia  1970\n",
              "15         England    0–1           Brazil  1970\n",
              "16         Romania    2–3           Brazil  1970\n",
              "17         England    1–0   Czechoslovakia  1970\n",
              "18            Peru    3–2         Bulgaria  1970\n",
              "19    West Germany    2–1          Morocco  1970"
            ],
            "text/html": [
              "\n",
              "  <div id=\"df-79177293-b29b-4d08-941e-8d3f4b28674f\">\n",
              "    <div class=\"colab-df-container\">\n",
              "      <div>\n",
              "<style scoped>\n",
              "    .dataframe tbody tr th:only-of-type {\n",
              "        vertical-align: middle;\n",
              "    }\n",
              "\n",
              "    .dataframe tbody tr th {\n",
              "        vertical-align: top;\n",
              "    }\n",
              "\n",
              "    .dataframe thead th {\n",
              "        text-align: right;\n",
              "    }\n",
              "</style>\n",
              "<table border=\"1\" class=\"dataframe\">\n",
              "  <thead>\n",
              "    <tr style=\"text-align: right;\">\n",
              "      <th></th>\n",
              "      <th>home_teams</th>\n",
              "      <th>score</th>\n",
              "      <th>away_teams</th>\n",
              "      <th>year</th>\n",
              "    </tr>\n",
              "  </thead>\n",
              "  <tbody>\n",
              "    <tr>\n",
              "      <th>0</th>\n",
              "      <td>Mexico</td>\n",
              "      <td>0–0</td>\n",
              "      <td>Soviet Union</td>\n",
              "      <td>1970</td>\n",
              "    </tr>\n",
              "    <tr>\n",
              "      <th>1</th>\n",
              "      <td>Belgium</td>\n",
              "      <td>3–0</td>\n",
              "      <td>El Salvador</td>\n",
              "      <td>1970</td>\n",
              "    </tr>\n",
              "    <tr>\n",
              "      <th>2</th>\n",
              "      <td>Soviet Union</td>\n",
              "      <td>4–1</td>\n",
              "      <td>Belgium</td>\n",
              "      <td>1970</td>\n",
              "    </tr>\n",
              "    <tr>\n",
              "      <th>3</th>\n",
              "      <td>Mexico</td>\n",
              "      <td>4–0</td>\n",
              "      <td>El Salvador</td>\n",
              "      <td>1970</td>\n",
              "    </tr>\n",
              "    <tr>\n",
              "      <th>4</th>\n",
              "      <td>Soviet Union</td>\n",
              "      <td>2–0</td>\n",
              "      <td>El Salvador</td>\n",
              "      <td>1970</td>\n",
              "    </tr>\n",
              "    <tr>\n",
              "      <th>5</th>\n",
              "      <td>Mexico</td>\n",
              "      <td>1–0</td>\n",
              "      <td>Belgium</td>\n",
              "      <td>1970</td>\n",
              "    </tr>\n",
              "    <tr>\n",
              "      <th>6</th>\n",
              "      <td>Uruguay</td>\n",
              "      <td>2–0</td>\n",
              "      <td>Israel</td>\n",
              "      <td>1970</td>\n",
              "    </tr>\n",
              "    <tr>\n",
              "      <th>7</th>\n",
              "      <td>Italy</td>\n",
              "      <td>1–0</td>\n",
              "      <td>Sweden</td>\n",
              "      <td>1970</td>\n",
              "    </tr>\n",
              "    <tr>\n",
              "      <th>8</th>\n",
              "      <td>Uruguay</td>\n",
              "      <td>0–0</td>\n",
              "      <td>Italy</td>\n",
              "      <td>1970</td>\n",
              "    </tr>\n",
              "    <tr>\n",
              "      <th>9</th>\n",
              "      <td>Sweden</td>\n",
              "      <td>1–1</td>\n",
              "      <td>Israel</td>\n",
              "      <td>1970</td>\n",
              "    </tr>\n",
              "    <tr>\n",
              "      <th>10</th>\n",
              "      <td>Uruguay</td>\n",
              "      <td>0–1</td>\n",
              "      <td>Sweden</td>\n",
              "      <td>1970</td>\n",
              "    </tr>\n",
              "    <tr>\n",
              "      <th>11</th>\n",
              "      <td>Israel</td>\n",
              "      <td>0–0</td>\n",
              "      <td>Italy</td>\n",
              "      <td>1970</td>\n",
              "    </tr>\n",
              "    <tr>\n",
              "      <th>12</th>\n",
              "      <td>Romania</td>\n",
              "      <td>0–1</td>\n",
              "      <td>England</td>\n",
              "      <td>1970</td>\n",
              "    </tr>\n",
              "    <tr>\n",
              "      <th>13</th>\n",
              "      <td>Czechoslovakia</td>\n",
              "      <td>1–4</td>\n",
              "      <td>Brazil</td>\n",
              "      <td>1970</td>\n",
              "    </tr>\n",
              "    <tr>\n",
              "      <th>14</th>\n",
              "      <td>Romania</td>\n",
              "      <td>2–1</td>\n",
              "      <td>Czechoslovakia</td>\n",
              "      <td>1970</td>\n",
              "    </tr>\n",
              "    <tr>\n",
              "      <th>15</th>\n",
              "      <td>England</td>\n",
              "      <td>0–1</td>\n",
              "      <td>Brazil</td>\n",
              "      <td>1970</td>\n",
              "    </tr>\n",
              "    <tr>\n",
              "      <th>16</th>\n",
              "      <td>Romania</td>\n",
              "      <td>2–3</td>\n",
              "      <td>Brazil</td>\n",
              "      <td>1970</td>\n",
              "    </tr>\n",
              "    <tr>\n",
              "      <th>17</th>\n",
              "      <td>England</td>\n",
              "      <td>1–0</td>\n",
              "      <td>Czechoslovakia</td>\n",
              "      <td>1970</td>\n",
              "    </tr>\n",
              "    <tr>\n",
              "      <th>18</th>\n",
              "      <td>Peru</td>\n",
              "      <td>3–2</td>\n",
              "      <td>Bulgaria</td>\n",
              "      <td>1970</td>\n",
              "    </tr>\n",
              "    <tr>\n",
              "      <th>19</th>\n",
              "      <td>West Germany</td>\n",
              "      <td>2–1</td>\n",
              "      <td>Morocco</td>\n",
              "      <td>1970</td>\n",
              "    </tr>\n",
              "  </tbody>\n",
              "</table>\n",
              "</div>\n",
              "      <button class=\"colab-df-convert\" onclick=\"convertToInteractive('df-79177293-b29b-4d08-941e-8d3f4b28674f')\"\n",
              "              title=\"Convert this dataframe to an interactive table.\"\n",
              "              style=\"display:none;\">\n",
              "        \n",
              "  <svg xmlns=\"http://www.w3.org/2000/svg\" height=\"24px\"viewBox=\"0 0 24 24\"\n",
              "       width=\"24px\">\n",
              "    <path d=\"M0 0h24v24H0V0z\" fill=\"none\"/>\n",
              "    <path d=\"M18.56 5.44l.94 2.06.94-2.06 2.06-.94-2.06-.94-.94-2.06-.94 2.06-2.06.94zm-11 1L8.5 8.5l.94-2.06 2.06-.94-2.06-.94L8.5 2.5l-.94 2.06-2.06.94zm10 10l.94 2.06.94-2.06 2.06-.94-2.06-.94-.94-2.06-.94 2.06-2.06.94z\"/><path d=\"M17.41 7.96l-1.37-1.37c-.4-.4-.92-.59-1.43-.59-.52 0-1.04.2-1.43.59L10.3 9.45l-7.72 7.72c-.78.78-.78 2.05 0 2.83L4 21.41c.39.39.9.59 1.41.59.51 0 1.02-.2 1.41-.59l7.78-7.78 2.81-2.81c.8-.78.8-2.07 0-2.86zM5.41 20L4 18.59l7.72-7.72 1.47 1.35L5.41 20z\"/>\n",
              "  </svg>\n",
              "      </button>\n",
              "      \n",
              "  <style>\n",
              "    .colab-df-container {\n",
              "      display:flex;\n",
              "      flex-wrap:wrap;\n",
              "      gap: 12px;\n",
              "    }\n",
              "\n",
              "    .colab-df-convert {\n",
              "      background-color: #E8F0FE;\n",
              "      border: none;\n",
              "      border-radius: 50%;\n",
              "      cursor: pointer;\n",
              "      display: none;\n",
              "      fill: #1967D2;\n",
              "      height: 32px;\n",
              "      padding: 0 0 0 0;\n",
              "      width: 32px;\n",
              "    }\n",
              "\n",
              "    .colab-df-convert:hover {\n",
              "      background-color: #E2EBFA;\n",
              "      box-shadow: 0px 1px 2px rgba(60, 64, 67, 0.3), 0px 1px 3px 1px rgba(60, 64, 67, 0.15);\n",
              "      fill: #174EA6;\n",
              "    }\n",
              "\n",
              "    [theme=dark] .colab-df-convert {\n",
              "      background-color: #3B4455;\n",
              "      fill: #D2E3FC;\n",
              "    }\n",
              "\n",
              "    [theme=dark] .colab-df-convert:hover {\n",
              "      background-color: #434B5C;\n",
              "      box-shadow: 0px 1px 3px 1px rgba(0, 0, 0, 0.15);\n",
              "      filter: drop-shadow(0px 1px 2px rgba(0, 0, 0, 0.3));\n",
              "      fill: #FFFFFF;\n",
              "    }\n",
              "  </style>\n",
              "\n",
              "      <script>\n",
              "        const buttonEl =\n",
              "          document.querySelector('#df-79177293-b29b-4d08-941e-8d3f4b28674f button.colab-df-convert');\n",
              "        buttonEl.style.display =\n",
              "          google.colab.kernel.accessAllowed ? 'block' : 'none';\n",
              "\n",
              "        async function convertToInteractive(key) {\n",
              "          const element = document.querySelector('#df-79177293-b29b-4d08-941e-8d3f4b28674f');\n",
              "          const dataTable =\n",
              "            await google.colab.kernel.invokeFunction('convertToInteractive',\n",
              "                                                     [key], {});\n",
              "          if (!dataTable) return;\n",
              "\n",
              "          const docLinkHtml = 'Like what you see? Visit the ' +\n",
              "            '<a target=\"_blank\" href=https://colab.research.google.com/notebooks/data_table.ipynb>data table notebook</a>'\n",
              "            + ' to learn more about interactive tables.';\n",
              "          element.innerHTML = '';\n",
              "          dataTable['output_type'] = 'display_data';\n",
              "          await google.colab.output.renderOutput(dataTable, element);\n",
              "          const docLink = document.createElement('div');\n",
              "          docLink.innerHTML = docLinkHtml;\n",
              "          element.appendChild(docLink);\n",
              "        }\n",
              "      </script>\n",
              "    </div>\n",
              "  </div>\n",
              "  "
            ]
          },
          "metadata": {},
          "execution_count": 53
        }
      ]
    },
    {
      "cell_type": "code",
      "source": [],
      "metadata": {
        "id": "aTvbnAmNWx1C"
      },
      "execution_count": null,
      "outputs": []
    },
    {
      "cell_type": "code",
      "source": [],
      "metadata": {
        "id": "4h9U_ccQWxvK"
      },
      "execution_count": null,
      "outputs": []
    },
    {
      "cell_type": "code",
      "source": [],
      "metadata": {
        "id": "GqDgF5gHWxsZ"
      },
      "execution_count": null,
      "outputs": []
    },
    {
      "cell_type": "code",
      "source": [],
      "metadata": {
        "id": "gZmWOzh_Wxdx"
      },
      "execution_count": null,
      "outputs": []
    },
    {
      "cell_type": "markdown",
      "source": [
        "EXPLICACION"
      ],
      "metadata": {
        "id": "0Jl2WMaUWzTE"
      }
    },
    {
      "cell_type": "code",
      "source": [
        "driver = webdriver.Chrome('chromedriver',chrome_options=chrome_options)"
      ],
      "metadata": {
        "id": "QhAz1HR3ChK1",
        "colab": {
          "base_uri": "https://localhost:8080/"
        },
        "outputId": "a167ce69-c794-4c24-b1c9-67ceae55ed00"
      },
      "execution_count": null,
      "outputs": [
        {
          "output_type": "stream",
          "name": "stderr",
          "text": [
            "<ipython-input-34-f4745e3da145>:1: DeprecationWarning: use options instead of chrome_options\n",
            "  driver = webdriver.Chrome('chromedriver',chrome_options=chrome_options)\n"
          ]
        }
      ]
    },
    {
      "cell_type": "code",
      "source": [
        "url = 'https://en.wikipedia.org/wiki/1982_FIFA_World_Cup'\n",
        "driver.get(url)"
      ],
      "metadata": {
        "id": "s-QKsDHuChFt"
      },
      "execution_count": null,
      "outputs": []
    },
    {
      "cell_type": "code",
      "source": [
        "# haciendo uso de xpath para encontrar el nodo padre o contenedor padre\n",
        "# //td[@align=\"right\"]/..\n",
        "# patron que maneja la pag de 1982 es diferente al del 2006\n",
        "# en el 2006 maneja otra estructura ya que esta dentro de un style\n",
        "# sugerencia de solucion:\n",
        "# 1- considerar ambos casos\n",
        "# 2- buscar un nodo padre que englobe a ambos casos"
      ],
      "metadata": {
        "id": "2A8fOGjqNbYm"
      },
      "execution_count": null,
      "outputs": []
    },
    {
      "cell_type": "code",
      "source": [
        "# caso 1 usando or\n",
        "matches = driver.find_elements(by='xpath', value='//td[@align=\"right\"]/.. | //td[@style=\"text-align:right;\"]/..') # patron que maneja la pag de 1982\n",
        "# el value puede ser reemplazado por:\n",
        "# //tr[@style=\"font-size:90%\"]"
      ],
      "metadata": {
        "id": "azHuCX4RL3LY"
      },
      "execution_count": null,
      "outputs": []
    },
    {
      "cell_type": "code",
      "source": [
        "home_teams = []\n",
        "scores = []\n",
        "away_teams = []\n",
        "\n",
        "# extract teams(A vs B) and scores\n",
        "for match in matches:               \n",
        "  home_teams.append(match.find_element(by='xpath',value='./td[1]').text) # . -> significa q estoy reusando el xpath como referencia, usado anteriormente  scores.append(match.find_element(by='xpath',value='./td[2]'))\n",
        "  scores.append(match.find_element(by='xpath',value='./td[2]').text)\n",
        "  away_teams.append(match.find_element(by='xpath',value='./td[3]').text)\n",
        "\n",
        "# crear un diccionario\n",
        "dict_world_football = {'home_teams': home_teams , 'score': scores ,'away_teams': away_teams}\n",
        "# crear el dataframe\n",
        "df_football_world = pd.DataFrame(dict_world_football)\n",
        "# agregando la columna año del mundial\n",
        "df_football_world['year'] = 'year'\n",
        "# durmiendo por 2 segundos\n",
        "time.sleep(2)\n",
        "\n",
        "# cerrar o finalizar\n",
        "driver.quit()\n",
        "\n",
        "# exportando\n",
        "df_football_world.to_csv('test_dataframe.csv')\n",
        "\n"
      ],
      "metadata": {
        "id": "GZx3BezwOuer"
      },
      "execution_count": null,
      "outputs": []
    },
    {
      "cell_type": "code",
      "source": [],
      "metadata": {
        "id": "bnZmyKGIRoSz"
      },
      "execution_count": null,
      "outputs": []
    }
  ]
}