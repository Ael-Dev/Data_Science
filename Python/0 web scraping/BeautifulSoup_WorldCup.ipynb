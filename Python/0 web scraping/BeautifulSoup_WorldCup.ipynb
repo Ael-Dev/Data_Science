{
  "nbformat": 4,
  "nbformat_minor": 0,
  "metadata": {
    "colab": {
      "provenance": []
    },
    "kernelspec": {
      "name": "python3",
      "display_name": "Python 3"
    },
    "language_info": {
      "name": "python"
    }
  },
  "cells": [
    {
      "cell_type": "code",
      "execution_count": null,
      "metadata": {
        "id": "bxhizO4Ba8MK"
      },
      "outputs": [],
      "source": [
        "from bs4 import BeautifulSoup\n",
        "import requests\n",
        "import pandas as pd"
      ]
    },
    {
      "cell_type": "code",
      "source": [
        "def get_matches(year):\n",
        "  url = f\"https://en.wikipedia.org/wiki/{year}_FIFA_World_Cup\" # iteramos para buscar en los años especificos\n",
        "  response = requests.get(url)\n",
        "  content = response.text \n",
        "  # paser\n",
        "  soup = BeautifulSoup(content,'lxml') \n",
        "  # extraer data usando find\n",
        "  matches = soup.find_all('div',class_='footballbox') # EXTRAER TODAS LAS TABLAS CON ESE NOMBRE DE CLASE\n",
        "  \n",
        "  # extraer valores nombre del equipo local vs visitante y score\n",
        "  home_teams = []\n",
        "  score = []\n",
        "  away_teams = []\n",
        "\n",
        "  # iterar por cada fila y extraer datos especificos\n",
        "  for match in matches:\n",
        "    home_teams.append(match.find('th',class_='fhome').get_text())  # extraer el nombre del equipo local(A)\n",
        "    score.append(match.find('th',class_='fscore').get_text()) # extraer resultado score(A vs B)\n",
        "    away_teams.append(match.find('th',class_='faway').get_text())  # extraer el nombre del equipo visitante(B)\n",
        "\n",
        "  # crear un diccionario\n",
        "  dict_world_football = {'home_teams': home_teams , 'score': score ,'away_teams': away_teams}\n",
        "  # crear el dataframe\n",
        "  df_football_world = pd.DataFrame(dict_world_football)\n",
        "  # agregando la columna año del mundial\n",
        "  df_football_world['year'] = year\n",
        "\n",
        "  return df_football_world"
      ],
      "metadata": {
        "id": "5OP7NFUrjXvn"
      },
      "execution_count": null,
      "outputs": []
    },
    {
      "cell_type": "code",
      "source": [
        "# extrayendo datos de todos los mundiales\n",
        "years = [1930,1934,1938,1950,1954,1958,1962,1966,1970,1974,\n",
        "         1978,1982,1986,1990,1994,1998,2002,2006,2010,2014,\n",
        "         2018]\n",
        "\n",
        "# extrayendo los datos históricos\n",
        "# ------------------------------------------------------------------\n",
        "fifa = [get_matches(year) for year in years] # lista de dataframes\n",
        "# concatenar todos los dataframes\n",
        "df_football_worldcup=pd.concat(fifa, ignore_index=True)\n",
        "# exportar en formato CSV\n",
        "df_football_worldcup.to_csv('worldcup.csv',index=False)\n",
        "\n",
        "\n",
        "# extrayendo proximos partidos en el 2022(para predecir)\n",
        "# ------------------------------------------------------------------\n",
        "df_future_matches = get_matches('2022') # devolvera 1 solo dataframe de dicho año\n",
        "# exportar en formato CSV\n",
        "df_future_matches.to_csv('worldcup2022_fixture.csv',index=False)"
      ],
      "metadata": {
        "id": "lIoObNzbdBps"
      },
      "execution_count": null,
      "outputs": []
    },
    {
      "cell_type": "code",
      "source": [
        "df_football_worldcup"
      ],
      "metadata": {
        "colab": {
          "base_uri": "https://localhost:8080/",
          "height": 424
        },
        "id": "5EniEbErdnDZ",
        "outputId": "b525b66c-b87c-4f96-fd47-abf85074699d"
      },
      "execution_count": null,
      "outputs": [
        {
          "output_type": "execute_result",
          "data": {
            "text/plain": [
              "     home_teams         score away_teams  year\n",
              "0       France            4–1     Mexico  1930\n",
              "1    Argentina            1–0     France  1930\n",
              "2        Chile            3–0     Mexico  1930\n",
              "3        Chile            1–0     France  1930\n",
              "4    Argentina            6–3     Mexico  1930\n",
              "..          ...           ...        ...   ...\n",
              "548     Russia   2–2 (a.e.t.)    Croatia  2018\n",
              "549     France            1–0    Belgium  2018\n",
              "550    Croatia   2–1 (a.e.t.)    England  2018\n",
              "551    Belgium            2–0    England  2018\n",
              "552     France            4–2    Croatia  2018\n",
              "\n",
              "[553 rows x 4 columns]"
            ],
            "text/html": [
              "\n",
              "  <div id=\"df-3b870f23-dfd3-4b21-90b1-bdf088d171fc\">\n",
              "    <div class=\"colab-df-container\">\n",
              "      <div>\n",
              "<style scoped>\n",
              "    .dataframe tbody tr th:only-of-type {\n",
              "        vertical-align: middle;\n",
              "    }\n",
              "\n",
              "    .dataframe tbody tr th {\n",
              "        vertical-align: top;\n",
              "    }\n",
              "\n",
              "    .dataframe thead th {\n",
              "        text-align: right;\n",
              "    }\n",
              "</style>\n",
              "<table border=\"1\" class=\"dataframe\">\n",
              "  <thead>\n",
              "    <tr style=\"text-align: right;\">\n",
              "      <th></th>\n",
              "      <th>home_teams</th>\n",
              "      <th>score</th>\n",
              "      <th>away_teams</th>\n",
              "      <th>year</th>\n",
              "    </tr>\n",
              "  </thead>\n",
              "  <tbody>\n",
              "    <tr>\n",
              "      <th>0</th>\n",
              "      <td>France</td>\n",
              "      <td>4–1</td>\n",
              "      <td>Mexico</td>\n",
              "      <td>1930</td>\n",
              "    </tr>\n",
              "    <tr>\n",
              "      <th>1</th>\n",
              "      <td>Argentina</td>\n",
              "      <td>1–0</td>\n",
              "      <td>France</td>\n",
              "      <td>1930</td>\n",
              "    </tr>\n",
              "    <tr>\n",
              "      <th>2</th>\n",
              "      <td>Chile</td>\n",
              "      <td>3–0</td>\n",
              "      <td>Mexico</td>\n",
              "      <td>1930</td>\n",
              "    </tr>\n",
              "    <tr>\n",
              "      <th>3</th>\n",
              "      <td>Chile</td>\n",
              "      <td>1–0</td>\n",
              "      <td>France</td>\n",
              "      <td>1930</td>\n",
              "    </tr>\n",
              "    <tr>\n",
              "      <th>4</th>\n",
              "      <td>Argentina</td>\n",
              "      <td>6–3</td>\n",
              "      <td>Mexico</td>\n",
              "      <td>1930</td>\n",
              "    </tr>\n",
              "    <tr>\n",
              "      <th>...</th>\n",
              "      <td>...</td>\n",
              "      <td>...</td>\n",
              "      <td>...</td>\n",
              "      <td>...</td>\n",
              "    </tr>\n",
              "    <tr>\n",
              "      <th>548</th>\n",
              "      <td>Russia</td>\n",
              "      <td>2–2 (a.e.t.)</td>\n",
              "      <td>Croatia</td>\n",
              "      <td>2018</td>\n",
              "    </tr>\n",
              "    <tr>\n",
              "      <th>549</th>\n",
              "      <td>France</td>\n",
              "      <td>1–0</td>\n",
              "      <td>Belgium</td>\n",
              "      <td>2018</td>\n",
              "    </tr>\n",
              "    <tr>\n",
              "      <th>550</th>\n",
              "      <td>Croatia</td>\n",
              "      <td>2–1 (a.e.t.)</td>\n",
              "      <td>England</td>\n",
              "      <td>2018</td>\n",
              "    </tr>\n",
              "    <tr>\n",
              "      <th>551</th>\n",
              "      <td>Belgium</td>\n",
              "      <td>2–0</td>\n",
              "      <td>England</td>\n",
              "      <td>2018</td>\n",
              "    </tr>\n",
              "    <tr>\n",
              "      <th>552</th>\n",
              "      <td>France</td>\n",
              "      <td>4–2</td>\n",
              "      <td>Croatia</td>\n",
              "      <td>2018</td>\n",
              "    </tr>\n",
              "  </tbody>\n",
              "</table>\n",
              "<p>553 rows × 4 columns</p>\n",
              "</div>\n",
              "      <button class=\"colab-df-convert\" onclick=\"convertToInteractive('df-3b870f23-dfd3-4b21-90b1-bdf088d171fc')\"\n",
              "              title=\"Convert this dataframe to an interactive table.\"\n",
              "              style=\"display:none;\">\n",
              "        \n",
              "  <svg xmlns=\"http://www.w3.org/2000/svg\" height=\"24px\"viewBox=\"0 0 24 24\"\n",
              "       width=\"24px\">\n",
              "    <path d=\"M0 0h24v24H0V0z\" fill=\"none\"/>\n",
              "    <path d=\"M18.56 5.44l.94 2.06.94-2.06 2.06-.94-2.06-.94-.94-2.06-.94 2.06-2.06.94zm-11 1L8.5 8.5l.94-2.06 2.06-.94-2.06-.94L8.5 2.5l-.94 2.06-2.06.94zm10 10l.94 2.06.94-2.06 2.06-.94-2.06-.94-.94-2.06-.94 2.06-2.06.94z\"/><path d=\"M17.41 7.96l-1.37-1.37c-.4-.4-.92-.59-1.43-.59-.52 0-1.04.2-1.43.59L10.3 9.45l-7.72 7.72c-.78.78-.78 2.05 0 2.83L4 21.41c.39.39.9.59 1.41.59.51 0 1.02-.2 1.41-.59l7.78-7.78 2.81-2.81c.8-.78.8-2.07 0-2.86zM5.41 20L4 18.59l7.72-7.72 1.47 1.35L5.41 20z\"/>\n",
              "  </svg>\n",
              "      </button>\n",
              "      \n",
              "  <style>\n",
              "    .colab-df-container {\n",
              "      display:flex;\n",
              "      flex-wrap:wrap;\n",
              "      gap: 12px;\n",
              "    }\n",
              "\n",
              "    .colab-df-convert {\n",
              "      background-color: #E8F0FE;\n",
              "      border: none;\n",
              "      border-radius: 50%;\n",
              "      cursor: pointer;\n",
              "      display: none;\n",
              "      fill: #1967D2;\n",
              "      height: 32px;\n",
              "      padding: 0 0 0 0;\n",
              "      width: 32px;\n",
              "    }\n",
              "\n",
              "    .colab-df-convert:hover {\n",
              "      background-color: #E2EBFA;\n",
              "      box-shadow: 0px 1px 2px rgba(60, 64, 67, 0.3), 0px 1px 3px 1px rgba(60, 64, 67, 0.15);\n",
              "      fill: #174EA6;\n",
              "    }\n",
              "\n",
              "    [theme=dark] .colab-df-convert {\n",
              "      background-color: #3B4455;\n",
              "      fill: #D2E3FC;\n",
              "    }\n",
              "\n",
              "    [theme=dark] .colab-df-convert:hover {\n",
              "      background-color: #434B5C;\n",
              "      box-shadow: 0px 1px 3px 1px rgba(0, 0, 0, 0.15);\n",
              "      filter: drop-shadow(0px 1px 2px rgba(0, 0, 0, 0.3));\n",
              "      fill: #FFFFFF;\n",
              "    }\n",
              "  </style>\n",
              "\n",
              "      <script>\n",
              "        const buttonEl =\n",
              "          document.querySelector('#df-3b870f23-dfd3-4b21-90b1-bdf088d171fc button.colab-df-convert');\n",
              "        buttonEl.style.display =\n",
              "          google.colab.kernel.accessAllowed ? 'block' : 'none';\n",
              "\n",
              "        async function convertToInteractive(key) {\n",
              "          const element = document.querySelector('#df-3b870f23-dfd3-4b21-90b1-bdf088d171fc');\n",
              "          const dataTable =\n",
              "            await google.colab.kernel.invokeFunction('convertToInteractive',\n",
              "                                                     [key], {});\n",
              "          if (!dataTable) return;\n",
              "\n",
              "          const docLinkHtml = 'Like what you see? Visit the ' +\n",
              "            '<a target=\"_blank\" href=https://colab.research.google.com/notebooks/data_table.ipynb>data table notebook</a>'\n",
              "            + ' to learn more about interactive tables.';\n",
              "          element.innerHTML = '';\n",
              "          dataTable['output_type'] = 'display_data';\n",
              "          await google.colab.output.renderOutput(dataTable, element);\n",
              "          const docLink = document.createElement('div');\n",
              "          docLink.innerHTML = docLinkHtml;\n",
              "          element.appendChild(docLink);\n",
              "        }\n",
              "      </script>\n",
              "    </div>\n",
              "  </div>\n",
              "  "
            ]
          },
          "metadata": {},
          "execution_count": 7
        }
      ]
    },
    {
      "cell_type": "code",
      "source": [],
      "metadata": {
        "id": "HpkW3Wb8dm2C"
      },
      "execution_count": null,
      "outputs": []
    },
    {
      "cell_type": "code",
      "source": [],
      "metadata": {
        "id": "0hHlpfvgdmrX"
      },
      "execution_count": null,
      "outputs": []
    },
    {
      "cell_type": "code",
      "source": [],
      "metadata": {
        "id": "NpRjvk6udmo2"
      },
      "execution_count": null,
      "outputs": []
    },
    {
      "cell_type": "code",
      "source": [],
      "metadata": {
        "id": "xmUEyhZEdmly"
      },
      "execution_count": null,
      "outputs": []
    },
    {
      "cell_type": "code",
      "source": [],
      "metadata": {
        "id": "SJ7yR2xBdmjj"
      },
      "execution_count": null,
      "outputs": []
    },
    {
      "cell_type": "code",
      "source": [],
      "metadata": {
        "id": "SHExXCbndmgm"
      },
      "execution_count": null,
      "outputs": []
    },
    {
      "cell_type": "code",
      "source": [],
      "metadata": {
        "id": "FU-T8M0udmeS"
      },
      "execution_count": null,
      "outputs": []
    }
  ]
}